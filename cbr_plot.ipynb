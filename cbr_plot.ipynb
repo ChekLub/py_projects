{
 "cells": [
  {
   "cell_type": "markdown",
   "id": "1a1f70f5",
   "metadata": {},
   "source": [
    "Построить график курса доллара, евро или йены за желаемый период, начиная с 01.01.2019"
   ]
  },
  {
   "cell_type": "code",
   "execution_count": 62,
   "id": "885b2809",
   "metadata": {},
   "outputs": [],
   "source": [
    "import datetime\n",
    "from dateutil.parser import parse \n",
    "import requests\n",
    "import xml.etree.ElementTree as ET\n",
    "import ipywidgets as ipw\n",
    "import numpy as np\n",
    "import matplotlib.pyplot as plt"
   ]
  },
  {
   "cell_type": "code",
   "execution_count": 263,
   "id": "3f01e566",
   "metadata": {},
   "outputs": [],
   "source": [
    "def get_val(date_start, date_end, currency_key):\n",
    "    \n",
    "    date_start = date_start.isoformat()[0:11].split('-')\n",
    "    date_start = f\"{date_start[2]}/{date_start[1]}/{date_start[0]}\"\n",
    "    \n",
    "    date_end = date_end.isoformat()[0:11].split('-')\n",
    "    date_end = f\"{date_end[2]}/{date_end[1]}/{date_end[0]}\"\n",
    "\n",
    "    currency = {'USD': 'R01235',\n",
    "               'EUR': 'R01239',\n",
    "               'JPY': 'R01820' \n",
    "               }\n",
    "    params = {'date_req1': date_start,\n",
    "             'date_req2' : date_end,\n",
    "             'VAL_NM_RQ' : currency[currency_key]}\n",
    "    url = 'http://www.cbr.ru/scripts/XML_dynamic.asp'\n",
    "    r = requests.get(url, params=params)\n",
    "    \n",
    "    root = ET.fromstring(r.text)\n",
    "    n = len(root)\n",
    "    dates = [] \n",
    "    val_curs = np.empty((n, 1),  np.float32)\n",
    "    \n",
    "    for i, child in enumerate(root):\n",
    "        date = child.attrib['Date']\n",
    "        dates.append(parse(date, dayfirst=True).date())\n",
    "        val_curs[i] = float(child.find('Value').text.replace(',','.'))\n",
    "    \n",
    "    return dates, val_curs;   "
   ]
  },
  {
   "cell_type": "code",
   "execution_count": 274,
   "id": "c5e2c340",
   "metadata": {},
   "outputs": [],
   "source": [
    "def plot_val_currency(date_start, date_end, currency):\n",
    "    date, val_cur = get_val(date_start, date_end, currency[0])\n",
    "    n = len(val_cur)\n",
    "    val_currencyes = np.empty([n, len(currency)])\n",
    "    val_currencyes[:, 0] = val_cur[:, 0]\n",
    "    \n",
    "    plt.plot(date, val_currencyes[:, 0])\n",
    "    \n",
    "    i = 1\n",
    "    while i < len(currency): \n",
    "        _, val_cur = get_val(date_start, date_end, currency[i])\n",
    "        val_currencyes[:, i] = val_cur[:, 0]\n",
    "        plt.plot(date, val_currencyes[:, i])\n",
    "        i += 1\n",
    "    \n",
    "    plt.grid()\n",
    "    plt.xlim(min(date), max(date))\n",
    "    plt.xticks(rotation=60)\n",
    "    plt.xticks(minor=True)\n",
    "    plt.ylabel('Курс в рублях')\n",
    "    plt.xlabel('Дата')\n",
    "    plt.legend(currency)\n",
    "    \n",
    "    for i, curr in enumerate(currency):\n",
    "        val_max = round(np.max(val_currencyes[:, i]), 4)\n",
    "        date_max = date[np.argmax(val_currencyes[:, i])]\n",
    "        print(f'Максимальная цена {curr} = {val_max} была {date_max} ')\n",
    "        \n",
    "        val_min = round(np.min(val_currencyes[:, i]), 4)\n",
    "        date_min = date[np.argmin(val_currencyes[:, i])]\n",
    "        print(f'Минимальная цена {curr} = {val_min} была {date_min} \\n ')"
   ]
  },
  {
   "cell_type": "code",
   "execution_count": 261,
   "id": "d972cf06",
   "metadata": {},
   "outputs": [
    {
     "data": {
      "application/vnd.jupyter.widget-view+json": {
       "model_id": "261db22924d6415d8c39048272dc2a3d",
       "version_major": 2,
       "version_minor": 0
      },
      "text/plain": [
       "SelectMultiple(description='currency', index=(0,), options=('USD', 'EUR', 'JPY'), value=('USD',))"
      ]
     },
     "execution_count": 261,
     "metadata": {},
     "output_type": "execute_result"
    }
   ],
   "source": [
    "widget_currency = widgets.SelectMultiple(\n",
    "    options=['USD', 'EUR', 'JPY'],\n",
    "    value=['USD'],\n",
    "    #rows=10,\n",
    "    description='currency',\n",
    "    disabled=False\n",
    ")\n",
    "widget_currency"
   ]
  },
  {
   "cell_type": "code",
   "execution_count": 31,
   "id": "e09162f4",
   "metadata": {},
   "outputs": [
    {
     "data": {
      "text/plain": [
       "datetime.date(2019, 1, 1)"
      ]
     },
     "execution_count": 31,
     "metadata": {},
     "output_type": "execute_result"
    }
   ],
   "source": [
    "widget_date_start = ipw.DatePicker(description = 'Pick date start:', value=datetime.date(2019, 1, 1))\n",
    "widget_date_start"
   ]
  },
  {
   "cell_type": "code",
   "execution_count": 32,
   "id": "6ffa18fc",
   "metadata": {
    "scrolled": true
   },
   "outputs": [
    {
     "data": {
      "text/plain": [
       "datetime.date(2023, 3, 9)"
      ]
     },
     "execution_count": 32,
     "metadata": {},
     "output_type": "execute_result"
    }
   ],
   "source": [
    "widget_date_end = ipw.DatePicker(description='Pick date end:', value=datetime.date.today())\n",
    "widget_date_end"
   ]
  },
  {
   "cell_type": "code",
   "execution_count": 275,
   "id": "059b6462",
   "metadata": {},
   "outputs": [
    {
     "data": {
      "application/vnd.jupyter.widget-view+json": {
       "model_id": "fc331055ea7b4f75bc632145aa1e038e",
       "version_major": 2,
       "version_minor": 0
      },
      "text/plain": [
       "interactive(children=(DatePicker(value=datetime.date(2019, 1, 1), description='Pick date start:', step=1), Dat…"
      ]
     },
     "metadata": {},
     "output_type": "display_data"
    }
   ],
   "source": [
    "ip = ipw.interact(plot_val_currency, \n",
    "            date_start = widget_date_start,\n",
    "            date_end = widget_date_end,\n",
    "            currency = widget_currency)"
   ]
  }
 ],
 "metadata": {
  "kernelspec": {
   "display_name": "Python 3 (ipykernel)",
   "language": "python",
   "name": "python3"
  },
  "language_info": {
   "codemirror_mode": {
    "name": "ipython",
    "version": 3
   },
   "file_extension": ".py",
   "mimetype": "text/x-python",
   "name": "python",
   "nbconvert_exporter": "python",
   "pygments_lexer": "ipython3",
   "version": "3.10.6"
  }
 },
 "nbformat": 4,
 "nbformat_minor": 5
}
