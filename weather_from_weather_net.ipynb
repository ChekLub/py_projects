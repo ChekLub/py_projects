{
 "cells": [
  {
   "cell_type": "markdown",
   "id": "e820831d",
   "metadata": {},
   "source": [
    "1 meteostat.net\n",
    "получить погоду за указанный пользователем период времени в Москве\n",
    "а) получить данные с сервера\n",
    "\n",
    "в) составить датафрейм с погодами за указанный период\n",
    "дата, мин, макс, сред\n",
    "\n",
    "г) составить данные по месяцам\n",
    "мин - min\n",
    "макс - max\n",
    "сред - mean\n",
    "\n",
    "д) составить среднюю температуру с промежутком с 30 минут, заполнив пробелы методом linear или cubic или каким-то другим\n",
    "и построить на графике за какой-то один день, выбранный пользователем"
   ]
  },
  {
   "cell_type": "code",
   "execution_count": 2,
   "id": "1ff6b8d6",
   "metadata": {},
   "outputs": [],
   "source": [
    "import numpy as np\n",
    "import pandas as pd\n",
    "import datetime as dt\n",
    "import get_weather\n",
    "import ipywidgets as ipw\n",
    "from matplotlib import pyplot as plt"
   ]
  },
  {
   "cell_type": "code",
   "execution_count": 3,
   "id": "7aaeefae",
   "metadata": {},
   "outputs": [],
   "source": [
    "def weather(date_start, date_end, date_detailed):\n",
    "    \n",
    "    dates, temps = get_weather.get_weather_data(date_start, date_end)\n",
    "    temps_df = pd.DataFrame({'t_min': temps[:, 0], 't_max': temps[:, 1], 't_avg': temps[:, 2]}, index=pd.to_datetime(dates))\n",
    "    \n",
    "    temp_months = temps_df.resample('MS').agg(\n",
    "        {\n",
    "            't_min': np.min,\n",
    "            't_max': np.max,\n",
    "            't_avg': np.mean\n",
    "        })\n",
    "    \n",
    "    plt.subplot(211)\n",
    "    temps_df['t_min'].plot(grid=True, figsize=(10, 5), fontsize=8)\n",
    "    temps_df['t_max'].plot(grid=True, color='red')\n",
    "    plt.legend(['Мин температура', 'Макс температура'])\n",
    "    \n",
    "    plt.subplot(223)\n",
    "    temp_months['t_avg'].plot(grid=True)\n",
    "    plt.legend(['Среднемесячная температура'])\n",
    "    \n",
    "    \n",
    "    if temps_df.index.min() < pd.to_datetime(date_detailed) < temps_df.index.max():\n",
    "        temps_detaled = temps_df['t_avg'].resample('30min').interpolate(method='cubic')\n",
    "        plt.subplot(224)\n",
    "        temps_detaled.loc[str(date_detailed)].plot(grid=True)\n",
    "        plt.legend([f'Средняя температура {date_detailed} '])\n",
    "    else:\n",
    "        print('Нет данных')"
   ]
  },
  {
   "cell_type": "code",
   "execution_count": 4,
   "id": "d735af8f",
   "metadata": {},
   "outputs": [],
   "source": [
    "date_picker_start = ipw.DatePicker(description = 'date start:', value=dt.date(2019, 1, 1))\n"
   ]
  },
  {
   "cell_type": "code",
   "execution_count": 5,
   "id": "94ce7c82",
   "metadata": {},
   "outputs": [],
   "source": [
    "date_picker_end = ipw.DatePicker(description='date end:', value=dt.date.today() - dt.timedelta(days=1))"
   ]
  },
  {
   "cell_type": "code",
   "execution_count": 6,
   "id": "6f7f5544",
   "metadata": {
    "scrolled": true
   },
   "outputs": [],
   "source": [
    "date_picker = ipw.DatePicker(description= 'day detailed',\n",
    "                            value = dt.date.today() - dt.timedelta(days=2))"
   ]
  },
  {
   "cell_type": "code",
   "execution_count": 7,
   "id": "6e9cf209",
   "metadata": {},
   "outputs": [
    {
     "data": {
      "application/vnd.jupyter.widget-view+json": {
       "model_id": "8bd7b269a7fe48568a79b15d26cca3af",
       "version_major": 2,
       "version_minor": 0
      },
      "text/plain": [
       "interactive(children=(DatePicker(value=datetime.date(2019, 1, 1), description='date start:', step=1), DatePick…"
      ]
     },
     "metadata": {},
     "output_type": "display_data"
    },
    {
     "data": {
      "text/plain": [
       "<function __main__.weather(date_start, date_end, date_detailed)>"
      ]
     },
     "execution_count": 7,
     "metadata": {},
     "output_type": "execute_result"
    }
   ],
   "source": [
    "ipw.interact(weather,\n",
    "             date_start = date_picker_start,\n",
    "             date_end = date_picker_end, \n",
    "             date_detailed = date_picker)"
   ]
  }
 ],
 "metadata": {
  "kernelspec": {
   "display_name": "Python 3 (ipykernel)",
   "language": "python",
   "name": "python3"
  },
  "language_info": {
   "codemirror_mode": {
    "name": "ipython",
    "version": 3
   },
   "file_extension": ".py",
   "mimetype": "text/x-python",
   "name": "python",
   "nbconvert_exporter": "python",
   "pygments_lexer": "ipython3",
   "version": "3.10.6"
  }
 },
 "nbformat": 4,
 "nbformat_minor": 5
}
