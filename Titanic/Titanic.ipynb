{
  "nbformat": 4,
  "nbformat_minor": 0,
  "metadata": {
    "colab": {
      "provenance": [],
      "toc_visible": true
    },
    "kernelspec": {
      "name": "python3",
      "display_name": "Python 3"
    },
    "language_info": {
      "name": "python"
    }
  },
  "cells": [
    {
      "cell_type": "code",
      "execution_count": 1,
      "metadata": {
        "id": "CKORzQCXYtxW"
      },
      "outputs": [],
      "source": [
        "import pandas as pd\n",
        "import numpy as np\n",
        "from matplotlib import pyplot as plt\n",
        "import seaborn as sns"
      ]
    },
    {
      "cell_type": "markdown",
      "source": [
        "# Загрузка и изучение данных"
      ],
      "metadata": {
        "id": "_yaS0JAqYLyi"
      }
    },
    {
      "cell_type": "code",
      "source": [
        "data = pd.read_csv('/content/train.csv')\n",
        "data.head(2)"
      ],
      "metadata": {
        "colab": {
          "base_uri": "https://localhost:8080/",
          "height": 190
        },
        "id": "FsofHAWaY4nc",
        "outputId": "fc3da0e8-0665-4e3f-adae-eee541f35a0d"
      },
      "execution_count": 179,
      "outputs": [
        {
          "output_type": "execute_result",
          "data": {
            "text/plain": [
              "   PassengerId  Survived  Pclass  \\\n",
              "0            1         0       3   \n",
              "1            2         1       1   \n",
              "\n",
              "                                                Name     Sex   Age  SibSp  \\\n",
              "0                            Braund, Mr. Owen Harris    male  22.0      1   \n",
              "1  Cumings, Mrs. John Bradley (Florence Briggs Th...  female  38.0      1   \n",
              "\n",
              "   Parch     Ticket     Fare Cabin Embarked  \n",
              "0      0  A/5 21171   7.2500   NaN        S  \n",
              "1      0   PC 17599  71.2833   C85        C  "
            ],
            "text/html": [
              "\n",
              "  <div id=\"df-ea707df7-8f4d-413d-8104-7c308983f142\">\n",
              "    <div class=\"colab-df-container\">\n",
              "      <div>\n",
              "<style scoped>\n",
              "    .dataframe tbody tr th:only-of-type {\n",
              "        vertical-align: middle;\n",
              "    }\n",
              "\n",
              "    .dataframe tbody tr th {\n",
              "        vertical-align: top;\n",
              "    }\n",
              "\n",
              "    .dataframe thead th {\n",
              "        text-align: right;\n",
              "    }\n",
              "</style>\n",
              "<table border=\"1\" class=\"dataframe\">\n",
              "  <thead>\n",
              "    <tr style=\"text-align: right;\">\n",
              "      <th></th>\n",
              "      <th>PassengerId</th>\n",
              "      <th>Survived</th>\n",
              "      <th>Pclass</th>\n",
              "      <th>Name</th>\n",
              "      <th>Sex</th>\n",
              "      <th>Age</th>\n",
              "      <th>SibSp</th>\n",
              "      <th>Parch</th>\n",
              "      <th>Ticket</th>\n",
              "      <th>Fare</th>\n",
              "      <th>Cabin</th>\n",
              "      <th>Embarked</th>\n",
              "    </tr>\n",
              "  </thead>\n",
              "  <tbody>\n",
              "    <tr>\n",
              "      <th>0</th>\n",
              "      <td>1</td>\n",
              "      <td>0</td>\n",
              "      <td>3</td>\n",
              "      <td>Braund, Mr. Owen Harris</td>\n",
              "      <td>male</td>\n",
              "      <td>22.0</td>\n",
              "      <td>1</td>\n",
              "      <td>0</td>\n",
              "      <td>A/5 21171</td>\n",
              "      <td>7.2500</td>\n",
              "      <td>NaN</td>\n",
              "      <td>S</td>\n",
              "    </tr>\n",
              "    <tr>\n",
              "      <th>1</th>\n",
              "      <td>2</td>\n",
              "      <td>1</td>\n",
              "      <td>1</td>\n",
              "      <td>Cumings, Mrs. John Bradley (Florence Briggs Th...</td>\n",
              "      <td>female</td>\n",
              "      <td>38.0</td>\n",
              "      <td>1</td>\n",
              "      <td>0</td>\n",
              "      <td>PC 17599</td>\n",
              "      <td>71.2833</td>\n",
              "      <td>C85</td>\n",
              "      <td>C</td>\n",
              "    </tr>\n",
              "  </tbody>\n",
              "</table>\n",
              "</div>\n",
              "      <button class=\"colab-df-convert\" onclick=\"convertToInteractive('df-ea707df7-8f4d-413d-8104-7c308983f142')\"\n",
              "              title=\"Convert this dataframe to an interactive table.\"\n",
              "              style=\"display:none;\">\n",
              "        \n",
              "  <svg xmlns=\"http://www.w3.org/2000/svg\" height=\"24px\"viewBox=\"0 0 24 24\"\n",
              "       width=\"24px\">\n",
              "    <path d=\"M0 0h24v24H0V0z\" fill=\"none\"/>\n",
              "    <path d=\"M18.56 5.44l.94 2.06.94-2.06 2.06-.94-2.06-.94-.94-2.06-.94 2.06-2.06.94zm-11 1L8.5 8.5l.94-2.06 2.06-.94-2.06-.94L8.5 2.5l-.94 2.06-2.06.94zm10 10l.94 2.06.94-2.06 2.06-.94-2.06-.94-.94-2.06-.94 2.06-2.06.94z\"/><path d=\"M17.41 7.96l-1.37-1.37c-.4-.4-.92-.59-1.43-.59-.52 0-1.04.2-1.43.59L10.3 9.45l-7.72 7.72c-.78.78-.78 2.05 0 2.83L4 21.41c.39.39.9.59 1.41.59.51 0 1.02-.2 1.41-.59l7.78-7.78 2.81-2.81c.8-.78.8-2.07 0-2.86zM5.41 20L4 18.59l7.72-7.72 1.47 1.35L5.41 20z\"/>\n",
              "  </svg>\n",
              "      </button>\n",
              "      \n",
              "  <style>\n",
              "    .colab-df-container {\n",
              "      display:flex;\n",
              "      flex-wrap:wrap;\n",
              "      gap: 12px;\n",
              "    }\n",
              "\n",
              "    .colab-df-convert {\n",
              "      background-color: #E8F0FE;\n",
              "      border: none;\n",
              "      border-radius: 50%;\n",
              "      cursor: pointer;\n",
              "      display: none;\n",
              "      fill: #1967D2;\n",
              "      height: 32px;\n",
              "      padding: 0 0 0 0;\n",
              "      width: 32px;\n",
              "    }\n",
              "\n",
              "    .colab-df-convert:hover {\n",
              "      background-color: #E2EBFA;\n",
              "      box-shadow: 0px 1px 2px rgba(60, 64, 67, 0.3), 0px 1px 3px 1px rgba(60, 64, 67, 0.15);\n",
              "      fill: #174EA6;\n",
              "    }\n",
              "\n",
              "    [theme=dark] .colab-df-convert {\n",
              "      background-color: #3B4455;\n",
              "      fill: #D2E3FC;\n",
              "    }\n",
              "\n",
              "    [theme=dark] .colab-df-convert:hover {\n",
              "      background-color: #434B5C;\n",
              "      box-shadow: 0px 1px 3px 1px rgba(0, 0, 0, 0.15);\n",
              "      filter: drop-shadow(0px 1px 2px rgba(0, 0, 0, 0.3));\n",
              "      fill: #FFFFFF;\n",
              "    }\n",
              "  </style>\n",
              "\n",
              "      <script>\n",
              "        const buttonEl =\n",
              "          document.querySelector('#df-ea707df7-8f4d-413d-8104-7c308983f142 button.colab-df-convert');\n",
              "        buttonEl.style.display =\n",
              "          google.colab.kernel.accessAllowed ? 'block' : 'none';\n",
              "\n",
              "        async function convertToInteractive(key) {\n",
              "          const element = document.querySelector('#df-ea707df7-8f4d-413d-8104-7c308983f142');\n",
              "          const dataTable =\n",
              "            await google.colab.kernel.invokeFunction('convertToInteractive',\n",
              "                                                     [key], {});\n",
              "          if (!dataTable) return;\n",
              "\n",
              "          const docLinkHtml = 'Like what you see? Visit the ' +\n",
              "            '<a target=\"_blank\" href=https://colab.research.google.com/notebooks/data_table.ipynb>data table notebook</a>'\n",
              "            + ' to learn more about interactive tables.';\n",
              "          element.innerHTML = '';\n",
              "          dataTable['output_type'] = 'display_data';\n",
              "          await google.colab.output.renderOutput(dataTable, element);\n",
              "          const docLink = document.createElement('div');\n",
              "          docLink.innerHTML = docLinkHtml;\n",
              "          element.appendChild(docLink);\n",
              "        }\n",
              "      </script>\n",
              "    </div>\n",
              "  </div>\n",
              "  "
            ]
          },
          "metadata": {},
          "execution_count": 179
        }
      ]
    },
    {
      "cell_type": "code",
      "source": [
        "data.info()"
      ],
      "metadata": {
        "colab": {
          "base_uri": "https://localhost:8080/"
        },
        "id": "FJbYREYwZJ0s",
        "outputId": "5b80f280-2e4b-4cc0-9059-6f9b6bed077c"
      },
      "execution_count": 126,
      "outputs": [
        {
          "output_type": "stream",
          "name": "stdout",
          "text": [
            "<class 'pandas.core.frame.DataFrame'>\n",
            "RangeIndex: 891 entries, 0 to 890\n",
            "Data columns (total 12 columns):\n",
            " #   Column       Non-Null Count  Dtype  \n",
            "---  ------       --------------  -----  \n",
            " 0   PassengerId  891 non-null    int64  \n",
            " 1   Survived     891 non-null    int64  \n",
            " 2   Pclass       891 non-null    int64  \n",
            " 3   Name         891 non-null    object \n",
            " 4   Sex          891 non-null    object \n",
            " 5   Age          714 non-null    float64\n",
            " 6   SibSp        891 non-null    int64  \n",
            " 7   Parch        891 non-null    int64  \n",
            " 8   Ticket       891 non-null    object \n",
            " 9   Fare         891 non-null    float64\n",
            " 10  Cabin        204 non-null    object \n",
            " 11  Embarked     889 non-null    object \n",
            "dtypes: float64(2), int64(5), object(5)\n",
            "memory usage: 83.7+ KB\n"
          ]
        }
      ]
    },
    {
      "cell_type": "code",
      "source": [
        "headers = data.columns\n",
        "target = 'Survived'\n",
        "headers = headers.drop('Survived')\n",
        "headers = headers.drop('PassengerId')\n",
        "num_cols = []\n",
        "cat_cols = []\n",
        "for head in headers:\n",
        "  num_cols.append(head) if data[head].dtype != 'object' else cat_cols.append(head)\n",
        "print(f'num_cols: {num_cols}, cat_cols: {cat_cols}')"
      ],
      "metadata": {
        "colab": {
          "base_uri": "https://localhost:8080/"
        },
        "id": "L-dhupSfaV4g",
        "outputId": "63705625-173c-4451-e4a9-2c1af1eae142"
      },
      "execution_count": 180,
      "outputs": [
        {
          "output_type": "stream",
          "name": "stdout",
          "text": [
            "num_cols: ['Pclass', 'Age', 'SibSp', 'Parch', 'Fare'], cat_cols: ['Name', 'Sex', 'Ticket', 'Cabin', 'Embarked']\n"
          ]
        }
      ]
    },
    {
      "cell_type": "markdown",
      "source": [
        "Хоть признаки 'Pclass', 'SibSp', 'Parch' кажутся, на первый взгляд, числовыми, они все же являются категориальными. Перенесем их в разряд категориальных. Числовыми останутся только Age и Fare."
      ],
      "metadata": {
        "id": "iZ5T5fgjracs"
      }
    },
    {
      "cell_type": "code",
      "source": [
        "cat_cols.append('Pclass')\n",
        "num_cols.remove('Pclass')\n",
        "cat_cols.append('SibSp')\n",
        "num_cols.remove('SibSp')\n",
        "cat_cols.append('Parch')\n",
        "num_cols.remove('Parch')"
      ],
      "metadata": {
        "id": "F5fvSHgHrZZt"
      },
      "execution_count": 181,
      "outputs": []
    },
    {
      "cell_type": "code",
      "source": [
        "nans = data.isna().sum()\n",
        "nans = nans[nans != 0]\n",
        "print(f'Признаки, имеющие пропуски в данных:\\n{nans}')"
      ],
      "metadata": {
        "colab": {
          "base_uri": "https://localhost:8080/"
        },
        "id": "zFJu0x8Irxma",
        "outputId": "9a0eb5bb-e9fa-48a2-a2fe-792b3f7aaccf"
      },
      "execution_count": 182,
      "outputs": [
        {
          "output_type": "stream",
          "name": "stdout",
          "text": [
            "Признаки, имеющие пропуски в данных:\n",
            "Age         177\n",
            "Cabin       687\n",
            "Embarked      2\n",
            "dtype: int64\n"
          ]
        }
      ]
    },
    {
      "cell_type": "markdown",
      "source": [
        "Много пропусков у признаков Age (почти 20 %) и Cabin (76%). \n",
        "Признак Cabin не будем интерполировать этот признак и уберем из рассмотрения, потому что, во-первых, пропусков слишком много (76%), во-вторых, по смыслу этот признак может описать класс пассажира Pclass. \n",
        "С возрастом попробуем несколько вариантов: 1) заменить средним значением, 2) убрать значения с Nan, 3) убрать возраст из пространства признаков"
      ],
      "metadata": {
        "id": "My7ZXjPYuNRI"
      }
    },
    {
      "cell_type": "markdown",
      "source": [
        "## Карта корреляции"
      ],
      "metadata": {
        "id": "bTVFbVvjYU7G"
      }
    },
    {
      "cell_type": "markdown",
      "source": [
        "Построим карту корреляции числовых признаков"
      ],
      "metadata": {
        "id": "8ErotPmDwMav"
      }
    },
    {
      "cell_type": "code",
      "source": [
        "#matrix = np.triu(data.corr())\n",
        "X_corr = pd.concat([data[num_cols], data[target]], axis=1)\n",
        "sns.heatmap(X_corr.corr(), annot=True, fmt='.2g', vmin=-1, vmax=1, center=0, cmap='seismic', linewidths=2, linecolor='black', cbar=True) #, mask=matrix)"
      ],
      "metadata": {
        "colab": {
          "base_uri": "https://localhost:8080/",
          "height": 452
        },
        "id": "wLgSNz7_f1x2",
        "outputId": "2356a516-6fc2-491f-f764-fad65ba5e01e"
      },
      "execution_count": 183,
      "outputs": [
        {
          "output_type": "execute_result",
          "data": {
            "text/plain": [
              "<Axes: >"
            ]
          },
          "metadata": {},
          "execution_count": 183
        },
        {
          "output_type": "display_data",
          "data": {
            "text/plain": [
              "<Figure size 640x480 with 2 Axes>"
            ],
            "image/png": "[encoded data removed]"
          },
          "metadata": {}
        }
      ]
    },
    {
      "cell_type": "markdown",
      "source": [
        "Из карты корреляции видно, что на выживаемость незначительно влияет платежеспособность, а от возраста выживаемость совсем не зависит.\n",
        "Платежеспособность связана с классом, поэтому оставим на рассмотрение класс пассажира в категориальных признаках, а платежность из числовых исключим."
      ],
      "metadata": {
        "id": "oeXrRv2UwLtc"
      }
    },
    {
      "cell_type": "markdown",
      "source": [
        "Построим гистограммы числовых признаков"
      ],
      "metadata": {
        "id": "5NswRSYoxCaQ"
      }
    },
    {
      "cell_type": "code",
      "source": [
        "import matplotlib.patches as mpatches\n",
        "import matplotlib.pyplot as plt\n",
        "\n",
        "data[num_cols][data[target]==0].hist(bins=20)\n",
        "patch = mpatches.Patch(label='not surv')\n",
        "plt.legend(handles=[patch])\n",
        "\n",
        "data[num_cols][data[target]==1].hist(bins=20)\n",
        "patch = mpatches.Patch(label='surv')\n",
        "plt.legend(handles=[patch])"
      ],
      "metadata": {
        "colab": {
          "base_uri": "https://localhost:8080/",
          "height": 904
        },
        "id": "A_HeCRv9oZ0P",
        "outputId": "7a46eddd-fd0f-4f68-9fc5-60ef806e168e"
      },
      "execution_count": 184,
      "outputs": [
        {
          "output_type": "execute_result",
          "data": {
            "text/plain": [
              "<matplotlib.legend.Legend at 0x7f13c8de4f70>"
            ]
          },
          "metadata": {},
          "execution_count": 184
        },
        {
          "output_type": "display_data",
          "data": {
            "text/plain": [
              "<Figure size 640x480 with 2 Axes>"
            ],
            "image/png": "[encoded data removed]"
          },
          "metadata": {}
        },
        {
          "output_type": "display_data",
          "data": {
            "text/plain": [
              "<Figure size 640x480 with 2 Axes>"
            ],
            "image/png": "[encoded data removed]"
          },
          "metadata": {}
        }
      ]
    },
    {
      "cell_type": "code",
      "source": [
        "num_cols.remove('Fare')"
      ],
      "metadata": {
        "id": "NkaxV6cZ-URG"
      },
      "execution_count": 132,
      "outputs": []
    },
    {
      "cell_type": "markdown",
      "source": [
        "## Гистограммы катгориальных признаков"
      ],
      "metadata": {
        "id": "p1SRhwOBYf3N"
      }
    },
    {
      "cell_type": "markdown",
      "source": [
        "Построим гистограммы категориальных признаков. Сразу уберем из признаков Name, Ticket,\tCabin\tEmbarked"
      ],
      "metadata": {
        "id": "x9Y-xiQZw6AD"
      }
    },
    {
      "cell_type": "code",
      "source": [
        "cat_cols.remove('Name')\n",
        "cat_cols.remove('Ticket')\n",
        "cat_cols.remove('Cabin')\n",
        "cat_cols.remove('Embarked')"
      ],
      "metadata": {
        "id": "IKhloCVPxnNj"
      },
      "execution_count": 185,
      "outputs": []
    },
    {
      "cell_type": "code",
      "source": [
        "data_surv = data[cat_cols]#[data[target]==1] \n",
        "data_surv = pd.concat([data_surv, data[target]], axis=1)\n",
        "\n",
        "n = 3\n",
        "n_subplots = int(np.ceil(len(cat_cols)/n))\n",
        "for i in range(len(cat_cols)):\n",
        "  plt.subplot(n_subplots, n, i+1, in_layout=True)\n",
        "  plt.tight_layout()\n",
        "  ds = data_surv[[cat_cols[i], target]].groupby(target).value_counts()\n",
        "  n_cat = int(len(ds.index)/2)\n",
        "  color = n_cat*['black'] + n_cat*['green']\n",
        "  ds.plot.barh(figsize=(14, 10), ylabel=cat_cols[i], color=color)\n"
      ],
      "metadata": {
        "colab": {
          "base_uri": "https://localhost:8080/",
          "height": 711
        },
        "id": "emb2t1eto6qc",
        "outputId": "e800c751-7512-403d-a50d-6265e8827168"
      },
      "execution_count": 186,
      "outputs": [
        {
          "output_type": "display_data",
          "data": {
            "text/plain": [
              "<Figure size 1400x1000 with 4 Axes>"
            ],
            "image/png": "[encoded data removed]"
          },
          "metadata": {}
        }
      ]
    },
    {
      "cell_type": "markdown",
      "source": [
        "По графикам категориальных признаков можем сказать, что погибло:\n",
        "- значительно больше мужчин, чем женщин\n",
        "- много представителей 3 класса\n",
        "- много одиноких людей"
      ],
      "metadata": {
        "id": "kgJrRQjg7251"
      }
    },
    {
      "cell_type": "code",
      "source": [
        "X = pd.concat([data[num_cols], data[cat_cols]], axis = 1)\n",
        "Y = data[target]"
      ],
      "metadata": {
        "id": "oFbpxYrN9m0M"
      },
      "execution_count": 218,
      "outputs": []
    },
    {
      "cell_type": "markdown",
      "source": [
        "# Пайплайны логистической регрессии и случайного леса"
      ],
      "metadata": {
        "id": "zEhSYGk7YnWJ"
      }
    },
    {
      "cell_type": "markdown",
      "source": [
        "Построим пайплайн для логистической регрессии"
      ],
      "metadata": {
        "id": "n4oOgLq0Njpz"
      }
    },
    {
      "cell_type": "code",
      "source": [
        "from sklearn.model_selection  import train_test_split\n",
        "from sklearn.linear_model import LogisticRegression\n",
        "from sklearn.metrics import roc_auc_score\n",
        "from sklearn.preprocessing import StandardScaler\n",
        "from sklearn.compose import ColumnTransformer\n",
        "from sklearn.preprocessing import OneHotEncoder\n",
        "from sklearn.pipeline import Pipeline\n",
        "from sklearn.model_selection import GridSearchCV"
      ],
      "metadata": {
        "id": "-X20DDugKexN"
      },
      "execution_count": 190,
      "outputs": []
    },
    {
      "cell_type": "code",
      "source": [
        "preproc = ColumnTransformer([\n",
        "    ('num', StandardScaler(), num_cols),\n",
        "    ('cat', OneHotEncoder(handle_unknown='ignore', sparse=False, drop='if_binary'), cat_cols)],\n",
        "     verbose_feature_names_out = False)\n",
        "\n",
        "lrmodel = Pipeline(steps=[\n",
        "    ('enc', preproc), \n",
        "    ('alg', LogisticRegression())\n",
        "    ])\n",
        "\n",
        "params = {\n",
        "    'alg__C': [0.01, 0.1, 1, 5], \n",
        "    'alg__penalty':['l2'],  \n",
        "    'alg__solver':['liblinear'], \n",
        "    'alg__class_weight':['balanced']\n",
        "}\n",
        "\n",
        "lr =  GridSearchCV(lrmodel, params, cv=5, verbose=0, n_jobs=-1, scoring='roc_auc')"
      ],
      "metadata": {
        "id": "_3ULALlhZSJh"
      },
      "execution_count": 140,
      "outputs": []
    },
    {
      "cell_type": "markdown",
      "source": [
        "Построим пайплан для случайного леса"
      ],
      "metadata": {
        "id": "zCqFxxFIN4oz"
      }
    },
    {
      "cell_type": "code",
      "source": [
        "from sklearn.ensemble import RandomForestClassifier\n",
        "from sklearn.pipeline import make_pipeline\n",
        "\n",
        "preproc = ColumnTransformer([\n",
        "    ('num', StandardScaler(), num_cols),\n",
        "    ('cat', OneHotEncoder(handle_unknown='ignore', sparse=False, drop='if_binary'), cat_cols)],\n",
        "     verbose_feature_names_out = False)\n",
        "\n",
        "forest = make_pipeline(preproc, \n",
        "                       RandomForestClassifier(n_estimators=100, max_depth=5, random_state=1))"
      ],
      "metadata": {
        "id": "p_g-TtBxOCCc"
      },
      "execution_count": null,
      "outputs": []
    },
    {
      "cell_type": "markdown",
      "source": [
        "# Оставить ли Age в качестве признака?"
      ],
      "metadata": {
        "id": "64QvS6FuYxfo"
      }
    },
    {
      "cell_type": "markdown",
      "source": [
        "Проверим, влияет ли Age на предскавзание"
      ],
      "metadata": {
        "id": "6IULd8T7OJR8"
      }
    },
    {
      "cell_type": "markdown",
      "source": [
        "### Замена пропусков средним"
      ],
      "metadata": {
        "id": "h5dVyyy_Y9S_"
      }
    },
    {
      "cell_type": "code",
      "source": [
        "X['Age'].fillna(X['Age'].mean(), inplace=True)\n",
        "x_tr, x_tst, y_tr, y_tst = train_test_split(X, Y, test_size=0.2, random_state=42)"
      ],
      "metadata": {
        "id": "-YV_uHGFOVmm"
      },
      "execution_count": 219,
      "outputs": []
    },
    {
      "cell_type": "code",
      "source": [
        "forest = forest.fit(x_tr, y_tr)\n",
        "\n",
        "y_predict_age_mean = forest.predict(x_tst)\n",
        "roc_auc_age_mean = roc_auc_score(y_tst, y_predict_age_mean)\n",
        "print(roc_auc_age_mean)"
      ],
      "metadata": {
        "colab": {
          "base_uri": "https://localhost:8080/"
        },
        "id": "UA3yJIu9OG8c",
        "outputId": "0ef10bee-1529-4139-eb39-8b70fbea319d"
      },
      "execution_count": 220,
      "outputs": [
        {
          "output_type": "stream",
          "name": "stderr",
          "text": [
            "/usr/local/lib/python3.9/dist-packages/sklearn/preprocessing/_encoders.py:868: FutureWarning: `sparse` was renamed to `sparse_output` in version 1.2 and will be removed in 1.4. `sparse_output` is ignored unless you leave `sparse` to its default value.\n",
            "  warnings.warn(\n"
          ]
        },
        {
          "output_type": "stream",
          "name": "stdout",
          "text": [
            "0.7651866151866152\n"
          ]
        }
      ]
    },
    {
      "cell_type": "markdown",
      "source": [
        "### Исключение Age из пространства признаков"
      ],
      "metadata": {
        "id": "AkzdOFLCZDLB"
      }
    },
    {
      "cell_type": "code",
      "source": [
        "x_tr.drop(['Age'], axis=1, inplace=True)\n",
        "x_tst.drop(['Age'], axis=1, inplace=True)"
      ],
      "metadata": {
        "id": "Chn92aPpNrcJ"
      },
      "execution_count": 221,
      "outputs": []
    },
    {
      "cell_type": "code",
      "source": [
        "forest = forest.fit(x_tr, y_tr)\n",
        "\n",
        "y_predict_not_age = forest.predict(x_tst)\n",
        "roc_auc_not_age = roc_auc_score(y_tst, y_predict_not_age)\n",
        "print(roc_auc_not_age)"
      ],
      "metadata": {
        "colab": {
          "base_uri": "https://localhost:8080/"
        },
        "id": "Rwbktm1E_ggP",
        "outputId": "6f5ce2f2-55cb-46a8-ad2c-541eac4ea747"
      },
      "execution_count": 222,
      "outputs": [
        {
          "output_type": "stream",
          "name": "stderr",
          "text": [
            "/usr/local/lib/python3.9/dist-packages/sklearn/preprocessing/_encoders.py:868: FutureWarning: `sparse` was renamed to `sparse_output` in version 1.2 and will be removed in 1.4. `sparse_output` is ignored unless you leave `sparse` to its default value.\n",
            "  warnings.warn(\n"
          ]
        },
        {
          "output_type": "stream",
          "name": "stdout",
          "text": [
            "0.7651866151866152\n"
          ]
        }
      ]
    },
    {
      "cell_type": "markdown",
      "source": [
        "### dropna из всех признаков"
      ],
      "metadata": {
        "id": "PmHZu46OZKYM"
      }
    },
    {
      "cell_type": "code",
      "source": [
        "X = pd.concat([data[num_cols], data[cat_cols], data[target]], axis = 1)\n",
        "X.dropna(how='any', inplace=True)\n",
        "Y = X[target]\n",
        "X.drop('Survived', axis=1, inplace=True)\n",
        "x_tr, x_tst, y_tr, y_tst = train_test_split(X, Y, test_size=0.2, random_state=42)"
      ],
      "metadata": {
        "id": "lHzL-0cxP4tc"
      },
      "execution_count": 228,
      "outputs": []
    },
    {
      "cell_type": "code",
      "source": [
        "forest = forest.fit(x_tr, y_tr)\n",
        "\n",
        "y_predict_dropna = forest.predict(x_tst)\n",
        "roc_auc_dropna = roc_auc_score(y_tst, y_predict_dropna)\n",
        "print(roc_auc_dropna)"
      ],
      "metadata": {
        "colab": {
          "base_uri": "https://localhost:8080/"
        },
        "id": "0cbBp57rQf3O",
        "outputId": "260f2700-e706-4602-94d1-f6cdc92bc337"
      },
      "execution_count": 229,
      "outputs": [
        {
          "output_type": "stream",
          "name": "stderr",
          "text": [
            "/usr/local/lib/python3.9/dist-packages/sklearn/preprocessing/_encoders.py:868: FutureWarning: `sparse` was renamed to `sparse_output` in version 1.2 and will be removed in 1.4. `sparse_output` is ignored unless you leave `sparse` to its default value.\n",
            "  warnings.warn(\n"
          ]
        },
        {
          "output_type": "stream",
          "name": "stdout",
          "text": [
            "0.7346059113300493\n"
          ]
        }
      ]
    },
    {
      "cell_type": "markdown",
      "source": [
        "### Сравнение и заключение по Age"
      ],
      "metadata": {
        "id": "pNK9VYMPZTwL"
      }
    },
    {
      "cell_type": "code",
      "source": [
        "print(f'roc_auc age_mean: {roc_auc_age_mean}\\n without age {roc_auc_not_age}\\n dropna {roc_auc_dropna}')"
      ],
      "metadata": {
        "colab": {
          "base_uri": "https://localhost:8080/"
        },
        "id": "Yvk0-lDtQqh8",
        "outputId": "57690d57-2dad-4d25-db8e-5fbe19106ea6"
      },
      "execution_count": 230,
      "outputs": [
        {
          "output_type": "stream",
          "name": "stdout",
          "text": [
            "roc_auc age_mean: 0.7651866151866152\n",
            " without age 0.7651866151866152\n",
            " dropna 0.7346059113300493\n"
          ]
        }
      ]
    },
    {
      "cell_type": "markdown",
      "source": [
        "Видно, что исключение измерений с nan из всей таблицы признаков ухудшает предсказание, что ожидаемо. \n",
        "Замена пропусков возраста средним не дает прибавки к точности предсказания в сравнении с предсказанием без учета возраста. Тогда исключим столбец Age и выполним предсказание тестовых данных."
      ],
      "metadata": {
        "id": "u7CmsGoFR0oW"
      }
    },
    {
      "cell_type": "markdown",
      "source": [
        "# Обучение моделей и предсказание на тестовых данных"
      ],
      "metadata": {
        "id": "uGOETVspZdIJ"
      }
    },
    {
      "cell_type": "code",
      "source": [
        "X = pd.concat([data[num_cols], data[cat_cols]], axis = 1)\n",
        "X.drop(['Age'], axis=1, inplace=True)\n",
        "Y = data[target]"
      ],
      "metadata": {
        "id": "FDvCb0SjShwB"
      },
      "execution_count": 231,
      "outputs": []
    },
    {
      "cell_type": "code",
      "source": [
        "lr.fit(X, Y)"
      ],
      "metadata": {
        "colab": {
          "base_uri": "https://localhost:8080/",
          "height": 270
        },
        "id": "GRH_yFCs1Efo",
        "outputId": "ab72150d-c607-4ce9-edd0-a9868dfedf8b"
      },
      "execution_count": 232,
      "outputs": [
        {
          "output_type": "stream",
          "name": "stderr",
          "text": [
            "/usr/local/lib/python3.9/dist-packages/sklearn/preprocessing/_encoders.py:868: FutureWarning: `sparse` was renamed to `sparse_output` in version 1.2 and will be removed in 1.4. `sparse_output` is ignored unless you leave `sparse` to its default value.\n",
            "  warnings.warn(\n"
          ]
        },
        {
          "output_type": "execute_result",
          "data": {
            "text/plain": [
              "GridSearchCV(cv=5,\n",
              "             estimator=Pipeline(steps=[('enc',\n",
              "                                        ColumnTransformer(transformers=[('num',\n",
              "                                                                         StandardScaler(),\n",
              "                                                                         []),\n",
              "                                                                        ('cat',\n",
              "                                                                         OneHotEncoder(drop='if_binary',\n",
              "                                                                                       handle_unknown='ignore',\n",
              "                                                                                       sparse=False),\n",
              "                                                                         ['Sex',\n",
              "                                                                          'Pclass',\n",
              "                                                                          'SibSp',\n",
              "                                                                          'Parch'])],\n",
              "                                                          verbose_feature_names_out=False)),\n",
              "                                       ('alg', LogisticRegression())]),\n",
              "             n_jobs=-1,\n",
              "             param_grid={'alg__C': [0.01, 0.1, 1, 5],\n",
              "                         'alg__class_weight': ['balanced'],\n",
              "                         'alg__penalty': ['l2'], 'alg__solver': ['liblinear']},\n",
              "             scoring='roc_auc')"
            ],
            "text/html": [
              "<style>#sk-container-id-2 {color: black;background-color: white;}#sk-container-id-2 pre{padding: 0;}#sk-container-id-2 div.sk-toggleable {background-color: white;}#sk-container-id-2 label.sk-toggleable__label {cursor: pointer;display: block;width: 100%;margin-bottom: 0;padding: 0.3em;box-sizing: border-box;text-align: center;}#sk-container-id-2 label.sk-toggleable__label-arrow:before {content: \"▸\";float: left;margin-right: 0.25em;color: #696969;}#sk-container-id-2 label.sk-toggleable__label-arrow:hover:before {color: black;}#sk-container-id-2 div.sk-estimator:hover label.sk-toggleable__label-arrow:before {color: black;}#sk-container-id-2 div.sk-toggleable__content {max-height: 0;max-width: 0;overflow: hidden;text-align: left;background-color: #f0f8ff;}#sk-container-id-2 div.sk-toggleable__content pre {margin: 0.2em;color: black;border-radius: 0.25em;background-color: #f0f8ff;}#sk-container-id-2 input.sk-toggleable__control:checked~div.sk-toggleable__content {max-height: 200px;max-width: 100%;overflow: auto;}#sk-container-id-2 input.sk-toggleable__control:checked~label.sk-toggleable__label-arrow:before {content: \"▾\";}#sk-container-id-2 div.sk-estimator input.sk-toggleable__control:checked~label.sk-toggleable__label {background-color: #d4ebff;}#sk-container-id-2 div.sk-label input.sk-toggleable__control:checked~label.sk-toggleable__label {background-color: #d4ebff;}#sk-container-id-2 input.sk-hidden--visually {border: 0;clip: rect(1px 1px 1px 1px);clip: rect(1px, 1px, 1px, 1px);height: 1px;margin: -1px;overflow: hidden;padding: 0;position: absolute;width: 1px;}#sk-container-id-2 div.sk-estimator {font-family: monospace;background-color: #f0f8ff;border: 1px dotted black;border-radius: 0.25em;box-sizing: border-box;margin-bottom: 0.5em;}#sk-container-id-2 div.sk-estimator:hover {background-color: #d4ebff;}#sk-container-id-2 div.sk-parallel-item::after {content: \"\";width: 100%;border-bottom: 1px solid gray;flex-grow: 1;}#sk-container-id-2 div.sk-label:hover label.sk-toggleable__label {background-color: #d4ebff;}#sk-container-id-2 div.sk-serial::before {content: \"\";position: absolute;border-left: 1px solid gray;box-sizing: border-box;top: 0;bottom: 0;left: 50%;z-index: 0;}#sk-container-id-2 div.sk-serial {display: flex;flex-direction: column;align-items: center;background-color: white;padding-right: 0.2em;padding-left: 0.2em;position: relative;}#sk-container-id-2 div.sk-item {position: relative;z-index: 1;}#sk-container-id-2 div.sk-parallel {display: flex;align-items: stretch;justify-content: center;background-color: white;position: relative;}#sk-container-id-2 div.sk-item::before, #sk-container-id-2 div.sk-parallel-item::before {content: \"\";position: absolute;border-left: 1px solid gray;box-sizing: border-box;top: 0;bottom: 0;left: 50%;z-index: -1;}#sk-container-id-2 div.sk-parallel-item {display: flex;flex-direction: column;z-index: 1;position: relative;background-color: white;}#sk-container-id-2 div.sk-parallel-item:first-child::after {align-self: flex-end;width: 50%;}#sk-container-id-2 div.sk-parallel-item:last-child::after {align-self: flex-start;width: 50%;}#sk-container-id-2 div.sk-parallel-item:only-child::after {width: 0;}#sk-container-id-2 div.sk-dashed-wrapped {border: 1px dashed gray;margin: 0 0.4em 0.5em 0.4em;box-sizing: border-box;padding-bottom: 0.4em;background-color: white;}#sk-container-id-2 div.sk-label label {font-family: monospace;font-weight: bold;display: inline-block;line-height: 1.2em;}#sk-container-id-2 div.sk-label-container {text-align: center;}#sk-container-id-2 div.sk-container {/* jupyter's `normalize.less` sets `[hidden] { display: none; }` but bootstrap.min.css set `[hidden] { display: none !important; }` so we also need the `!important` here to be able to override the default hidden behavior on the sphinx rendered scikit-learn.org. See: https://github.com/scikit-learn/scikit-learn/issues/21755 */display: inline-block !important;position: relative;}#sk-container-id-2 div.sk-text-repr-fallback {display: none;}</style><div id=\"sk-container-id-2\" class=\"sk-top-container\"><div class=\"sk-text-repr-fallback\"><pre>GridSearchCV(cv=5,\n",
              "             estimator=Pipeline(steps=[(&#x27;enc&#x27;,\n",
              "                                        ColumnTransformer(transformers=[(&#x27;num&#x27;,\n",
              "                                                                         StandardScaler(),\n",
              "                                                                         []),\n",
              "                                                                        (&#x27;cat&#x27;,\n",
              "                                                                         OneHotEncoder(drop=&#x27;if_binary&#x27;,\n",
              "                                                                                       handle_unknown=&#x27;ignore&#x27;,\n",
              "                                                                                       sparse=False),\n",
              "                                                                         [&#x27;Sex&#x27;,\n",
              "                                                                          &#x27;Pclass&#x27;,\n",
              "                                                                          &#x27;SibSp&#x27;,\n",
              "                                                                          &#x27;Parch&#x27;])],\n",
              "                                                          verbose_feature_names_out=False)),\n",
              "                                       (&#x27;alg&#x27;, LogisticRegression())]),\n",
              "             n_jobs=-1,\n",
              "             param_grid={&#x27;alg__C&#x27;: [0.01, 0.1, 1, 5],\n",
              "                         &#x27;alg__class_weight&#x27;: [&#x27;balanced&#x27;],\n",
              "                         &#x27;alg__penalty&#x27;: [&#x27;l2&#x27;], &#x27;alg__solver&#x27;: [&#x27;liblinear&#x27;]},\n",
              "             scoring=&#x27;roc_auc&#x27;)</pre><b>In a Jupyter environment, please rerun this cell to show the HTML representation or trust the notebook. <br />On GitHub, the HTML representation is unable to render, please try loading this page with nbviewer.org.</b></div><div class=\"sk-container\" hidden><div class=\"sk-item sk-dashed-wrapped\"><div class=\"sk-label-container\"><div class=\"sk-label sk-toggleable\"><input class=\"sk-toggleable__control sk-hidden--visually\" id=\"sk-estimator-id-9\" type=\"checkbox\" ><label for=\"sk-estimator-id-9\" class=\"sk-toggleable__label sk-toggleable__label-arrow\">GridSearchCV</label><div class=\"sk-toggleable__content\"><pre>GridSearchCV(cv=5,\n",
              "             estimator=Pipeline(steps=[(&#x27;enc&#x27;,\n",
              "                                        ColumnTransformer(transformers=[(&#x27;num&#x27;,\n",
              "                                                                         StandardScaler(),\n",
              "                                                                         []),\n",
              "                                                                        (&#x27;cat&#x27;,\n",
              "                                                                         OneHotEncoder(drop=&#x27;if_binary&#x27;,\n",
              "                                                                                       handle_unknown=&#x27;ignore&#x27;,\n",
              "                                                                                       sparse=False),\n",
              "                                                                         [&#x27;Sex&#x27;,\n",
              "                                                                          &#x27;Pclass&#x27;,\n",
              "                                                                          &#x27;SibSp&#x27;,\n",
              "                                                                          &#x27;Parch&#x27;])],\n",
              "                                                          verbose_feature_names_out=False)),\n",
              "                                       (&#x27;alg&#x27;, LogisticRegression())]),\n",
              "             n_jobs=-1,\n",
              "             param_grid={&#x27;alg__C&#x27;: [0.01, 0.1, 1, 5],\n",
              "                         &#x27;alg__class_weight&#x27;: [&#x27;balanced&#x27;],\n",
              "                         &#x27;alg__penalty&#x27;: [&#x27;l2&#x27;], &#x27;alg__solver&#x27;: [&#x27;liblinear&#x27;]},\n",
              "             scoring=&#x27;roc_auc&#x27;)</pre></div></div></div><div class=\"sk-parallel\"><div class=\"sk-parallel-item\"><div class=\"sk-item\"><div class=\"sk-label-container\"><div class=\"sk-label sk-toggleable\"><input class=\"sk-toggleable__control sk-hidden--visually\" id=\"sk-estimator-id-10\" type=\"checkbox\" ><label for=\"sk-estimator-id-10\" class=\"sk-toggleable__label sk-toggleable__label-arrow\">estimator: Pipeline</label><div class=\"sk-toggleable__content\"><pre>Pipeline(steps=[(&#x27;enc&#x27;,\n",
              "                 ColumnTransformer(transformers=[(&#x27;num&#x27;, StandardScaler(), []),\n",
              "                                                 (&#x27;cat&#x27;,\n",
              "                                                  OneHotEncoder(drop=&#x27;if_binary&#x27;,\n",
              "                                                                handle_unknown=&#x27;ignore&#x27;,\n",
              "                                                                sparse=False),\n",
              "                                                  [&#x27;Sex&#x27;, &#x27;Pclass&#x27;, &#x27;SibSp&#x27;,\n",
              "                                                   &#x27;Parch&#x27;])],\n",
              "                                   verbose_feature_names_out=False)),\n",
              "                (&#x27;alg&#x27;, LogisticRegression())])</pre></div></div></div><div class=\"sk-serial\"><div class=\"sk-item\"><div class=\"sk-serial\"><div class=\"sk-item sk-dashed-wrapped\"><div class=\"sk-label-container\"><div class=\"sk-label sk-toggleable\"><input class=\"sk-toggleable__control sk-hidden--visually\" id=\"sk-estimator-id-11\" type=\"checkbox\" ><label for=\"sk-estimator-id-11\" class=\"sk-toggleable__label sk-toggleable__label-arrow\">enc: ColumnTransformer</label><div class=\"sk-toggleable__content\"><pre>ColumnTransformer(transformers=[(&#x27;num&#x27;, StandardScaler(), []),\n",
              "                                (&#x27;cat&#x27;,\n",
              "                                 OneHotEncoder(drop=&#x27;if_binary&#x27;,\n",
              "                                               handle_unknown=&#x27;ignore&#x27;,\n",
              "                                               sparse=False),\n",
              "                                 [&#x27;Sex&#x27;, &#x27;Pclass&#x27;, &#x27;SibSp&#x27;, &#x27;Parch&#x27;])],\n",
              "                  verbose_feature_names_out=False)</pre></div></div></div><div class=\"sk-parallel\"><div class=\"sk-parallel-item\"><div class=\"sk-item\"><div class=\"sk-label-container\"><div class=\"sk-label sk-toggleable\"><input class=\"sk-toggleable__control sk-hidden--visually\" id=\"sk-estimator-id-12\" type=\"checkbox\" ><label for=\"sk-estimator-id-12\" class=\"sk-toggleable__label sk-toggleable__label-arrow\">num</label><div class=\"sk-toggleable__content\"><pre>[]</pre></div></div></div><div class=\"sk-serial\"><div class=\"sk-item\"><div class=\"sk-estimator sk-toggleable\"><input class=\"sk-toggleable__control sk-hidden--visually\" id=\"sk-estimator-id-13\" type=\"checkbox\" ><label for=\"sk-estimator-id-13\" class=\"sk-toggleable__label sk-toggleable__label-arrow\">StandardScaler</label><div class=\"sk-toggleable__content\"><pre>StandardScaler()</pre></div></div></div></div></div></div><div class=\"sk-parallel-item\"><div class=\"sk-item\"><div class=\"sk-label-container\"><div class=\"sk-label sk-toggleable\"><input class=\"sk-toggleable__control sk-hidden--visually\" id=\"sk-estimator-id-14\" type=\"checkbox\" ><label for=\"sk-estimator-id-14\" class=\"sk-toggleable__label sk-toggleable__label-arrow\">cat</label><div class=\"sk-toggleable__content\"><pre>[&#x27;Sex&#x27;, &#x27;Pclass&#x27;, &#x27;SibSp&#x27;, &#x27;Parch&#x27;]</pre></div></div></div><div class=\"sk-serial\"><div class=\"sk-item\"><div class=\"sk-estimator sk-toggleable\"><input class=\"sk-toggleable__control sk-hidden--visually\" id=\"sk-estimator-id-15\" type=\"checkbox\" ><label for=\"sk-estimator-id-15\" class=\"sk-toggleable__label sk-toggleable__label-arrow\">OneHotEncoder</label><div class=\"sk-toggleable__content\"><pre>OneHotEncoder(drop=&#x27;if_binary&#x27;, handle_unknown=&#x27;ignore&#x27;, sparse=False)</pre></div></div></div></div></div></div></div></div><div class=\"sk-item\"><div class=\"sk-estimator sk-toggleable\"><input class=\"sk-toggleable__control sk-hidden--visually\" id=\"sk-estimator-id-16\" type=\"checkbox\" ><label for=\"sk-estimator-id-16\" class=\"sk-toggleable__label sk-toggleable__label-arrow\">LogisticRegression</label><div class=\"sk-toggleable__content\"><pre>LogisticRegression()</pre></div></div></div></div></div></div></div></div></div></div></div></div>"
            ]
          },
          "metadata": {},
          "execution_count": 232
        }
      ]
    },
    {
      "cell_type": "code",
      "source": [
        "lr.best_params_"
      ],
      "metadata": {
        "colab": {
          "base_uri": "https://localhost:8080/"
        },
        "id": "rWjryrAebqqs",
        "outputId": "5900b1d4-10f1-4307-b8ed-c0d5d8ea91cf"
      },
      "execution_count": 233,
      "outputs": [
        {
          "output_type": "execute_result",
          "data": {
            "text/plain": [
              "{'alg__C': 1,\n",
              " 'alg__class_weight': 'balanced',\n",
              " 'alg__penalty': 'l2',\n",
              " 'alg__solver': 'liblinear'}"
            ]
          },
          "metadata": {},
          "execution_count": 233
        }
      ]
    },
    {
      "cell_type": "code",
      "source": [
        "forest = forest.fit(X, Y)"
      ],
      "metadata": {
        "colab": {
          "base_uri": "https://localhost:8080/"
        },
        "id": "ZecgIZBgTivo",
        "outputId": "ef285986-7e6b-4144-cad0-e912b923a136"
      },
      "execution_count": 234,
      "outputs": [
        {
          "output_type": "stream",
          "name": "stderr",
          "text": [
            "/usr/local/lib/python3.9/dist-packages/sklearn/preprocessing/_encoders.py:868: FutureWarning: `sparse` was renamed to `sparse_output` in version 1.2 and will be removed in 1.4. `sparse_output` is ignored unless you leave `sparse` to its default value.\n",
            "  warnings.warn(\n"
          ]
        }
      ]
    },
    {
      "cell_type": "code",
      "source": [
        "data_test = pd.read_csv('/content/test.csv')\n",
        "data_test.head(2)"
      ],
      "metadata": {
        "colab": {
          "base_uri": "https://localhost:8080/",
          "height": 112
        },
        "id": "m6DZN-KJ4E7Y",
        "outputId": "69c17143-66b3-42a5-ea37-b58bf7e83b81"
      },
      "execution_count": 235,
      "outputs": [
        {
          "output_type": "execute_result",
          "data": {
            "text/plain": [
              "   PassengerId  Pclass                              Name     Sex   Age  SibSp  \\\n",
              "0          892       3                  Kelly, Mr. James    male  34.5      0   \n",
              "1          893       3  Wilkes, Mrs. James (Ellen Needs)  female  47.0      1   \n",
              "\n",
              "   Parch  Ticket    Fare Cabin Embarked  \n",
              "0      0  330911  7.8292   NaN        Q  \n",
              "1      0  363272  7.0000   NaN        S  "
            ],
            "text/html": [
              "\n",
              "  <div id=\"df-9510c347-7bad-4e19-971f-3cfdb6a8319f\">\n",
              "    <div class=\"colab-df-container\">\n",
              "      <div>\n",
              "<style scoped>\n",
              "    .dataframe tbody tr th:only-of-type {\n",
              "        vertical-align: middle;\n",
              "    }\n",
              "\n",
              "    .dataframe tbody tr th {\n",
              "        vertical-align: top;\n",
              "    }\n",
              "\n",
              "    .dataframe thead th {\n",
              "        text-align: right;\n",
              "    }\n",
              "</style>\n",
              "<table border=\"1\" class=\"dataframe\">\n",
              "  <thead>\n",
              "    <tr style=\"text-align: right;\">\n",
              "      <th></th>\n",
              "      <th>PassengerId</th>\n",
              "      <th>Pclass</th>\n",
              "      <th>Name</th>\n",
              "      <th>Sex</th>\n",
              "      <th>Age</th>\n",
              "      <th>SibSp</th>\n",
              "      <th>Parch</th>\n",
              "      <th>Ticket</th>\n",
              "      <th>Fare</th>\n",
              "      <th>Cabin</th>\n",
              "      <th>Embarked</th>\n",
              "    </tr>\n",
              "  </thead>\n",
              "  <tbody>\n",
              "    <tr>\n",
              "      <th>0</th>\n",
              "      <td>892</td>\n",
              "      <td>3</td>\n",
              "      <td>Kelly, Mr. James</td>\n",
              "      <td>male</td>\n",
              "      <td>34.5</td>\n",
              "      <td>0</td>\n",
              "      <td>0</td>\n",
              "      <td>330911</td>\n",
              "      <td>7.8292</td>\n",
              "      <td>NaN</td>\n",
              "      <td>Q</td>\n",
              "    </tr>\n",
              "    <tr>\n",
              "      <th>1</th>\n",
              "      <td>893</td>\n",
              "      <td>3</td>\n",
              "      <td>Wilkes, Mrs. James (Ellen Needs)</td>\n",
              "      <td>female</td>\n",
              "      <td>47.0</td>\n",
              "      <td>1</td>\n",
              "      <td>0</td>\n",
              "      <td>363272</td>\n",
              "      <td>7.0000</td>\n",
              "      <td>NaN</td>\n",
              "      <td>S</td>\n",
              "    </tr>\n",
              "  </tbody>\n",
              "</table>\n",
              "</div>\n",
              "      <button class=\"colab-df-convert\" onclick=\"convertToInteractive('df-9510c347-7bad-4e19-971f-3cfdb6a8319f')\"\n",
              "              title=\"Convert this dataframe to an interactive table.\"\n",
              "              style=\"display:none;\">\n",
              "        \n",
              "  <svg xmlns=\"http://www.w3.org/2000/svg\" height=\"24px\"viewBox=\"0 0 24 24\"\n",
              "       width=\"24px\">\n",
              "    <path d=\"M0 0h24v24H0V0z\" fill=\"none\"/>\n",
              "    <path d=\"M18.56 5.44l.94 2.06.94-2.06 2.06-.94-2.06-.94-.94-2.06-.94 2.06-2.06.94zm-11 1L8.5 8.5l.94-2.06 2.06-.94-2.06-.94L8.5 2.5l-.94 2.06-2.06.94zm10 10l.94 2.06.94-2.06 2.06-.94-2.06-.94-.94-2.06-.94 2.06-2.06.94z\"/><path d=\"M17.41 7.96l-1.37-1.37c-.4-.4-.92-.59-1.43-.59-.52 0-1.04.2-1.43.59L10.3 9.45l-7.72 7.72c-.78.78-.78 2.05 0 2.83L4 21.41c.39.39.9.59 1.41.59.51 0 1.02-.2 1.41-.59l7.78-7.78 2.81-2.81c.8-.78.8-2.07 0-2.86zM5.41 20L4 18.59l7.72-7.72 1.47 1.35L5.41 20z\"/>\n",
              "  </svg>\n",
              "      </button>\n",
              "      \n",
              "  <style>\n",
              "    .colab-df-container {\n",
              "      display:flex;\n",
              "      flex-wrap:wrap;\n",
              "      gap: 12px;\n",
              "    }\n",
              "\n",
              "    .colab-df-convert {\n",
              "      background-color: #E8F0FE;\n",
              "      border: none;\n",
              "      border-radius: 50%;\n",
              "      cursor: pointer;\n",
              "      display: none;\n",
              "      fill: #1967D2;\n",
              "      height: 32px;\n",
              "      padding: 0 0 0 0;\n",
              "      width: 32px;\n",
              "    }\n",
              "\n",
              "    .colab-df-convert:hover {\n",
              "      background-color: #E2EBFA;\n",
              "      box-shadow: 0px 1px 2px rgba(60, 64, 67, 0.3), 0px 1px 3px 1px rgba(60, 64, 67, 0.15);\n",
              "      fill: #174EA6;\n",
              "    }\n",
              "\n",
              "    [theme=dark] .colab-df-convert {\n",
              "      background-color: #3B4455;\n",
              "      fill: #D2E3FC;\n",
              "    }\n",
              "\n",
              "    [theme=dark] .colab-df-convert:hover {\n",
              "      background-color: #434B5C;\n",
              "      box-shadow: 0px 1px 3px 1px rgba(0, 0, 0, 0.15);\n",
              "      filter: drop-shadow(0px 1px 2px rgba(0, 0, 0, 0.3));\n",
              "      fill: #FFFFFF;\n",
              "    }\n",
              "  </style>\n",
              "\n",
              "      <script>\n",
              "        const buttonEl =\n",
              "          document.querySelector('#df-9510c347-7bad-4e19-971f-3cfdb6a8319f button.colab-df-convert');\n",
              "        buttonEl.style.display =\n",
              "          google.colab.kernel.accessAllowed ? 'block' : 'none';\n",
              "\n",
              "        async function convertToInteractive(key) {\n",
              "          const element = document.querySelector('#df-9510c347-7bad-4e19-971f-3cfdb6a8319f');\n",
              "          const dataTable =\n",
              "            await google.colab.kernel.invokeFunction('convertToInteractive',\n",
              "                                                     [key], {});\n",
              "          if (!dataTable) return;\n",
              "\n",
              "          const docLinkHtml = 'Like what you see? Visit the ' +\n",
              "            '<a target=\"_blank\" href=https://colab.research.google.com/notebooks/data_table.ipynb>data table notebook</a>'\n",
              "            + ' to learn more about interactive tables.';\n",
              "          element.innerHTML = '';\n",
              "          dataTable['output_type'] = 'display_data';\n",
              "          await google.colab.output.renderOutput(dataTable, element);\n",
              "          const docLink = document.createElement('div');\n",
              "          docLink.innerHTML = docLinkHtml;\n",
              "          element.appendChild(docLink);\n",
              "        }\n",
              "      </script>\n",
              "    </div>\n",
              "  </div>\n",
              "  "
            ]
          },
          "metadata": {},
          "execution_count": 235
        }
      ]
    },
    {
      "cell_type": "code",
      "source": [
        "X_test = pd.concat([data_test[num_cols], data_test[cat_cols]], axis=1)\n",
        "X_test.drop(['Age'], axis=1, inplace=True)\n",
        "\n",
        "y_test_pred_lr = lr.predict(X_test)\n",
        "y_test_pred_lr;"
      ],
      "metadata": {
        "id": "t66XIC6Q4Uz4"
      },
      "execution_count": 238,
      "outputs": []
    },
    {
      "cell_type": "code",
      "source": [
        "submis = pd.read_csv('/content/gender_submission.csv')\n",
        "submis['Survived'] = y_test_pred_lr\n",
        "submis.to_csv('/content/gender_submission_lr.csv', index=False)"
      ],
      "metadata": {
        "id": "n6Rode-H94DW"
      },
      "execution_count": 242,
      "outputs": []
    },
    {
      "cell_type": "code",
      "source": [
        "y_test_pred_forest = forest.predict(X_test)\n",
        "\n",
        "submis = pd.read_csv('/content/gender_submission.csv')\n",
        "submis['Survived'] = y_test_pred_forest\n",
        "submis.to_csv('/content/gender_submission_forest.csv', index=False)"
      ],
      "metadata": {
        "id": "lE1hWnIRUYf2"
      },
      "execution_count": 253,
      "outputs": []
    },
    {
      "cell_type": "code",
      "source": [
        "sum(abs(y_test_pred_forest - y_test_pred_lr))/len(y_test_pred_forest) # Разница между прогнозом логрегресии и леса"
      ],
      "metadata": {
        "colab": {
          "base_uri": "https://localhost:8080/"
        },
        "id": "fJ2-qhy9_FXO",
        "outputId": "75b953b9-5c11-46e2-d58c-6f191fae8243"
      },
      "execution_count": 254,
      "outputs": [
        {
          "output_type": "execute_result",
          "data": {
            "text/plain": [
              "0.09330143540669857"
            ]
          },
          "metadata": {},
          "execution_count": 254
        }
      ]
    },
    {
      "cell_type": "markdown",
      "source": [
        "Случайный лес дал лучшую оценку 0,769 на kaggle"
      ],
      "metadata": {
        "id": "HQDHdZBtXWuM"
      }
    }
  ]
}