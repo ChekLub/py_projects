{
 "cells": [
  {
   "cell_type": "markdown",
   "id": "e5ca4d7f-f6de-46cc-832b-66278db30d0d",
   "metadata": {},
   "source": [
    "Итак, что нужно сделать: у нас есть данные АА-теста с '2023-06-23' по '2023-06-29'. Вам нужно сделать симуляцию, как будто мы провели 10000 АА-тестов. На каждой итерации вам нужно сформировать подвыборки без повторения в 500 юзеров из 2 и 3 экспериментальной группы. Провести сравнение этих подвыборок t-testом.\n",
    "\n",
    "1. Построить гистограмму распределения получившихся 10000 p-values.\n",
    "\n",
    "2. Посчитать, какой процент p values оказался меньше либо равен 0.05\n",
    "\n",
    "3. Написать вывод по проведенному АА-тесту, корректно ли работает наша система сплитования."
   ]
  },
  {
   "cell_type": "code",
   "execution_count": 6,
   "id": "75e7db08-b6eb-48a4-a221-74f67eec2f1d",
   "metadata": {},
   "outputs": [
    {
     "name": "stdout",
     "output_type": "stream",
     "text": [
      "\u001b[31mERROR: Could not find a version that satisfies the requirement hashlib (from versions: 20081119)\u001b[0m\u001b[31m\n",
      "\u001b[0m\u001b[31mERROR: No matching distribution found for hashlib\u001b[0m\u001b[31m\n",
      "\u001b[0mNote: you may need to restart the kernel to use updated packages.\n",
      "Requirement already satisfied: scipy in /opt/conda/lib/python3.8/site-packages (1.9.1)\n",
      "Requirement already satisfied: numpy<1.25.0,>=1.18.5 in /opt/conda/lib/python3.8/site-packages (from scipy) (1.21.1)\n",
      "Note: you may need to restart the kernel to use updated packages.\n"
     ]
    }
   ],
   "source": [
    "%pip install pandahouse\n",
    "%pip install seaborn\n",
    "%pip install swifter\n",
    "%pip install scipy"
   ]
  },
  {
   "cell_type": "code",
   "execution_count": 1,
   "id": "63493b20-235d-4bd9-b50f-33ab9da6025b",
   "metadata": {},
   "outputs": [],
   "source": [
    "import pandas as pd\n",
    "import pandahouse \n",
    "import seaborn as sns\n",
    "import matplotlib.pyplot as plt\n",
    "import numpy as np\n",
    "import swifter\n",
    "import hashlib\n",
    "from scipy import stats\n",
    "%matplotlib inline"
   ]
  },
  {
   "cell_type": "code",
   "execution_count": 99,
   "id": "655bd510-98d6-4eec-a59c-fe8cd25dbbc1",
   "metadata": {},
   "outputs": [],
   "source": [
    "connection = {\n",
    "    'host': 'https://clickhouse.lab.karpov.courses',\n",
    "    'password': '********',\n",
    "    'user': '********',\n",
    "    'database': 'simulator_20230720'\n",
    "}\n",
    "\n",
    "q = \"\"\"\n",
    "SELECT  DISTINCT user_id ,\n",
    "        exp_group,\n",
    "        sum(action = 'like') likes,\n",
    "        sum(action = 'view') views,\n",
    "        likes/views ctr\n",
    "FROM simulator_20230720.feed_actions \n",
    "WHERE toDate(time) >= '2023-06-23' AND toDate(time) <= '2023-06-29'\n",
    "GROUP by exp_group, user_id\n",
    "HAVING exp_group in (2, 3)\n",
    "\"\"\"\n",
    "\n",
    "users_df = pandahouse.read_clickhouse(q,  connection=connection)\n",
    "#users_df = pandahouse.read_clickhouse(q, index_col='user_id', connection=connection)"
   ]
  },
  {
   "cell_type": "code",
   "execution_count": 148,
   "id": "851cbee9-08b3-49d7-b29a-db0ddba58b18",
   "metadata": {},
   "outputs": [
    {
     "data": {
      "text/html": [
       "<div>\n",
       "<style scoped>\n",
       "    .dataframe tbody tr th:only-of-type {\n",
       "        vertical-align: middle;\n",
       "    }\n",
       "\n",
       "    .dataframe tbody tr th {\n",
       "        vertical-align: top;\n",
       "    }\n",
       "\n",
       "    .dataframe thead th {\n",
       "        text-align: right;\n",
       "    }\n",
       "</style>\n",
       "<table border=\"1\" class=\"dataframe\">\n",
       "  <thead>\n",
       "    <tr style=\"text-align: right;\">\n",
       "      <th></th>\n",
       "      <th>user_id</th>\n",
       "      <th>exp_group</th>\n",
       "      <th>likes</th>\n",
       "      <th>views</th>\n",
       "      <th>ctr</th>\n",
       "    </tr>\n",
       "  </thead>\n",
       "  <tbody>\n",
       "    <tr>\n",
       "      <th>0</th>\n",
       "      <td>115383</td>\n",
       "      <td>3</td>\n",
       "      <td>38</td>\n",
       "      <td>248</td>\n",
       "      <td>0.153226</td>\n",
       "    </tr>\n",
       "    <tr>\n",
       "      <th>1</th>\n",
       "      <td>10326</td>\n",
       "      <td>3</td>\n",
       "      <td>24</td>\n",
       "      <td>132</td>\n",
       "      <td>0.181818</td>\n",
       "    </tr>\n",
       "    <tr>\n",
       "      <th>2</th>\n",
       "      <td>123580</td>\n",
       "      <td>3</td>\n",
       "      <td>25</td>\n",
       "      <td>122</td>\n",
       "      <td>0.204918</td>\n",
       "    </tr>\n",
       "    <tr>\n",
       "      <th>3</th>\n",
       "      <td>131473</td>\n",
       "      <td>2</td>\n",
       "      <td>19</td>\n",
       "      <td>98</td>\n",
       "      <td>0.193878</td>\n",
       "    </tr>\n",
       "    <tr>\n",
       "      <th>4</th>\n",
       "      <td>23985</td>\n",
       "      <td>2</td>\n",
       "      <td>12</td>\n",
       "      <td>44</td>\n",
       "      <td>0.272727</td>\n",
       "    </tr>\n",
       "  </tbody>\n",
       "</table>\n",
       "</div>"
      ],
      "text/plain": [
       "   user_id  exp_group  likes  views       ctr\n",
       "0   115383          3     38    248  0.153226\n",
       "1    10326          3     24    132  0.181818\n",
       "2   123580          3     25    122  0.204918\n",
       "3   131473          2     19     98  0.193878\n",
       "4    23985          2     12     44  0.272727"
      ]
     },
     "execution_count": 148,
     "metadata": {},
     "output_type": "execute_result"
    }
   ],
   "source": [
    "users_df.head(5)"
   ]
  },
  {
   "cell_type": "code",
   "execution_count": 149,
   "id": "efe301a4-0afb-48ac-8e76-cd531fa4bd58",
   "metadata": {},
   "outputs": [
    {
     "name": "stdout",
     "output_type": "stream",
     "text": [
      "Количественное соотношение юзеров в интересующих группах (2, 3):\n"
     ]
    },
    {
     "data": {
      "text/html": [
       "<div>\n",
       "<style scoped>\n",
       "    .dataframe tbody tr th:only-of-type {\n",
       "        vertical-align: middle;\n",
       "    }\n",
       "\n",
       "    .dataframe tbody tr th {\n",
       "        vertical-align: top;\n",
       "    }\n",
       "\n",
       "    .dataframe thead th {\n",
       "        text-align: right;\n",
       "    }\n",
       "</style>\n",
       "<table border=\"1\" class=\"dataframe\">\n",
       "  <thead>\n",
       "    <tr style=\"text-align: right;\">\n",
       "      <th></th>\n",
       "      <th>user_id</th>\n",
       "      <th>likes</th>\n",
       "      <th>views</th>\n",
       "      <th>ctr</th>\n",
       "    </tr>\n",
       "    <tr>\n",
       "      <th>exp_group</th>\n",
       "      <th></th>\n",
       "      <th></th>\n",
       "      <th></th>\n",
       "      <th></th>\n",
       "    </tr>\n",
       "  </thead>\n",
       "  <tbody>\n",
       "    <tr>\n",
       "      <th>2</th>\n",
       "      <td>8362</td>\n",
       "      <td>8362</td>\n",
       "      <td>8362</td>\n",
       "      <td>8362</td>\n",
       "    </tr>\n",
       "    <tr>\n",
       "      <th>3</th>\n",
       "      <td>8425</td>\n",
       "      <td>8425</td>\n",
       "      <td>8425</td>\n",
       "      <td>8425</td>\n",
       "    </tr>\n",
       "  </tbody>\n",
       "</table>\n",
       "</div>"
      ],
      "text/plain": [
       "           user_id  likes  views   ctr\n",
       "exp_group                             \n",
       "2             8362   8362   8362  8362\n",
       "3             8425   8425   8425  8425"
      ]
     },
     "execution_count": 149,
     "metadata": {},
     "output_type": "execute_result"
    }
   ],
   "source": [
    "print(f'Количественное соотношение юзеров в интересующих группах (2, 3):')\n",
    "users_df.groupby('exp_group').count()"
   ]
  },
  {
   "cell_type": "markdown",
   "id": "194ee1da-680e-4223-bc78-f1a9750b29c8",
   "metadata": {},
   "source": [
    "Сделаем отдельно одну итерацию симуляции АА-теста, чтобы убедиться в работе алгоритма."
   ]
  },
  {
   "cell_type": "code",
   "execution_count": 117,
   "id": "33f9586e-5db2-4529-bf33-3d1e7d686a18",
   "metadata": {},
   "outputs": [
    {
     "data": {
      "image/png": "[encoded data removed]",
      "text/plain": [
       "<Figure size 842.4x595.44 with 1 Axes>"
      ]
     },
     "metadata": {},
     "output_type": "display_data"
    }
   ],
   "source": [
    "# Сформируем по одной подвыборке из групп 2 и 3 размером 500 без возврата\n",
    "ctr_2 = users_df[users_df['exp_group'] == 2].ctr.sample(500, replace=False)\n",
    "ctr_3 = users_df[users_df['exp_group'] == 3].ctr.sample(500, replace=False)\n",
    "\n",
    "# Нарисуем ctr для подвыборок \n",
    "\n",
    "sns.set(rc={'figure.figsize':(11.7,8.27)})\n",
    "groups = sns.histplot(data = pd.concat([users_df[['exp_group', 'ctr']].loc[ctr_2.index],\n",
    "                                        users_df[['exp_group', 'ctr']].loc[ctr_3.index]], axis=0), \n",
    "              x='ctr', \n",
    "              hue='exp_group', \n",
    "              palette = ['r', 'b'],\n",
    "              alpha=0.5,\n",
    "              kde=False)"
   ]
  },
  {
   "cell_type": "markdown",
   "id": "a568000e-81b8-4922-9ae1-8c5bba441a51",
   "metadata": {},
   "source": [
    "Подвыборки наслаиваются, в целом, хорошо повторяют друг друга. Убедимся в этом численно. "
   ]
  },
  {
   "cell_type": "code",
   "execution_count": 124,
   "id": "81982a46-45f7-4372-8a3d-4496048ec810",
   "metadata": {},
   "outputs": [
    {
     "data": {
      "text/plain": [
       "Ttest_indResult(statistic=0.5464432999527556, pvalue=0.5848835384995946)"
      ]
     },
     "execution_count": 124,
     "metadata": {},
     "output_type": "execute_result"
    }
   ],
   "source": [
    "t_test = stats.ttest_ind(ctr_2,\n",
    "                         ctr_3,\n",
    "                         equal_var=False)\n",
    "t_test"
   ]
  },
  {
   "cell_type": "markdown",
   "id": "1cdf1e6a-4bcb-4d5e-ad84-7e6b25916d63",
   "metadata": {},
   "source": [
    "Проведем 10000 АА-тестов"
   ]
  },
  {
   "cell_type": "code",
   "execution_count": 142,
   "id": "bb235d90-e7bc-469c-b6f7-2edfc22970d1",
   "metadata": {},
   "outputs": [],
   "source": [
    "n = 10000\n",
    "t_test = np.zeros([n, 2])\n",
    "for i in range(0, n):\n",
    "    ctr_2 = users_df[users_df['exp_group'] == 2].ctr.sample(500, replace=False)\n",
    "    ctr_3 = users_df[users_df['exp_group'] == 3].ctr.sample(500, replace=False)\n",
    "\n",
    "    t_test[i, 0], t_test[i, 1] = stats.ttest_ind(ctr_2, ctr_3, equal_var=False)"
   ]
  },
  {
   "cell_type": "markdown",
   "id": "c546c1d5-3c8d-4d45-bf13-1b4de0a4b741",
   "metadata": {},
   "source": [
    "Распредление p-value по итогам тестов"
   ]
  },
  {
   "cell_type": "code",
   "execution_count": 153,
   "id": "b425a801-4c4b-41f7-8c16-b74f4e7488a0",
   "metadata": {},
   "outputs": [
    {
     "data": {
      "image/png": "[encoded data removed]",
      "text/plain": [
       "<Figure size 842.4x595.44 with 1 Axes>"
      ]
     },
     "metadata": {},
     "output_type": "display_data"
    }
   ],
   "source": [
    "groups = sns.histplot(data = t_test[:, 1])\n",
    "plt.title('Распредление p-value по итогам 10000 AA-тестов')\n",
    "plt.xlabel('p-value')\n",
    "plt.show()"
   ]
  },
  {
   "cell_type": "code",
   "execution_count": 159,
   "id": "ea2ea748-1c43-4db8-a5f6-657d1689be1e",
   "metadata": {},
   "outputs": [
    {
     "name": "stdout",
     "output_type": "stream",
     "text": [
      "По итогам тестирования 4.76% значений p-values <= 0.05\n"
     ]
    }
   ],
   "source": [
    "print(f'По итогам тестирования {sum(t_test[:, 1] <= 0.05) / n * 100:.2f}% значений p-values <= 0.05')\n"
   ]
  },
  {
   "cell_type": "markdown",
   "id": "d8d8e0be-214b-4867-b573-7a098c7fcb92",
   "metadata": {},
   "source": [
    "## Вывод:\n",
    "По итогам проведения 10000 AA-тестов на подвыборках из 500 элементов без вовзрата из двух интересующих групп (2 и 3) видим, что статистически значимые различия между CTR в группах 2 и 3 встречаются лишь в 4.76% случаев, что является удовлетворительным значением. Поэтому можно считать нашу систему сплитования корректной.\n"
   ]
  }
 ],
 "metadata": {
  "kernelspec": {
   "display_name": "Python 3 (ipykernel)",
   "language": "python",
   "name": "python3"
  },
  "language_info": {
   "codemirror_mode": {
    "name": "ipython",
    "version": 3
   },
   "file_extension": ".py",
   "mimetype": "text/x-python",
   "name": "python",
   "nbconvert_exporter": "python",
   "pygments_lexer": "ipython3",
   "version": "3.9.13"
  }
 },
 "nbformat": 4,
 "nbformat_minor": 5
}
