{
 "cells": [
  {
   "cell_type": "markdown",
   "id": "e334b794-a3c6-4143-823a-8275fb0072e4",
   "metadata": {},
   "source": [
    "Эксперимент проходил с 2023-06-30 по 2023-07-06 включительно. Для эксперимента были задействованы 2 и 1 группы. \n",
    "\n",
    "В группе 2 был использован один из новых алгоритмов рекомендации постов, группа 1 использовалась в качестве контроля. \n",
    "\n",
    "Основная гипотеза заключается в том, что новый алгоритм во 2-й группе приведет к увеличению CTR. \n",
    "\n",
    "Ваша задача — проанализировать данные АB-теста. \n",
    "\n",
    "1. Выбрать метод анализа и сравнить CTR в двух группах (мы разбирали t-тест, Пуассоновский бутстреп, тест Манна-Уитни, t-тест на сглаженном ctr (α=5) а также t-тест и тест Манна-Уитни поверх бакетного преобразования).\n",
    "2. Сравните данные этими тестами. А еще посмотрите на распределения глазами. Почему тесты сработали так как сработали? \n",
    "3. Опишите потенциальную ситуацию, когда такое изменение могло произойти. Тут нет идеального ответа, подумайте.\n",
    "4. Напишите рекомендацию, будем ли мы раскатывать новый алгоритм на всех новых пользователей или все-таки не стоит."
   ]
  },
  {
   "cell_type": "code",
   "execution_count": 1,
   "id": "d499fb5a-e94f-4eb3-bfab-24f7ed60a60f",
   "metadata": {},
   "outputs": [],
   "source": [
    "#%pip install pandahouse\n",
    "#%pip install seaborn\n",
    "#%pip install swifter\n",
    "#%pip install scipy"
   ]
  },
  {
   "cell_type": "code",
   "execution_count": 2,
   "id": "56093c11-799d-4e03-baba-56fc0c8f6e65",
   "metadata": {},
   "outputs": [],
   "source": [
    "import pandas as pd\n",
    "import pandahouse \n",
    "import seaborn as sns\n",
    "import matplotlib.pyplot as plt\n",
    "import numpy as np\n",
    "import swifter\n",
    "import hashlib\n",
    "from scipy import stats\n",
    "%matplotlib inline"
   ]
  },
  {
   "cell_type": "code",
   "execution_count": 43,
   "id": "0385e66b-8865-4018-90e2-8cc4c44d5d2d",
   "metadata": {},
   "outputs": [
    {
     "data": {
      "text/html": [
       "<div>\n",
       "<style scoped>\n",
       "    .dataframe tbody tr th:only-of-type {\n",
       "        vertical-align: middle;\n",
       "    }\n",
       "\n",
       "    .dataframe tbody tr th {\n",
       "        vertical-align: top;\n",
       "    }\n",
       "\n",
       "    .dataframe thead th {\n",
       "        text-align: right;\n",
       "    }\n",
       "</style>\n",
       "<table border=\"1\" class=\"dataframe\">\n",
       "  <thead>\n",
       "    <tr style=\"text-align: right;\">\n",
       "      <th></th>\n",
       "      <th>user_id</th>\n",
       "      <th>exp_group</th>\n",
       "      <th>likes</th>\n",
       "      <th>views</th>\n",
       "      <th>ctr</th>\n",
       "    </tr>\n",
       "  </thead>\n",
       "  <tbody>\n",
       "    <tr>\n",
       "      <th>0</th>\n",
       "      <td>109963</td>\n",
       "      <td>1</td>\n",
       "      <td>3</td>\n",
       "      <td>15</td>\n",
       "      <td>0.200000</td>\n",
       "    </tr>\n",
       "    <tr>\n",
       "      <th>1</th>\n",
       "      <td>26117</td>\n",
       "      <td>1</td>\n",
       "      <td>32</td>\n",
       "      <td>141</td>\n",
       "      <td>0.226950</td>\n",
       "    </tr>\n",
       "    <tr>\n",
       "      <th>2</th>\n",
       "      <td>138232</td>\n",
       "      <td>1</td>\n",
       "      <td>18</td>\n",
       "      <td>73</td>\n",
       "      <td>0.246575</td>\n",
       "    </tr>\n",
       "    <tr>\n",
       "      <th>3</th>\n",
       "      <td>18392</td>\n",
       "      <td>1</td>\n",
       "      <td>7</td>\n",
       "      <td>32</td>\n",
       "      <td>0.218750</td>\n",
       "    </tr>\n",
       "    <tr>\n",
       "      <th>4</th>\n",
       "      <td>26295</td>\n",
       "      <td>1</td>\n",
       "      <td>39</td>\n",
       "      <td>141</td>\n",
       "      <td>0.276596</td>\n",
       "    </tr>\n",
       "  </tbody>\n",
       "</table>\n",
       "</div>"
      ],
      "text/plain": [
       "   user_id  exp_group  likes  views       ctr\n",
       "0   109963          1      3     15  0.200000\n",
       "1    26117          1     32    141  0.226950\n",
       "2   138232          1     18     73  0.246575\n",
       "3    18392          1      7     32  0.218750\n",
       "4    26295          1     39    141  0.276596"
      ]
     },
     "execution_count": 43,
     "metadata": {},
     "output_type": "execute_result"
    }
   ],
   "source": [
    "connection = {\n",
    "    'host': 'https://clickhouse.lab.karpov.courses',\n",
    "    'password': '********',\n",
    "    'user': '********',\n",
    "    'database': 'simulator_20230720'\n",
    "}\n",
    "\n",
    "q = \"\"\"\n",
    "SELECT  DISTINCT user_id ,\n",
    "        exp_group,\n",
    "        sum(action = 'like') likes,\n",
    "        sum(action = 'view') views,\n",
    "        likes/views ctr\n",
    "FROM simulator_20230720.feed_actions \n",
    "WHERE toDate(time) between '2023-06-30' and '2023-07-06'\n",
    "        and exp_group in (1, 2)\n",
    "GROUP by exp_group, user_id\n",
    "\"\"\"\n",
    "\n",
    "users_df = pandahouse.read_clickhouse(q, connection=connection)\n",
    "users_df.head()"
   ]
  },
  {
   "cell_type": "code",
   "execution_count": 44,
   "id": "7fb0a068-acff-4c05-9664-734e89bf586a",
   "metadata": {},
   "outputs": [
    {
     "name": "stdout",
     "output_type": "stream",
     "text": [
      "Количественное соотношение юзеров в интересующих группах (1, 2):\n"
     ]
    },
    {
     "data": {
      "text/html": [
       "<div>\n",
       "<style scoped>\n",
       "    .dataframe tbody tr th:only-of-type {\n",
       "        vertical-align: middle;\n",
       "    }\n",
       "\n",
       "    .dataframe tbody tr th {\n",
       "        vertical-align: top;\n",
       "    }\n",
       "\n",
       "    .dataframe thead th {\n",
       "        text-align: right;\n",
       "    }\n",
       "</style>\n",
       "<table border=\"1\" class=\"dataframe\">\n",
       "  <thead>\n",
       "    <tr style=\"text-align: right;\">\n",
       "      <th></th>\n",
       "      <th>user_id</th>\n",
       "    </tr>\n",
       "    <tr>\n",
       "      <th>exp_group</th>\n",
       "      <th></th>\n",
       "    </tr>\n",
       "  </thead>\n",
       "  <tbody>\n",
       "    <tr>\n",
       "      <th>1</th>\n",
       "      <td>10020</td>\n",
       "    </tr>\n",
       "    <tr>\n",
       "      <th>2</th>\n",
       "      <td>9877</td>\n",
       "    </tr>\n",
       "  </tbody>\n",
       "</table>\n",
       "</div>"
      ],
      "text/plain": [
       "           user_id\n",
       "exp_group         \n",
       "1            10020\n",
       "2             9877"
      ]
     },
     "execution_count": 44,
     "metadata": {},
     "output_type": "execute_result"
    }
   ],
   "source": [
    "print(f'Количественное соотношение юзеров в интересующих группах (1, 2):')\n",
    "users_df[['user_id', 'exp_group']].groupby('exp_group').count()"
   ]
  },
  {
   "cell_type": "markdown",
   "id": "5c713c80-8474-44a4-b22e-99463436e7ec",
   "metadata": {},
   "source": [
    "# Посмотрим на распредление CTR в 1 и 2 группе"
   ]
  },
  {
   "cell_type": "code",
   "execution_count": 45,
   "id": "8b78dcc3-8f02-41c6-b3c2-07438cfc76d1",
   "metadata": {},
   "outputs": [
    {
     "data": {
      "image/png": "[encoded data removed]",
      "text/plain": [
       "<Figure size 842.4x595.44 with 1 Axes>"
      ]
     },
     "metadata": {},
     "output_type": "display_data"
    }
   ],
   "source": [
    "sns.set(rc={'figure.figsize':(11.7,8.27)})\n",
    "sns.histplot(data = users_df,\n",
    "            x = 'ctr',\n",
    "            hue = 'exp_group',\n",
    "            alpha = 0.5,\n",
    "            kde = False)\n",
    "plt.title('Распределение CTR в 1 и 2 группах')\n",
    "plt.show()"
   ]
  },
  {
   "cell_type": "code",
   "execution_count": 46,
   "id": "d50f4a5f-fe73-4288-9250-8d828aeebbcd",
   "metadata": {},
   "outputs": [
    {
     "data": {
      "text/html": [
       "<div>\n",
       "<style scoped>\n",
       "    .dataframe tbody tr th:only-of-type {\n",
       "        vertical-align: middle;\n",
       "    }\n",
       "\n",
       "    .dataframe tbody tr th {\n",
       "        vertical-align: top;\n",
       "    }\n",
       "\n",
       "    .dataframe thead tr th {\n",
       "        text-align: left;\n",
       "    }\n",
       "\n",
       "    .dataframe thead tr:last-of-type th {\n",
       "        text-align: right;\n",
       "    }\n",
       "</style>\n",
       "<table border=\"1\" class=\"dataframe\">\n",
       "  <thead>\n",
       "    <tr>\n",
       "      <th></th>\n",
       "      <th colspan=\"8\" halign=\"left\">ctr</th>\n",
       "    </tr>\n",
       "    <tr>\n",
       "      <th></th>\n",
       "      <th>count</th>\n",
       "      <th>mean</th>\n",
       "      <th>std</th>\n",
       "      <th>min</th>\n",
       "      <th>25%</th>\n",
       "      <th>50%</th>\n",
       "      <th>75%</th>\n",
       "      <th>max</th>\n",
       "    </tr>\n",
       "    <tr>\n",
       "      <th>exp_group</th>\n",
       "      <th></th>\n",
       "      <th></th>\n",
       "      <th></th>\n",
       "      <th></th>\n",
       "      <th></th>\n",
       "      <th></th>\n",
       "      <th></th>\n",
       "      <th></th>\n",
       "    </tr>\n",
       "  </thead>\n",
       "  <tbody>\n",
       "    <tr>\n",
       "      <th>1</th>\n",
       "      <td>10020.0</td>\n",
       "      <td>0.216774</td>\n",
       "      <td>0.082969</td>\n",
       "      <td>0.0</td>\n",
       "      <td>0.163636</td>\n",
       "      <td>0.205882</td>\n",
       "      <td>0.257870</td>\n",
       "      <td>0.722222</td>\n",
       "    </tr>\n",
       "    <tr>\n",
       "      <th>2</th>\n",
       "      <td>9877.0</td>\n",
       "      <td>0.216102</td>\n",
       "      <td>0.142870</td>\n",
       "      <td>0.0</td>\n",
       "      <td>0.096774</td>\n",
       "      <td>0.153285</td>\n",
       "      <td>0.323529</td>\n",
       "      <td>0.900000</td>\n",
       "    </tr>\n",
       "  </tbody>\n",
       "</table>\n",
       "</div>"
      ],
      "text/plain": [
       "               ctr                                                         \\\n",
       "             count      mean       std  min       25%       50%       75%   \n",
       "exp_group                                                                   \n",
       "1          10020.0  0.216774  0.082969  0.0  0.163636  0.205882  0.257870   \n",
       "2           9877.0  0.216102  0.142870  0.0  0.096774  0.153285  0.323529   \n",
       "\n",
       "                     \n",
       "                max  \n",
       "exp_group            \n",
       "1          0.722222  \n",
       "2          0.900000  "
      ]
     },
     "execution_count": 46,
     "metadata": {},
     "output_type": "execute_result"
    }
   ],
   "source": [
    "users_df[['ctr', 'exp_group']].groupby('exp_group').describe()"
   ]
  },
  {
   "cell_type": "markdown",
   "id": "aeec10a4-4735-470e-a743-a2edb8063a42",
   "metadata": {},
   "source": [
    "* Из графика видим, что CTR в экспериментальной группе (2) имеет двугорбое распредление. Первый пик гистограммы значительно выше, соответствует CTR ~ 0.1. Второй пик соответствует CTR ~ 0.35. Вогнутость гистограммы располагается под пиком CTR для контрольной группы. \n",
    "* Среднее значение CTR по всей экспериментальной группе осталось близко к среднему CTR контрольной группы. \n",
    "* Половина пользователей из экспериментальной группы имеет CTR до 0.15, четверть пользователей - до 0.0967, что меньше, чем в контрольной группе. \n",
    "* Новая рекомендательная система повлияла на кликабельность постов, скорее, в худшую сторону."
   ]
  },
  {
   "cell_type": "markdown",
   "id": "f9376e0f-4053-40ad-877d-7b334581ef25",
   "metadata": {},
   "source": [
    "## t-тест"
   ]
  },
  {
   "cell_type": "code",
   "execution_count": 182,
   "id": "da5f1ffb-ac8e-4694-8049-9e158137e5c3",
   "metadata": {},
   "outputs": [
    {
     "name": "stdout",
     "output_type": "stream",
     "text": [
      "Ttest_indResult(statistic=0.4051491913112757, pvalue=0.685373331140751)\n",
      "нулевая гипотеза Н0 ВЕРНА => средние CTR в группах 1 и 2 НЕ отличаются\n"
     ]
    }
   ],
   "source": [
    "t_test = stats.ttest_ind(users_df[users_df.exp_group == 1].ctr,\n",
    "                         users_df[users_df.exp_group == 2].ctr,\n",
    "                         equal_var=False)\n",
    "print(t_test)\n",
    "if t_test[1] < 0.05:\n",
    "    print(f'нулевая гипотеза Н0 НЕ ВЕРНА => средние CTR в группах 1 и 2 отличаются')\n",
    "else:\n",
    "    print(f'нулевая гипотеза Н0 ВЕРНА => средние CTR в группах 1 и 2 НЕ отличаются')"
   ]
  },
  {
   "cell_type": "markdown",
   "id": "6b60329f-4211-4080-9581-8fe7f094fe32",
   "metadata": {},
   "source": [
    "По итогам t-теста мы не можем отвергнуть H0, так как p-value велико. Получается, согласно t-тесту, CTR в экспериментальной и контрольной группах одинаковы. Однако мы убедились ранее (на гистограмме распрпеделения CTR), что выборки существенно отличаются качественно, хоть и имеют близкое (с точностью до третьего знака) среднее значение. Совпадение средних значений выборок и привело к такому результату t-теста."
   ]
  },
  {
   "cell_type": "markdown",
   "id": "44536dfc-4291-4bc1-8e96-c4e5cfbb9fd9",
   "metadata": {},
   "source": [
    "# Пуассонов бутстреп"
   ]
  },
  {
   "cell_type": "code",
   "execution_count": 127,
   "id": "7b9b1961-ba0e-413f-a89c-5e2250296ba6",
   "metadata": {},
   "outputs": [],
   "source": [
    "def bootstrap(likes1, views1, likes2, views2, n_bootstrap=2000):\n",
    "    poisson_bootstrap_1 = stats.poisson(1).rvs((n_bootstrap, len(likes1))).astype(np.int64)\n",
    "    poisson_bootstrap_2 = stats.poisson(1).rvs((n_bootstrap, len(likes2))).astype(np.int64)\n",
    "    \n",
    "    global_ctr_1 = (likes1 * poisson_bootstrap_1).sum(axis=1) / (views1 * poisson_bootstrap_1).sum(axis=1)\n",
    "    global_ctr_2 = (likes2 * poisson_bootstrap_2).sum(axis=1) / (views2 * poisson_bootstrap_2).sum(axis=1)\n",
    "    \n",
    "    return global_ctr_1, global_ctr_2\n"
   ]
  },
  {
   "cell_type": "code",
   "execution_count": 130,
   "id": "55ad1b83-5360-4ba9-b4f5-56c6700269b0",
   "metadata": {},
   "outputs": [],
   "source": [
    "likes1 = users_df[users_df.exp_group == 1].likes.to_numpy()\n",
    "likes2 = users_df[users_df.exp_group == 2].likes.to_numpy()\n",
    "views1 = users_df[users_df.exp_group == 1].views.to_numpy()\n",
    "views2 = users_df[users_df.exp_group == 2].views.to_numpy()\n",
    "\n",
    "ctr_1, ctr_2 = bootstrap(likes1, views1, likes2, views2, n_bootstrap=2000)"
   ]
  },
  {
   "cell_type": "code",
   "execution_count": 168,
   "id": "142f8d18-4606-42b1-bea2-6483c8c827cf",
   "metadata": {},
   "outputs": [
    {
     "data": {
      "image/png": "[encoded data removed]",
      "text/plain": [
       "<Figure size 842.4x595.44 with 1 Axes>"
      ]
     },
     "metadata": {},
     "output_type": "display_data"
    }
   ],
   "source": [
    "sns.histplot(ctr_1, color='r')\n",
    "sns.histplot(ctr_2, color='b')\n",
    "plt.title('Распредление глобальных CTR в 1 и 2 группах после Пуассонова бутстрепа')\n",
    "plt.show()"
   ]
  },
  {
   "cell_type": "code",
   "execution_count": 169,
   "id": "723e6fed-f7dc-481a-b61c-108c6da356da",
   "metadata": {},
   "outputs": [
    {
     "data": {
      "image/png": "[encoded data removed]",
      "text/plain": [
       "<Figure size 842.4x595.44 with 1 Axes>"
      ]
     },
     "metadata": {},
     "output_type": "display_data"
    }
   ],
   "source": [
    "sns.histplot(ctr_2 - ctr_1)\n",
    "plt.title('Распредление разницы между глобальными CTR экспериментальной и контрольной групп')\n",
    "plt.show()"
   ]
  },
  {
   "cell_type": "markdown",
   "id": "7ebda81d-c067-4ca1-982c-dfa29889cd10",
   "metadata": {},
   "source": [
    "* Результаты применения пуассонова бутстрепа показывают, что глобальные CTR в экспериментальной и контрольной группах отличаются, причем разница отрицательна, следовательно, значения CTR пользователей с новой рексистемой ниже.\n",
    "* Из визуального анализа распредлений, мы значем, что они отличаются, поэтому данный тест хорошо себя проявил."
   ]
  },
  {
   "cell_type": "markdown",
   "id": "b8ab0b51-e99f-463e-a514-3e4746ddc0f3",
   "metadata": {
    "tags": []
   },
   "source": [
    "# Тест Манна-Уитни"
   ]
  },
  {
   "cell_type": "code",
   "execution_count": 180,
   "id": "96645246-6a2a-4e59-b4ae-2716528142b5",
   "metadata": {},
   "outputs": [
    {
     "name": "stdout",
     "output_type": "stream",
     "text": [
      "MannwhitneyuResult(statistic=55189913.0, pvalue=4.632205841806026e-45)\n",
      "нулевая гипотеза Манна-Уитни Н0 НЕ ВЕРНА => распределения CTR в группах 1 и 2 отличаются\n"
     ]
    }
   ],
   "source": [
    "MW_test = stats.mannwhitneyu(users_df[users_df.exp_group == 1].ctr,\n",
    "                   users_df[users_df.exp_group == 2].ctr,\n",
    "                   alternative = 'two-sided')\n",
    "print(MW_test)\n",
    "if MW_test[1] < 0.05:\n",
    "    print(f'нулевая гипотеза Манна-Уитни Н0 НЕ ВЕРНА => распределения CTR в группах 1 и 2 отличаются')\n",
    "else:\n",
    "    print(f'нулевая гипотеза Манна-Уитни Н0 ВЕРНА => распределения CTR в группах 1 и 2 НЕ отличаются')"
   ]
  },
  {
   "cell_type": "code",
   "execution_count": 185,
   "id": "7ed087d0-67da-4ebe-976d-626915e9177a",
   "metadata": {},
   "outputs": [
    {
     "name": "stdout",
     "output_type": "stream",
     "text": [
      "В 0.54 % случаев A > B. Для подтверждения H0 должно получиться около 50%\n",
      "В 0.5648 % случаев A > B. Для подтверждения H0 должно получиться около 50%\n",
      "В 0.5576 % случаев A > B. Для подтверждения H0 должно получиться около 50%\n"
     ]
    }
   ],
   "source": [
    "# Посмотрим какой % случаев, когда А>B\n",
    "df = users_df\n",
    "A_gt_B = 0\n",
    "for i in range(15000):\n",
    "    A_gt_B+= df[df.exp_group == 1].ctr.sample().values[0] > df[df.exp_group == 2].ctr.sample().values[0]\n",
    "    if i == 1000:\n",
    "        print('В', A_gt_B/i*100, '% случаев A > B. Для подтверждения H0 должно получиться около 50%')\n",
    "    elif i == 5000:\n",
    "        print('В', A_gt_B/i*100, '% случаев A > B. Для подтверждения H0 должно получиться около 50%')\n",
    "    elif i == 10000:\n",
    "        print('В', A_gt_B/i*100, '% случаев A > B. Для подтверждения H0 должно получиться около 50%')\n",
    "    elif i == 15000:\n",
    "        print('В', A_gt_B/i*100, '% случаев A > B. Для подтверждения H0 должно получиться около 50%')\n"
   ]
  },
  {
   "cell_type": "markdown",
   "id": "6bca1605-0840-417d-9377-3d04290df84b",
   "metadata": {},
   "source": [
    "* Тест Манна-Уитни показал, что распределения CTR в группах 1 и 2 отличаются. \n",
    "* Посмотрев на % случаев, когда CTR группы 1 больше CTR группы 2, можем сказать, что отличие двух групп незначительно. \n",
    "* На мой взгляд, этот тест в данном случае сработал лучше, чем t-тест, и подтверждает визуальный анализ распредлений."
   ]
  },
  {
   "cell_type": "markdown",
   "id": "1c4710cc-a057-4e81-aa17-30e6775f444e",
   "metadata": {},
   "source": [
    "# t-тест на сглаженном CTR"
   ]
  },
  {
   "cell_type": "code",
   "execution_count": 222,
   "id": "4d169a1d-5605-4e67-a530-7097b3d211a7",
   "metadata": {},
   "outputs": [],
   "source": [
    "def get_smothed_ctr(user_likes, user_views, global_ctr, alpha):\n",
    "    smothed_ctr = (user_likes + alpha * global_ctr) / (user_views + alpha)\n",
    "    return smothed_ctr\n",
    "\n",
    "global_ctr_1 = users_df[users_df.exp_group == 1].likes.sum()/users_df[users_df.exp_group == 1].views.sum()\n",
    "global_ctr_2 = users_df[users_df.exp_group == 2].likes.sum()/users_df[users_df.exp_group == 2].views.sum()"
   ]
  },
  {
   "cell_type": "code",
   "execution_count": 231,
   "id": "ce329683-b352-4a90-a578-cd966f94b958",
   "metadata": {},
   "outputs": [
    {
     "data": {
      "image/png": "[encoded data removed]",
      "text/plain": [
       "<Figure size 842.4x595.44 with 1 Axes>"
      ]
     },
     "metadata": {},
     "output_type": "display_data"
    }
   ],
   "source": [
    "# Проиллюстрируем сглаженный CTR на 1 группе\n",
    "group1 = users_df[users_df.exp_group == 1].copy()\n",
    "hist = sns.histplot(group1.ctr, \n",
    "             kde = False,\n",
    "             color = 'b')\n",
    "\n",
    "group1['smothed_ctr'] = group1.apply(\n",
    "    lambda x: get_smothed_ctr(x['likes'], x['views'], global_ctr_1, 5), axis=1)\n",
    "\n",
    "hist = sns.histplot(group1.smothed_ctr, \n",
    "             kde = False,\n",
    "             color = 'r',\n",
    "             alpha = 0.5)\n",
    "hist.legend(['group1', 'group1_smoothed'])\n",
    "plt.show()"
   ]
  },
  {
   "cell_type": "code",
   "execution_count": 237,
   "id": "33f5d47c-3b48-40c2-815e-8769c948f674",
   "metadata": {},
   "outputs": [
    {
     "data": {
      "image/png": "[encoded data removed]",
      "text/plain": [
       "<Figure size 842.4x595.44 with 1 Axes>"
      ]
     },
     "metadata": {},
     "output_type": "display_data"
    }
   ],
   "source": [
    "group2 = users_df[users_df.exp_group == 2].copy()\n",
    "group2['smothed_ctr'] = group2.apply(\n",
    "    lambda x: get_smothed_ctr(x['likes'], x['views'], global_ctr_1, 5), axis=1)\n",
    "\n",
    "hist = sns.histplot(group2.ctr, \n",
    "             kde = False,\n",
    "             color = 'b')\n",
    "hist = sns.histplot(group2.smothed_ctr, \n",
    "             kde = False,\n",
    "             color = 'r',\n",
    "             alpha = 0.5)\n",
    "hist.legend(['group2', 'group2_smoothed'])\n",
    "plt.show()"
   ]
  },
  {
   "cell_type": "code",
   "execution_count": 238,
   "id": "6405560f-a0c7-4566-be0a-8f6bb720f76d",
   "metadata": {},
   "outputs": [
    {
     "name": "stdout",
     "output_type": "stream",
     "text": [
      "Ttest_indResult(statistic=1.2447034376197188, pvalue=0.2132595139151033)\n",
      "нулевая гипотеза Н0 ВЕРНА => средние сглаженных CTR в группах 1 и 2 НЕ отличаются\n"
     ]
    }
   ],
   "source": [
    "t_test = stats.ttest_ind(group1['smothed_ctr'],\n",
    "                         group2['smothed_ctr'],\n",
    "                         equal_var=False)\n",
    "print(t_test)\n",
    "if t_test[1] < 0.05:\n",
    "    print(f'нулевая гипотеза Н0 НЕ ВЕРНА => средние сглаженных CTR в группах 1 и 2 отличаются')\n",
    "else:\n",
    "    print(f'нулевая гипотеза Н0 ВЕРНА => средние сглаженных CTR в группах 1 и 2 НЕ отличаются')"
   ]
  },
  {
   "cell_type": "markdown",
   "id": "64edce59-cda4-41aa-9270-853611a2ca1d",
   "metadata": {},
   "source": [
    "* В результате t-теста со сглаженным CTR pvalue=0.213 (на исходном CTR было pvalue=0.685). \n",
    "* Итог t-теста на сглаженном CTR не отличается от первого t-теста: средние двух выборок также равны, хоть шумов и меньше.\n",
    "* t-тест при данном распредлении метрик не стоит применять"
   ]
  },
  {
   "cell_type": "markdown",
   "id": "bd67716e-da22-4923-b9a0-64377d6b858c",
   "metadata": {},
   "source": [
    "## Бакетное преобразование"
   ]
  },
  {
   "cell_type": "code",
   "execution_count": 245,
   "id": "bd5debf2-9785-4fd7-ad89-4871e39be8f1",
   "metadata": {},
   "outputs": [],
   "source": [
    "q = \"\"\"\n",
    "SELECT exp_group, bucket,\n",
    "    sum(likes)/sum(views) as bucket_ctr,\n",
    "    quantileExact(0.9)(ctr) as ctr9\n",
    "FROM (SELECT exp_group, \n",
    "        xxHash64(user_id)%50 as bucket,\n",
    "        user_id,\n",
    "        sum(action = 'like') as likes,\n",
    "        sum(action = 'view') as views,\n",
    "        likes/views as ctr\n",
    "    FROM {db}.feed_actions \n",
    "    WHERE toDate(time) between '2023-06-30' and '2023-07-06'\n",
    "        and exp_group in (1, 2)\n",
    "    GROUP BY exp_group, bucket, user_id)\n",
    "GROUP BY exp_group, bucket\n",
    "\"\"\"\n",
    "\n",
    "user_bucket = pandahouse.read_clickhouse(q, connection=connection)"
   ]
  },
  {
   "cell_type": "code",
   "execution_count": 246,
   "id": "8f9d0a23-6af5-49ba-96d2-2c9e0c7bed27",
   "metadata": {},
   "outputs": [
    {
     "data": {
      "image/png": "[encoded data removed]",
      "text/plain": [
       "<Figure size 842.4x595.44 with 1 Axes>"
      ]
     },
     "metadata": {},
     "output_type": "display_data"
    }
   ],
   "source": [
    "hist = sns.histplot(user_bucket[user_bucket.exp_group == 1].bucket_ctr, color='b')\n",
    "hist = sns.histplot(user_bucket[user_bucket.exp_group == 2].bucket_ctr, color='r')\n",
    "hist.legend(['bucket_ctr_1', 'bucket_ctr_2'])\n",
    "plt.show()"
   ]
  },
  {
   "cell_type": "markdown",
   "id": "27f73db1-981b-4d5a-ab6b-43dff44a84f3",
   "metadata": {},
   "source": [
    "* Из гистограммы CTR по бакетам видим, что распредления в 1 и 2 группах существенно отличаются"
   ]
  },
  {
   "cell_type": "markdown",
   "id": "0662f2c2-aab7-46b6-9134-375b6eef7c02",
   "metadata": {},
   "source": [
    "# t-тест"
   ]
  },
  {
   "cell_type": "code",
   "execution_count": 247,
   "id": "4a942a0e-eb91-461b-aaed-2abd5c59b012",
   "metadata": {},
   "outputs": [
    {
     "name": "stdout",
     "output_type": "stream",
     "text": [
      "Ttest_indResult(statistic=5.614819358149381, pvalue=4.592644937473873e-07)\n",
      "нулевая гипотеза Н0 НЕ ВЕРНА => средние сглаженных CTR в группах 1 и 2 отличаются\n"
     ]
    }
   ],
   "source": [
    "t_bucket = stats.ttest_ind(user_bucket[user_bucket.exp_group == 1].bucket_ctr, \n",
    "                           user_bucket[user_bucket.exp_group == 2].bucket_ctr, \n",
    "                           equal_var = False)\n",
    "print(t_bucket)\n",
    "if t_bucket[1] < 0.05:\n",
    "    print(f'нулевая гипотеза Н0 НЕ ВЕРНА => средние сглаженных CTR в группах 1 и 2 отличаются')\n",
    "else:\n",
    "    print(f'нулевая гипотеза Н0 ВЕРНА => средние сглаженных CTR в группах 1 и 2 НЕ отличаются')"
   ]
  },
  {
   "cell_type": "markdown",
   "id": "223a0764-094c-4f5a-b38d-d1a4d0fc91d9",
   "metadata": {},
   "source": [
    "# тест Манна-Уитни"
   ]
  },
  {
   "cell_type": "code",
   "execution_count": 248,
   "id": "fa15184d-f2b5-4480-bad7-7eb6caa74fef",
   "metadata": {},
   "outputs": [
    {
     "name": "stdout",
     "output_type": "stream",
     "text": [
      "MannwhitneyuResult(statistic=1997.0, pvalue=2.6576427804010095e-07)\n",
      "нулевая гипотеза Н0 НЕ ВЕРНА => средние сглаженных CTR в группах 1 и 2 отличаются\n"
     ]
    }
   ],
   "source": [
    "MW_bucket = stats.mannwhitneyu(user_bucket[user_bucket.exp_group == 1].bucket_ctr, \n",
    "                               user_bucket[user_bucket.exp_group == 2].bucket_ctr, \n",
    "                               alternative = 'two-sided')\n",
    "\n",
    "print(MW_bucket)\n",
    "if MW_bucket[1] < 0.05:\n",
    "    print(f'нулевая гипотеза Н0 НЕ ВЕРНА => средние сглаженных CTR в группах 1 и 2 отличаются')\n",
    "else:\n",
    "    print(f'нулевая гипотеза Н0 ВЕРНА => средние сглаженных CTR в группах 1 и 2 НЕ отличаются')"
   ]
  },
  {
   "cell_type": "markdown",
   "id": "27d03df8-990d-452e-a809-926bacbb6a6a",
   "metadata": {},
   "source": [
    "* t-тест и тест Манна-Уитни на бакетном преобразовании выборок CTR дают схожие результаты: CTR в группах отличается. "
   ]
  },
  {
   "cell_type": "markdown",
   "id": "2007c508-c96a-4d5b-b92d-82ba83b3a5eb",
   "metadata": {},
   "source": [
    "# Выводы\n",
    "## О характере распредления CTR:\n",
    "* Визуально рапсредления CTR в экспериментальной (2) и контрольной (1) группах отличаются.\n",
    "* CTR в экспериментальной группе имеет двугорбое распредление. Первый пик гистограммы значительно выше, соответствует CTR ~ 0.1. Второй пик соответствует CTR ~ 0.35. Вогнутость гистограммы располагается под пиком CTR для контрольной группы. Такой результат можно объяснить тем, что одной части аудитории 2 группы наше нововведение понравилось (лайки возросли), а другой - нет (лайки упали). Причем тех, кому не понравилось новшество оказалось больше. \n",
    "* Половина пользователей из экспериментальной группы имеет CTR до 0.15, четверть пользователей - до 0.0967, что меньше, чем в контрольной группе. \n",
    "* Почему такой эффект? Возможно, пользователям хочется более разнообразного контента, а не одннотипные посты.\n",
    "\n",
    "## О результатах A/B тестов разными методами:\n",
    "* t-test в классической постановке и на метрике сглаженного CTR не заметил различий в группах. Это связано с тем, что рассматриваемые распредления имеют практически одинаковое среднее значение.Данный тест здесь не применим.\n",
    "* t-test поверх бакетного преобразования обнаружил разницу между группами, так как CTR, вычисленные внутри бакетов, заметнее отличаются, ввиду того, что бакеты наполняются данными без повтора и в меньшем количестве, чем размер исходной выборки.\n",
    "* тест Манна-Уитни заметил различия выборок и на исходных данных, и поверх бакетного проебразования.\n",
    "* Пуасснов бустсреп хорошо определил различия между выборками, более того, позволил определить улучшился ли CTR - не улучшился.\n",
    "\n",
    "## Заключение\n",
    "* Новая рекомендательная система повлияла на кликабельность постов в худшую сторону. Если будем распространять ее на всех пользователей, то вероятен отток аудитории.\n",
    "* Возможно, имеет смысл увеличить время проведения эксперимента и провести  A/B тест еще раз."
   ]
  }
 ],
 "metadata": {
  "kernelspec": {
   "display_name": "Python 3 (ipykernel)",
   "language": "python",
   "name": "python3"
  },
  "language_info": {
   "codemirror_mode": {
    "name": "ipython",
    "version": 3
   },
   "file_extension": ".py",
   "mimetype": "text/x-python",
   "name": "python",
   "nbconvert_exporter": "python",
   "pygments_lexer": "ipython3",
   "version": "3.9.13"
  }
 },
 "nbformat": 4,
 "nbformat_minor": 5
}
