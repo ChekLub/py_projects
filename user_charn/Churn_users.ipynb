{
  "nbformat": 4,
  "nbformat_minor": 0,
  "metadata": {
    "colab": {
      "provenance": []
    },
    "kernelspec": {
      "name": "python3",
      "display_name": "Python 3"
    },
    "language_info": {
      "name": "python"
    }
  },
  "cells": [
    {
      "cell_type": "markdown",
      "source": [
        "# Задача с Kaggle о предсказании оттока пользователей компании. Необходимо решить задачу бинарной классификации"
      ],
      "metadata": {
        "id": "HiRikFSkaCx6"
      }
    },
    {
      "cell_type": "code",
      "execution_count": 1,
      "metadata": {
        "id": "OP1xX6MRN3wm"
      },
      "outputs": [],
      "source": [
        "import pandas as pd\n",
        "import numpy as np\n",
        "from  matplotlib import pyplot as plt\n",
        "from sklearn.model_selection import GridSearchCV, train_test_split\n",
        "from sklearn.linear_model import LogisticRegression, LogisticRegressionCV\n",
        "from sklearn.pipeline import make_pipeline\n",
        "from sklearn.metrics import make_scorer, roc_auc_score, roc_curve\n",
        "from sklearn.preprocessing import StandardScaler"
      ]
    },
    {
      "cell_type": "markdown",
      "source": [
        "## Загрузка и исследование данных"
      ],
      "metadata": {
        "id": "qxbMTttaatLR"
      }
    },
    {
      "cell_type": "code",
      "source": [
        "data = pd.read_csv('/content/train.csv') # '/kaggle/input/advanced-dls-spring-2021/train.csv'"
      ],
      "metadata": {
        "id": "t2qitEOPPFhr"
      },
      "execution_count": 3,
      "outputs": []
    },
    {
      "cell_type": "code",
      "source": [
        "data.head(2)"
      ],
      "metadata": {
        "colab": {
          "base_uri": "https://localhost:8080/",
          "height": 210
        },
        "id": "J1WETfpNPVjY",
        "outputId": "b07e18e3-bce4-410c-b779-9e1c4a81c4ed"
      },
      "execution_count": null,
      "outputs": [
        {
          "output_type": "execute_result",
          "data": {
            "text/plain": [
              "   ClientPeriod  MonthlySpending TotalSpent   Sex  IsSeniorCitizen HasPartner  \\\n",
              "0            55            19.50    1026.35  Male                0        Yes   \n",
              "1            72            25.85     1872.2  Male                0        Yes   \n",
              "\n",
              "  HasChild HasPhoneService HasMultiplePhoneNumbers HasInternetService  \\\n",
              "0      Yes             Yes                      No                 No   \n",
              "1       No             Yes                     Yes                 No   \n",
              "\n",
              "  HasOnlineSecurityService      HasOnlineBackup  HasDeviceProtection  \\\n",
              "0      No internet service  No internet service  No internet service   \n",
              "1      No internet service  No internet service  No internet service   \n",
              "\n",
              "  HasTechSupportAccess          HasOnlineTV HasMovieSubscription  \\\n",
              "0  No internet service  No internet service  No internet service   \n",
              "1  No internet service  No internet service  No internet service   \n",
              "\n",
              "  HasContractPhone IsBillingPaperless            PaymentMethod  Churn  \n",
              "0         One year                 No             Mailed check      0  \n",
              "1         Two year                 No  Credit card (automatic)      0  "
            ],
            "text/html": [
              "\n",
              "  <div id=\"df-0d8cc308-69e0-474f-812d-0480226db27f\">\n",
              "    <div class=\"colab-df-container\">\n",
              "      <div>\n",
              "<style scoped>\n",
              "    .dataframe tbody tr th:only-of-type {\n",
              "        vertical-align: middle;\n",
              "    }\n",
              "\n",
              "    .dataframe tbody tr th {\n",
              "        vertical-align: top;\n",
              "    }\n",
              "\n",
              "    .dataframe thead th {\n",
              "        text-align: right;\n",
              "    }\n",
              "</style>\n",
              "<table border=\"1\" class=\"dataframe\">\n",
              "  <thead>\n",
              "    <tr style=\"text-align: right;\">\n",
              "      <th></th>\n",
              "      <th>ClientPeriod</th>\n",
              "      <th>MonthlySpending</th>\n",
              "      <th>TotalSpent</th>\n",
              "      <th>Sex</th>\n",
              "      <th>IsSeniorCitizen</th>\n",
              "      <th>HasPartner</th>\n",
              "      <th>HasChild</th>\n",
              "      <th>HasPhoneService</th>\n",
              "      <th>HasMultiplePhoneNumbers</th>\n",
              "      <th>HasInternetService</th>\n",
              "      <th>HasOnlineSecurityService</th>\n",
              "      <th>HasOnlineBackup</th>\n",
              "      <th>HasDeviceProtection</th>\n",
              "      <th>HasTechSupportAccess</th>\n",
              "      <th>HasOnlineTV</th>\n",
              "      <th>HasMovieSubscription</th>\n",
              "      <th>HasContractPhone</th>\n",
              "      <th>IsBillingPaperless</th>\n",
              "      <th>PaymentMethod</th>\n",
              "      <th>Churn</th>\n",
              "    </tr>\n",
              "  </thead>\n",
              "  <tbody>\n",
              "    <tr>\n",
              "      <th>0</th>\n",
              "      <td>55</td>\n",
              "      <td>19.50</td>\n",
              "      <td>1026.35</td>\n",
              "      <td>Male</td>\n",
              "      <td>0</td>\n",
              "      <td>Yes</td>\n",
              "      <td>Yes</td>\n",
              "      <td>Yes</td>\n",
              "      <td>No</td>\n",
              "      <td>No</td>\n",
              "      <td>No internet service</td>\n",
              "      <td>No internet service</td>\n",
              "      <td>No internet service</td>\n",
              "      <td>No internet service</td>\n",
              "      <td>No internet service</td>\n",
              "      <td>No internet service</td>\n",
              "      <td>One year</td>\n",
              "      <td>No</td>\n",
              "      <td>Mailed check</td>\n",
              "      <td>0</td>\n",
              "    </tr>\n",
              "    <tr>\n",
              "      <th>1</th>\n",
              "      <td>72</td>\n",
              "      <td>25.85</td>\n",
              "      <td>1872.2</td>\n",
              "      <td>Male</td>\n",
              "      <td>0</td>\n",
              "      <td>Yes</td>\n",
              "      <td>No</td>\n",
              "      <td>Yes</td>\n",
              "      <td>Yes</td>\n",
              "      <td>No</td>\n",
              "      <td>No internet service</td>\n",
              "      <td>No internet service</td>\n",
              "      <td>No internet service</td>\n",
              "      <td>No internet service</td>\n",
              "      <td>No internet service</td>\n",
              "      <td>No internet service</td>\n",
              "      <td>Two year</td>\n",
              "      <td>No</td>\n",
              "      <td>Credit card (automatic)</td>\n",
              "      <td>0</td>\n",
              "    </tr>\n",
              "  </tbody>\n",
              "</table>\n",
              "</div>\n",
              "      <button class=\"colab-df-convert\" onclick=\"convertToInteractive('df-0d8cc308-69e0-474f-812d-0480226db27f')\"\n",
              "              title=\"Convert this dataframe to an interactive table.\"\n",
              "              style=\"display:none;\">\n",
              "        \n",
              "  <svg xmlns=\"http://www.w3.org/2000/svg\" height=\"24px\"viewBox=\"0 0 24 24\"\n",
              "       width=\"24px\">\n",
              "    <path d=\"M0 0h24v24H0V0z\" fill=\"none\"/>\n",
              "    <path d=\"M18.56 5.44l.94 2.06.94-2.06 2.06-.94-2.06-.94-.94-2.06-.94 2.06-2.06.94zm-11 1L8.5 8.5l.94-2.06 2.06-.94-2.06-.94L8.5 2.5l-.94 2.06-2.06.94zm10 10l.94 2.06.94-2.06 2.06-.94-2.06-.94-.94-2.06-.94 2.06-2.06.94z\"/><path d=\"M17.41 7.96l-1.37-1.37c-.4-.4-.92-.59-1.43-.59-.52 0-1.04.2-1.43.59L10.3 9.45l-7.72 7.72c-.78.78-.78 2.05 0 2.83L4 21.41c.39.39.9.59 1.41.59.51 0 1.02-.2 1.41-.59l7.78-7.78 2.81-2.81c.8-.78.8-2.07 0-2.86zM5.41 20L4 18.59l7.72-7.72 1.47 1.35L5.41 20z\"/>\n",
              "  </svg>\n",
              "      </button>\n",
              "      \n",
              "  <style>\n",
              "    .colab-df-container {\n",
              "      display:flex;\n",
              "      flex-wrap:wrap;\n",
              "      gap: 12px;\n",
              "    }\n",
              "\n",
              "    .colab-df-convert {\n",
              "      background-color: #E8F0FE;\n",
              "      border: none;\n",
              "      border-radius: 50%;\n",
              "      cursor: pointer;\n",
              "      display: none;\n",
              "      fill: #1967D2;\n",
              "      height: 32px;\n",
              "      padding: 0 0 0 0;\n",
              "      width: 32px;\n",
              "    }\n",
              "\n",
              "    .colab-df-convert:hover {\n",
              "      background-color: #E2EBFA;\n",
              "      box-shadow: 0px 1px 2px rgba(60, 64, 67, 0.3), 0px 1px 3px 1px rgba(60, 64, 67, 0.15);\n",
              "      fill: #174EA6;\n",
              "    }\n",
              "\n",
              "    [theme=dark] .colab-df-convert {\n",
              "      background-color: #3B4455;\n",
              "      fill: #D2E3FC;\n",
              "    }\n",
              "\n",
              "    [theme=dark] .colab-df-convert:hover {\n",
              "      background-color: #434B5C;\n",
              "      box-shadow: 0px 1px 3px 1px rgba(0, 0, 0, 0.15);\n",
              "      filter: drop-shadow(0px 1px 2px rgba(0, 0, 0, 0.3));\n",
              "      fill: #FFFFFF;\n",
              "    }\n",
              "  </style>\n",
              "\n",
              "      <script>\n",
              "        const buttonEl =\n",
              "          document.querySelector('#df-0d8cc308-69e0-474f-812d-0480226db27f button.colab-df-convert');\n",
              "        buttonEl.style.display =\n",
              "          google.colab.kernel.accessAllowed ? 'block' : 'none';\n",
              "\n",
              "        async function convertToInteractive(key) {\n",
              "          const element = document.querySelector('#df-0d8cc308-69e0-474f-812d-0480226db27f');\n",
              "          const dataTable =\n",
              "            await google.colab.kernel.invokeFunction('convertToInteractive',\n",
              "                                                     [key], {});\n",
              "          if (!dataTable) return;\n",
              "\n",
              "          const docLinkHtml = 'Like what you see? Visit the ' +\n",
              "            '<a target=\"_blank\" href=https://colab.research.google.com/notebooks/data_table.ipynb>data table notebook</a>'\n",
              "            + ' to learn more about interactive tables.';\n",
              "          element.innerHTML = '';\n",
              "          dataTable['output_type'] = 'display_data';\n",
              "          await google.colab.output.renderOutput(dataTable, element);\n",
              "          const docLink = document.createElement('div');\n",
              "          docLink.innerHTML = docLinkHtml;\n",
              "          element.appendChild(docLink);\n",
              "        }\n",
              "      </script>\n",
              "    </div>\n",
              "  </div>\n",
              "  "
            ]
          },
          "metadata": {},
          "execution_count": 183
        }
      ]
    },
    {
      "cell_type": "code",
      "source": [
        "data.dtypes"
      ],
      "metadata": {
        "colab": {
          "base_uri": "https://localhost:8080/"
        },
        "id": "g1hY0v1rOkfF",
        "outputId": "aae5da55-e647-42f0-d7de-c79d1df110f3"
      },
      "execution_count": null,
      "outputs": [
        {
          "output_type": "execute_result",
          "data": {
            "text/plain": [
              "ClientPeriod                  int64\n",
              "MonthlySpending             float64\n",
              "TotalSpent                   object\n",
              "Sex                          object\n",
              "IsSeniorCitizen               int64\n",
              "HasPartner                   object\n",
              "HasChild                     object\n",
              "HasPhoneService              object\n",
              "HasMultiplePhoneNumbers      object\n",
              "HasInternetService           object\n",
              "HasOnlineSecurityService     object\n",
              "HasOnlineBackup              object\n",
              "HasDeviceProtection          object\n",
              "HasTechSupportAccess         object\n",
              "HasOnlineTV                  object\n",
              "HasMovieSubscription         object\n",
              "HasContractPhone             object\n",
              "IsBillingPaperless           object\n",
              "PaymentMethod                object\n",
              "Churn                         int64\n",
              "dtype: object"
            ]
          },
          "metadata": {},
          "execution_count": 184
        }
      ]
    },
    {
      "cell_type": "markdown",
      "source": [
        "Видим, что столбец TotalSpent имеет тип object, хотя мы ожидаем там float. Дело в том, что чиловые значения здесь записаны строками. Однако напрямую преобразовать в число их нельзя, т.к. содержатся пустые строки. Поэтому заменим ' ' на 'Nan', затем преобразуем столбце в число."
      ],
      "metadata": {
        "id": "d3dZlj6ePLCh"
      }
    },
    {
      "cell_type": "code",
      "source": [
        "header = data.columns[:-1]\n",
        "num_cols = header[[0, 1, 2, 4]].to_list()\n",
        "cat_cols = header[3 :].delete(1).to_list()\n",
        "target_col = data.columns[-1]"
      ],
      "metadata": {
        "id": "32qrovxPQFOY"
      },
      "execution_count": 4,
      "outputs": []
    },
    {
      "cell_type": "code",
      "source": [
        "if sum((data[num_cols[2]] == ' ' ) | (data[num_cols[2]] == '' )) != 0:\n",
        "  data[num_cols[2]].replace([' ', ''], ['Nan', 'Nan'], inplace=True)\n",
        "data[num_cols[2]] = data[num_cols[2]].astype(float)"
      ],
      "metadata": {
        "id": "ua_WxkOqRQww"
      },
      "execution_count": 5,
      "outputs": []
    },
    {
      "cell_type": "code",
      "source": [
        "nan_count = data.isna().sum()\n",
        "print(f'Nan is not defined') if max(nan_count) == 0 else  print(nan_count[nan_count != 0 ])"
      ],
      "metadata": {
        "colab": {
          "base_uri": "https://localhost:8080/"
        },
        "id": "uJxrcFNnUiLW",
        "outputId": "c62414f6-a231-49a4-8a83-8d5e9d8a77f9"
      },
      "execution_count": 6,
      "outputs": [
        {
          "output_type": "stream",
          "name": "stdout",
          "text": [
            "TotalSpent    9\n",
            "dtype: int64\n"
          ]
        }
      ]
    },
    {
      "cell_type": "markdown",
      "source": [
        "Заменим Nan на среднее месячных трат"
      ],
      "metadata": {
        "id": "WG1-Czkxsvwr"
      }
    },
    {
      "cell_type": "code",
      "source": [
        "data['TotalSpent'].fillna(data['MonthlySpending'].mean(), inplace=True)"
      ],
      "metadata": {
        "id": "rGWh-djprvrl"
      },
      "execution_count": 7,
      "outputs": []
    },
    {
      "cell_type": "code",
      "source": [
        "data.info()"
      ],
      "metadata": {
        "colab": {
          "base_uri": "https://localhost:8080/"
        },
        "id": "a6kGL_ZlUURj",
        "outputId": "000ccfb7-a2de-4b77-de29-2f03eb1899a7"
      },
      "execution_count": 8,
      "outputs": [
        {
          "output_type": "stream",
          "name": "stdout",
          "text": [
            "<class 'pandas.core.frame.DataFrame'>\n",
            "RangeIndex: 5282 entries, 0 to 5281\n",
            "Data columns (total 20 columns):\n",
            " #   Column                    Non-Null Count  Dtype  \n",
            "---  ------                    --------------  -----  \n",
            " 0   ClientPeriod              5282 non-null   int64  \n",
            " 1   MonthlySpending           5282 non-null   float64\n",
            " 2   TotalSpent                5282 non-null   float64\n",
            " 3   Sex                       5282 non-null   object \n",
            " 4   IsSeniorCitizen           5282 non-null   int64  \n",
            " 5   HasPartner                5282 non-null   object \n",
            " 6   HasChild                  5282 non-null   object \n",
            " 7   HasPhoneService           5282 non-null   object \n",
            " 8   HasMultiplePhoneNumbers   5282 non-null   object \n",
            " 9   HasInternetService        5282 non-null   object \n",
            " 10  HasOnlineSecurityService  5282 non-null   object \n",
            " 11  HasOnlineBackup           5282 non-null   object \n",
            " 12  HasDeviceProtection       5282 non-null   object \n",
            " 13  HasTechSupportAccess      5282 non-null   object \n",
            " 14  HasOnlineTV               5282 non-null   object \n",
            " 15  HasMovieSubscription      5282 non-null   object \n",
            " 16  HasContractPhone          5282 non-null   object \n",
            " 17  IsBillingPaperless        5282 non-null   object \n",
            " 18  PaymentMethod             5282 non-null   object \n",
            " 19  Churn                     5282 non-null   int64  \n",
            "dtypes: float64(2), int64(3), object(15)\n",
            "memory usage: 825.4+ KB\n"
          ]
        }
      ]
    },
    {
      "cell_type": "markdown",
      "source": [
        "### Гистограммы числовых признаков"
      ],
      "metadata": {
        "id": "CpESerqfbNMU"
      }
    },
    {
      "cell_type": "code",
      "source": [
        "from matplotlib import pyplot as plt\n",
        "data[num_cols].hist(figsize = (14, 10),  bins=20)\n",
        "None"
      ],
      "metadata": {
        "colab": {
          "base_uri": "https://localhost:8080/",
          "height": 853
        },
        "id": "Y-K2Ff36UY2r",
        "outputId": "76cf803c-f9af-4c1d-d65e-c3722d17e18b"
      },
      "execution_count": 9,
      "outputs": [
        {
          "output_type": "display_data",
          "data": {
            "text/plain": [
              "<Figure size 1400x1000 with 4 Axes>"
            ],
            "image/png": "[encoded data removed]"
          },
          "metadata": {}
        }
      ]
    },
    {
      "cell_type": "code",
      "source": [],
      "metadata": {
        "id": "-lNij7PYICGU"
      },
      "execution_count": null,
      "outputs": []
    },
    {
      "cell_type": "markdown",
      "source": [
        "Попробуем посмотреть логарифмированный график 'TotalSpent', может, он будет более сбалансирован. А также построим график отношения 'TotalSpent'/'ClientPeriod'."
      ],
      "metadata": {
        "id": "M_dLoGGiIC0m"
      }
    },
    {
      "cell_type": "code",
      "source": [
        "added_cols = pd.DataFrame({'TotalSpen_div_ClPeriod': data['TotalSpent']/(data['ClientPeriod']+1),\n",
        "                           'log_TotalSpent': np.log1p(data['TotalSpent'])})"
      ],
      "metadata": {
        "id": "ZYlXmCY-HtIg"
      },
      "execution_count": 10,
      "outputs": []
    },
    {
      "cell_type": "code",
      "source": [
        "added_cols.hist(bins=20)\n",
        "None"
      ],
      "metadata": {
        "colab": {
          "base_uri": "https://localhost:8080/",
          "height": 452
        },
        "id": "--ez3s95JDIf",
        "outputId": "bcb797e0-1f2f-4179-e414-0ee9fa37ed48"
      },
      "execution_count": 11,
      "outputs": [
        {
          "output_type": "display_data",
          "data": {
            "text/plain": [
              "<Figure size 640x480 with 2 Axes>"
            ],
            "image/png": "[encoded data removed]"
          },
          "metadata": {}
        }
      ]
    },
    {
      "cell_type": "markdown",
      "source": [
        "Из графиокв видно, что разница между максимумами и остальными значениями сократилась. Добавим эти два столбца в матрицу признаков X_added и затем сравним предсказания с исходной матрицей признаков X. \n",
        "Матрицу признаков X и вектор целевого признакак Y создадим ниже"
      ],
      "metadata": {
        "id": "vJUN-JysJtfX"
      }
    },
    {
      "cell_type": "code",
      "source": [
        "X = data[num_cols]\n",
        "X_added = pd.concat([X, added_cols], axis=1)\n",
        "Y = data[target_col]"
      ],
      "metadata": {
        "id": "3iBExqRTLNPZ"
      },
      "execution_count": 12,
      "outputs": []
    },
    {
      "cell_type": "markdown",
      "source": [
        "### Таблица корреляции признаков"
      ],
      "metadata": {
        "id": "JVl4wNwrbYzo"
      }
    },
    {
      "cell_type": "markdown",
      "source": [
        "Построим  карту корреляции между числовыми признаками и целевым признаком. "
      ],
      "metadata": {
        "id": "dQDrOJZyN-l9"
      }
    },
    {
      "cell_type": "code",
      "source": [
        "X_for_corr = pd.concat([X_added, data[target_col]], axis=1)\n",
        "X_for_corr.corr().style.background_gradient(cmap='coolwarm').set_precision(2)"
      ],
      "metadata": {
        "colab": {
          "base_uri": "https://localhost:8080/",
          "height": 303
        },
        "id": "9z14UvWBLgp1",
        "outputId": "0df4bfa5-2fb7-4cca-c02e-6403bbc1af91"
      },
      "execution_count": 13,
      "outputs": [
        {
          "output_type": "stream",
          "name": "stderr",
          "text": [
            "<ipython-input-13-7c29c95ebb2b>:2: FutureWarning: this method is deprecated in favour of `Styler.format(precision=..)`\n",
            "  X_for_corr.corr().style.background_gradient(cmap='coolwarm').set_precision(2)\n"
          ]
        },
        {
          "output_type": "execute_result",
          "data": {
            "text/plain": [
              "<pandas.io.formats.style.Styler at 0x7f8205c2c400>"
            ],
            "text/html": [
              "<style type=\"text/css\">\n",
              "#T_fc8ad_row0_col0, #T_fc8ad_row1_col1, #T_fc8ad_row2_col2, #T_fc8ad_row3_col3, #T_fc8ad_row4_col4, #T_fc8ad_row5_col5, #T_fc8ad_row6_col6 {\n",
              "  background-color: #b40426;\n",
              "  color: #f1f1f1;\n",
              "}\n",
              "#T_fc8ad_row0_col1 {\n",
              "  background-color: #536edd;\n",
              "  color: #f1f1f1;\n",
              "}\n",
              "#T_fc8ad_row0_col2 {\n",
              "  background-color: #e26952;\n",
              "  color: #f1f1f1;\n",
              "}\n",
              "#T_fc8ad_row0_col3, #T_fc8ad_row0_col6, #T_fc8ad_row6_col0, #T_fc8ad_row6_col1, #T_fc8ad_row6_col2, #T_fc8ad_row6_col4, #T_fc8ad_row6_col5 {\n",
              "  background-color: #3b4cc0;\n",
              "  color: #f1f1f1;\n",
              "}\n",
              "#T_fc8ad_row0_col4 {\n",
              "  background-color: #b6cefa;\n",
              "  color: #000000;\n",
              "}\n",
              "#T_fc8ad_row0_col5, #T_fc8ad_row2_col5 {\n",
              "  background-color: #e0654f;\n",
              "  color: #f1f1f1;\n",
              "}\n",
              "#T_fc8ad_row1_col0 {\n",
              "  background-color: #cdd9ec;\n",
              "  color: #000000;\n",
              "}\n",
              "#T_fc8ad_row1_col2 {\n",
              "  background-color: #f7a98b;\n",
              "  color: #000000;\n",
              "}\n",
              "#T_fc8ad_row1_col3 {\n",
              "  background-color: #7da0f9;\n",
              "  color: #f1f1f1;\n",
              "}\n",
              "#T_fc8ad_row1_col4 {\n",
              "  background-color: #c43032;\n",
              "  color: #f1f1f1;\n",
              "}\n",
              "#T_fc8ad_row1_col5 {\n",
              "  background-color: #f7ba9f;\n",
              "  color: #000000;\n",
              "}\n",
              "#T_fc8ad_row1_col6 {\n",
              "  background-color: #bfd3f6;\n",
              "  color: #000000;\n",
              "}\n",
              "#T_fc8ad_row2_col0 {\n",
              "  background-color: #de614d;\n",
              "  color: #f1f1f1;\n",
              "}\n",
              "#T_fc8ad_row2_col1 {\n",
              "  background-color: #edd1c2;\n",
              "  color: #000000;\n",
              "}\n",
              "#T_fc8ad_row2_col3, #T_fc8ad_row5_col6 {\n",
              "  background-color: #5470de;\n",
              "  color: #f1f1f1;\n",
              "}\n",
              "#T_fc8ad_row2_col4 {\n",
              "  background-color: #f49a7b;\n",
              "  color: #000000;\n",
              "}\n",
              "#T_fc8ad_row2_col6 {\n",
              "  background-color: #5d7ce6;\n",
              "  color: #f1f1f1;\n",
              "}\n",
              "#T_fc8ad_row3_col0 {\n",
              "  background-color: #93b5fe;\n",
              "  color: #000000;\n",
              "}\n",
              "#T_fc8ad_row3_col1 {\n",
              "  background-color: #455cce;\n",
              "  color: #f1f1f1;\n",
              "}\n",
              "#T_fc8ad_row3_col2 {\n",
              "  background-color: #8badfd;\n",
              "  color: #000000;\n",
              "}\n",
              "#T_fc8ad_row3_col4 {\n",
              "  background-color: #6687ed;\n",
              "  color: #f1f1f1;\n",
              "}\n",
              "#T_fc8ad_row3_col5 {\n",
              "  background-color: #96b7ff;\n",
              "  color: #000000;\n",
              "}\n",
              "#T_fc8ad_row3_col6 {\n",
              "  background-color: #b9d0f9;\n",
              "  color: #000000;\n",
              "}\n",
              "#T_fc8ad_row4_col0 {\n",
              "  background-color: #ecd3c5;\n",
              "  color: #000000;\n",
              "}\n",
              "#T_fc8ad_row4_col1 {\n",
              "  background-color: #c73635;\n",
              "  color: #f1f1f1;\n",
              "}\n",
              "#T_fc8ad_row4_col2 {\n",
              "  background-color: #ed8366;\n",
              "  color: #f1f1f1;\n",
              "}\n",
              "#T_fc8ad_row4_col3 {\n",
              "  background-color: #7699f6;\n",
              "  color: #f1f1f1;\n",
              "}\n",
              "#T_fc8ad_row4_col5 {\n",
              "  background-color: #ee8669;\n",
              "  color: #f1f1f1;\n",
              "}\n",
              "#T_fc8ad_row4_col6 {\n",
              "  background-color: #a1c0ff;\n",
              "  color: #000000;\n",
              "}\n",
              "#T_fc8ad_row5_col0 {\n",
              "  background-color: #dd5f4b;\n",
              "  color: #f1f1f1;\n",
              "}\n",
              "#T_fc8ad_row5_col1 {\n",
              "  background-color: #d8dce2;\n",
              "  color: #000000;\n",
              "}\n",
              "#T_fc8ad_row5_col2 {\n",
              "  background-color: #e16751;\n",
              "  color: #f1f1f1;\n",
              "}\n",
              "#T_fc8ad_row5_col3 {\n",
              "  background-color: #5572df;\n",
              "  color: #f1f1f1;\n",
              "}\n",
              "#T_fc8ad_row5_col4 {\n",
              "  background-color: #f6a385;\n",
              "  color: #000000;\n",
              "}\n",
              "#T_fc8ad_row6_col3 {\n",
              "  background-color: #688aef;\n",
              "  color: #f1f1f1;\n",
              "}\n",
              "</style>\n",
              "<table id=\"T_fc8ad\" class=\"dataframe\">\n",
              "  <thead>\n",
              "    <tr>\n",
              "      <th class=\"blank level0\" >&nbsp;</th>\n",
              "      <th id=\"T_fc8ad_level0_col0\" class=\"col_heading level0 col0\" >ClientPeriod</th>\n",
              "      <th id=\"T_fc8ad_level0_col1\" class=\"col_heading level0 col1\" >MonthlySpending</th>\n",
              "      <th id=\"T_fc8ad_level0_col2\" class=\"col_heading level0 col2\" >TotalSpent</th>\n",
              "      <th id=\"T_fc8ad_level0_col3\" class=\"col_heading level0 col3\" >IsSeniorCitizen</th>\n",
              "      <th id=\"T_fc8ad_level0_col4\" class=\"col_heading level0 col4\" >TotalSpen_div_ClPeriod</th>\n",
              "      <th id=\"T_fc8ad_level0_col5\" class=\"col_heading level0 col5\" >log_TotalSpent</th>\n",
              "      <th id=\"T_fc8ad_level0_col6\" class=\"col_heading level0 col6\" >Churn</th>\n",
              "    </tr>\n",
              "  </thead>\n",
              "  <tbody>\n",
              "    <tr>\n",
              "      <th id=\"T_fc8ad_level0_row0\" class=\"row_heading level0 row0\" >ClientPeriod</th>\n",
              "      <td id=\"T_fc8ad_row0_col0\" class=\"data row0 col0\" >1.00</td>\n",
              "      <td id=\"T_fc8ad_row0_col1\" class=\"data row0 col1\" >0.25</td>\n",
              "      <td id=\"T_fc8ad_row0_col2\" class=\"data row0 col2\" >0.83</td>\n",
              "      <td id=\"T_fc8ad_row0_col3\" class=\"data row0 col3\" >0.01</td>\n",
              "      <td id=\"T_fc8ad_row0_col4\" class=\"data row0 col4\" >0.41</td>\n",
              "      <td id=\"T_fc8ad_row0_col5\" class=\"data row0 col5\" >0.83</td>\n",
              "      <td id=\"T_fc8ad_row0_col6\" class=\"data row0 col6\" >-0.35</td>\n",
              "    </tr>\n",
              "    <tr>\n",
              "      <th id=\"T_fc8ad_level0_row1\" class=\"row_heading level0 row1\" >MonthlySpending</th>\n",
              "      <td id=\"T_fc8ad_row1_col0\" class=\"data row1 col0\" >0.25</td>\n",
              "      <td id=\"T_fc8ad_row1_col1\" class=\"data row1 col1\" >1.00</td>\n",
              "      <td id=\"T_fc8ad_row1_col2\" class=\"data row1 col2\" >0.65</td>\n",
              "      <td id=\"T_fc8ad_row1_col3\" class=\"data row1 col3\" >0.22</td>\n",
              "      <td id=\"T_fc8ad_row1_col4\" class=\"data row1 col4\" >0.96</td>\n",
              "      <td id=\"T_fc8ad_row1_col5\" class=\"data row1 col5\" >0.58</td>\n",
              "      <td id=\"T_fc8ad_row1_col6\" class=\"data row1 col6\" >0.18</td>\n",
              "    </tr>\n",
              "    <tr>\n",
              "      <th id=\"T_fc8ad_level0_row2\" class=\"row_heading level0 row2\" >TotalSpent</th>\n",
              "      <td id=\"T_fc8ad_row2_col0\" class=\"data row2 col0\" >0.83</td>\n",
              "      <td id=\"T_fc8ad_row2_col1\" class=\"data row2 col1\" >0.65</td>\n",
              "      <td id=\"T_fc8ad_row2_col2\" class=\"data row2 col2\" >1.00</td>\n",
              "      <td id=\"T_fc8ad_row2_col3\" class=\"data row2 col3\" >0.09</td>\n",
              "      <td id=\"T_fc8ad_row2_col4\" class=\"data row2 col4\" >0.76</td>\n",
              "      <td id=\"T_fc8ad_row2_col5\" class=\"data row2 col5\" >0.83</td>\n",
              "      <td id=\"T_fc8ad_row2_col6\" class=\"data row2 col6\" >-0.20</td>\n",
              "    </tr>\n",
              "    <tr>\n",
              "      <th id=\"T_fc8ad_level0_row3\" class=\"row_heading level0 row3\" >IsSeniorCitizen</th>\n",
              "      <td id=\"T_fc8ad_row3_col0\" class=\"data row3 col0\" >0.01</td>\n",
              "      <td id=\"T_fc8ad_row3_col1\" class=\"data row3 col1\" >0.22</td>\n",
              "      <td id=\"T_fc8ad_row3_col2\" class=\"data row3 col2\" >0.09</td>\n",
              "      <td id=\"T_fc8ad_row3_col3\" class=\"data row3 col3\" >1.00</td>\n",
              "      <td id=\"T_fc8ad_row3_col4\" class=\"data row3 col4\" >0.20</td>\n",
              "      <td id=\"T_fc8ad_row3_col5\" class=\"data row3 col5\" >0.10</td>\n",
              "      <td id=\"T_fc8ad_row3_col6\" class=\"data row3 col6\" >0.16</td>\n",
              "    </tr>\n",
              "    <tr>\n",
              "      <th id=\"T_fc8ad_level0_row4\" class=\"row_heading level0 row4\" >TotalSpen_div_ClPeriod</th>\n",
              "      <td id=\"T_fc8ad_row4_col0\" class=\"data row4 col0\" >0.41</td>\n",
              "      <td id=\"T_fc8ad_row4_col1\" class=\"data row4 col1\" >0.96</td>\n",
              "      <td id=\"T_fc8ad_row4_col2\" class=\"data row4 col2\" >0.76</td>\n",
              "      <td id=\"T_fc8ad_row4_col3\" class=\"data row4 col3\" >0.20</td>\n",
              "      <td id=\"T_fc8ad_row4_col4\" class=\"data row4 col4\" >1.00</td>\n",
              "      <td id=\"T_fc8ad_row4_col5\" class=\"data row4 col5\" >0.74</td>\n",
              "      <td id=\"T_fc8ad_row4_col6\" class=\"data row4 col6\" >0.07</td>\n",
              "    </tr>\n",
              "    <tr>\n",
              "      <th id=\"T_fc8ad_level0_row5\" class=\"row_heading level0 row5\" >log_TotalSpent</th>\n",
              "      <td id=\"T_fc8ad_row5_col0\" class=\"data row5 col0\" >0.83</td>\n",
              "      <td id=\"T_fc8ad_row5_col1\" class=\"data row5 col1\" >0.58</td>\n",
              "      <td id=\"T_fc8ad_row5_col2\" class=\"data row5 col2\" >0.83</td>\n",
              "      <td id=\"T_fc8ad_row5_col3\" class=\"data row5 col3\" >0.10</td>\n",
              "      <td id=\"T_fc8ad_row5_col4\" class=\"data row5 col4\" >0.74</td>\n",
              "      <td id=\"T_fc8ad_row5_col5\" class=\"data row5 col5\" >1.00</td>\n",
              "      <td id=\"T_fc8ad_row5_col6\" class=\"data row5 col6\" >-0.24</td>\n",
              "    </tr>\n",
              "    <tr>\n",
              "      <th id=\"T_fc8ad_level0_row6\" class=\"row_heading level0 row6\" >Churn</th>\n",
              "      <td id=\"T_fc8ad_row6_col0\" class=\"data row6 col0\" >-0.35</td>\n",
              "      <td id=\"T_fc8ad_row6_col1\" class=\"data row6 col1\" >0.18</td>\n",
              "      <td id=\"T_fc8ad_row6_col2\" class=\"data row6 col2\" >-0.20</td>\n",
              "      <td id=\"T_fc8ad_row6_col3\" class=\"data row6 col3\" >0.16</td>\n",
              "      <td id=\"T_fc8ad_row6_col4\" class=\"data row6 col4\" >0.07</td>\n",
              "      <td id=\"T_fc8ad_row6_col5\" class=\"data row6 col5\" >-0.24</td>\n",
              "      <td id=\"T_fc8ad_row6_col6\" class=\"data row6 col6\" >1.00</td>\n",
              "    </tr>\n",
              "  </tbody>\n",
              "</table>\n"
            ]
          },
          "metadata": {},
          "execution_count": 13
        }
      ]
    },
    {
      "cell_type": "markdown",
      "source": [
        "Из карты корреляции видим, что существенных (близких к 1) взаимосвязей между признаками и целью нет, однако 0,35 тоже неплохо. Обратим внимание, на добавленные признаки. Log_TotalSpent имеет корреляцию с целевым признаком 0,24, а  TotalSpe_div_ClPeriod - значительно меньше 0,07. Посокльку TotalSpe_div_ClPeriod корреляция с целью близка к нулю уберем его из рассмотрения."
      ],
      "metadata": {
        "id": "MjoySOzQOQ2d"
      }
    },
    {
      "cell_type": "code",
      "source": [
        "X_added.drop(['TotalSpen_div_ClPeriod'], axis=1, inplace=True)\n",
        "num_cols_added = X_added.columns.to_list()"
      ],
      "metadata": {
        "id": "T8wVFYPaMjMH"
      },
      "execution_count": 14,
      "outputs": []
    },
    {
      "cell_type": "markdown",
      "source": [
        "### Гистограмы категориальных признаков"
      ],
      "metadata": {
        "id": "0YjsFh74bh2B"
      }
    },
    {
      "cell_type": "markdown",
      "source": [
        "Посмотрим на категориальные признаки.\n",
        "Отобразим те из них, которые соответствуют оттоку клиентов, то есть Churn=1"
      ],
      "metadata": {
        "id": "CNQFA_E9Q_Wd"
      }
    },
    {
      "cell_type": "code",
      "source": [
        "data_churn = data[data[target_col]==1] \n",
        "\n",
        "n = 4\n",
        "n_subplots = int(np.ceil(len(cat_cols)/n))\n",
        "for i in range(len(cat_cols)):\n",
        "  plt.subplot(n_subplots, n, i+1, in_layout=True)\n",
        "  plt.tight_layout()\n",
        "  data_churn[[cat_cols[i], target_col]].groupby(target_col).value_counts().plot.barh(figsize=(14, 10), ylabel=cat_cols[i])\n"
      ],
      "metadata": {
        "colab": {
          "base_uri": "https://localhost:8080/",
          "height": 925
        },
        "id": "qwo1fsWmQ-SC",
        "outputId": "cd622fa0-69c0-4feb-924a-ba65d21777f3"
      },
      "execution_count": 15,
      "outputs": [
        {
          "output_type": "display_data",
          "data": {
            "text/plain": [
              "<Figure size 1400x1000 with 15 Axes>"
            ],
            "image/png": "[encoded data removed]"
          },
          "metadata": {}
        }
      ]
    },
    {
      "cell_type": "markdown",
      "source": [
        "Из графиков видно, что некоторые категориальные признаки выразительны например, HasDeviceProtection, HasOnlineSecurityService, HasOnlineBackup. Это обнадеживает))"
      ],
      "metadata": {
        "id": "cKQXp7gDwOlQ"
      }
    },
    {
      "cell_type": "markdown",
      "source": [
        "Преобразуем категориальные признаки в бинарные с помощью one-hot-encoding и добавим их в матрицы признаков X и X_added"
      ],
      "metadata": {
        "id": "PZTfy1DjRMQz"
      }
    },
    {
      "cell_type": "code",
      "source": [
        "df_cat_encod = pd.get_dummies(data[cat_cols], columns = cat_cols)\n",
        "X_cat_encod = X.copy()\n",
        "X_cat_encod = pd.concat([X_cat_encod, df_cat_encod], axis = 1)\n",
        "X_added = pd.concat([X_added, df_cat_encod], axis = 1)\n",
        "# X содержит только num_cols. Добавим столбцы cat_cols как категориальные \n",
        "X = pd.concat([X, data[cat_cols]], axis=1)\n",
        "\n",
        "name_cols = X_cat_encod.columns.to_list()\n",
        "for name in num_cols:\n",
        "  name_cols.remove(name)\n",
        "name_cols\n",
        "cat_encod_cols = name_cols"
      ],
      "metadata": {
        "id": "e4zmC34BLCF3"
      },
      "execution_count": 16,
      "outputs": []
    },
    {
      "cell_type": "markdown",
      "source": [
        "Посмотрим распределение целевого признака:"
      ],
      "metadata": {
        "id": "JET7K9wRShfM"
      }
    },
    {
      "cell_type": "code",
      "source": [
        "Y.hist()"
      ],
      "metadata": {
        "colab": {
          "base_uri": "https://localhost:8080/",
          "height": 447
        },
        "id": "ZWfbDYASSS1c",
        "outputId": "02ec8309-da62-49dd-d74d-b1fa1167dcbe"
      },
      "execution_count": 17,
      "outputs": [
        {
          "output_type": "execute_result",
          "data": {
            "text/plain": [
              "<Axes: >"
            ]
          },
          "metadata": {},
          "execution_count": 17
        },
        {
          "output_type": "display_data",
          "data": {
            "text/plain": [
              "<Figure size 640x480 with 1 Axes>"
            ],
            "image/png": "[encoded data removed]"
          },
          "metadata": {}
        }
      ]
    },
    {
      "cell_type": "code",
      "source": [
        "part_1 = data[target_col].value_counts()[1] / data[target_col].value_counts()[0]"
      ],
      "metadata": {
        "id": "hmO6Nus7RceC"
      },
      "execution_count": 18,
      "outputs": []
    },
    {
      "cell_type": "markdown",
      "source": [
        "part_1 = 0.355 - это количсество представителей 1 класса в выборке. Говорит о том, что выборка немного не сбалансированна, поэтому не используем метрику accuracy, будем пользоваться метрикой roc_auc"
      ],
      "metadata": {
        "id": "oo8mKDypR0m8"
      }
    },
    {
      "cell_type": "markdown",
      "source": [
        "## Логистическая регрессия"
      ],
      "metadata": {
        "id": "WvCpFMGnbw6b"
      }
    },
    {
      "cell_type": "markdown",
      "source": [
        "Создадим функцию для предсказания целевого признака(оттока клиентов) логистическим регрессором. Внутри функции будем проводить стандартизацию числовых признаков. Коэффициент регуляризации C является входным параметром функции (чтоб можно было подобрать лучший).\n",
        "Возвращает функция кортеж из оценок roc_auc для тренировочной части выборки и для тестовой"
      ],
      "metadata": {
        "id": "kDInMN5cS6U6"
      }
    },
    {
      "cell_type": "code",
      "source": [
        "def roc_auc_LogReg(x, y, c):\n",
        "  x_train, x_test, y_train, y_test = train_test_split(x , y, test_size=0.3, random_state = 42)\n",
        "  index_train = x_train.index\n",
        "  index_test = x_test.index\n",
        "  \n",
        "  ssc = StandardScaler()\n",
        "  x_num_train_sc = ssc.fit_transform(x_train[num_cols])\n",
        "  x_num_test_sc = ssc.transform(x_test[num_cols])\n",
        "  x_num_train_sc = pd.DataFrame(x_num_train_sc, columns=num_cols, index = index_train)\n",
        "  x_num_test_sc = pd.DataFrame(x_num_test_sc, columns=num_cols, index = index_test)\n",
        "\n",
        "  x_train_sc = pd.concat([x_num_train_sc, x_train[cat_encod_cols]], axis = 1)\n",
        "  x_test_sc = pd.concat([x_num_test_sc, x_test[cat_encod_cols]], axis = 1)\n",
        "\n",
        "  lr = LogisticRegression(penalty='l2', \n",
        "                          C=c,\n",
        "                          class_weight='balanced',\n",
        "                          solver='liblinear')\n",
        "  \n",
        "  lr.fit(x_train_sc, y_train)\n",
        "  y_proba = lr.predict_proba(x_test_sc)\n",
        "  y_proba_train = lr.predict_proba(x_train_sc)\n",
        "\n",
        "  return roc_auc_score(y_train, y_proba_train[:,1]), roc_auc_score(y_test, y_proba[:,1])"
      ],
      "metadata": {
        "id": "LT1Tdsmy659Q"
      },
      "execution_count": 19,
      "outputs": []
    },
    {
      "cell_type": "code",
      "source": [
        "C = [0.001, 0.01, 0.1, 1, 5, 10, 20, 100]\n",
        "roc_auc = np.empty((len(C),2))\n",
        "for i, c in enumerate(C):\n",
        "  roc_auc[i] = roc_auc_LogReg(X_cat_encod, Y, c)\n",
        "\n",
        "best_C = C[np.argmax(roc_auc[:,1])]\n",
        "best_score = round(max(roc_auc[:,1]), 4)\n",
        "print(f'roc_auc= {best_score} with C= {best_C}')"
      ],
      "metadata": {
        "colab": {
          "base_uri": "https://localhost:8080/"
        },
        "id": "V09ki6FT_v5y",
        "outputId": "52c741dc-65f4-4fdb-9443-26a954613601"
      },
      "execution_count": 20,
      "outputs": [
        {
          "output_type": "stream",
          "name": "stdout",
          "text": [
            "roc_auc= 0.8316 with C= 1\n"
          ]
        }
      ]
    },
    {
      "cell_type": "code",
      "source": [
        "C = [0.001, 0.01, 0.1, 1, 5, 10, 20, 100]\n",
        "roc_auc = np.empty((len(C),2))\n",
        "for i, c in enumerate(C):\n",
        "  roc_auc[i] = roc_auc_LogReg(X_added, Y, c)\n",
        "\n",
        "best_C = C[np.argmax(roc_auc[:,1])]\n",
        "best_score = round(max(roc_auc[:,1]), 4)\n",
        "print(f'roc_auc= {best_score} with C= {best_C}')"
      ],
      "metadata": {
        "colab": {
          "base_uri": "https://localhost:8080/"
        },
        "id": "931INhsb5Zoa",
        "outputId": "2f111c0b-0b8c-42dd-fffd-598f37998964"
      },
      "execution_count": 21,
      "outputs": [
        {
          "output_type": "stream",
          "name": "stdout",
          "text": [
            "roc_auc= 0.8316 with C= 1\n"
          ]
        }
      ]
    },
    {
      "cell_type": "markdown",
      "source": [
        "Как видно из двух предыдущих ячеек, точность предсказания одинаковая на обеих матрицах признаков и состоавляет 0.8316 при C=1."
      ],
      "metadata": {
        "id": "oaEz_F0yUPqI"
      }
    },
    {
      "cell_type": "markdown",
      "source": [
        "Построим пайплайн для поиска параметров логистической регрессии с помощью GrigSearchCV. "
      ],
      "metadata": {
        "id": "FH-1_DISCweJ"
      }
    },
    {
      "cell_type": "code",
      "source": [
        "log_total_spent = np.log1p(data['TotalSpent'])\n",
        "log_total_spent.rename('Log_TotalSpent', inplace=True)\n",
        "X = pd.concat([X, log_total_spent], axis = 1)\n",
        "X.head(2)"
      ],
      "metadata": {
        "colab": {
          "base_uri": "https://localhost:8080/",
          "height": 210
        },
        "id": "dCdIIlDbNVtK",
        "outputId": "32c80cfe-2d8a-481e-908a-e1df4a2efe96"
      },
      "execution_count": 22,
      "outputs": [
        {
          "output_type": "execute_result",
          "data": {
            "text/plain": [
              "   ClientPeriod  MonthlySpending  TotalSpent  IsSeniorCitizen   Sex  \\\n",
              "0            55            19.50     1026.35                0  Male   \n",
              "1            72            25.85     1872.20                0  Male   \n",
              "\n",
              "  HasPartner HasChild HasPhoneService HasMultiplePhoneNumbers  \\\n",
              "0        Yes      Yes             Yes                      No   \n",
              "1        Yes       No             Yes                     Yes   \n",
              "\n",
              "  HasInternetService HasOnlineSecurityService      HasOnlineBackup  \\\n",
              "0                 No      No internet service  No internet service   \n",
              "1                 No      No internet service  No internet service   \n",
              "\n",
              "   HasDeviceProtection HasTechSupportAccess          HasOnlineTV  \\\n",
              "0  No internet service  No internet service  No internet service   \n",
              "1  No internet service  No internet service  No internet service   \n",
              "\n",
              "  HasMovieSubscription HasContractPhone IsBillingPaperless  \\\n",
              "0  No internet service         One year                 No   \n",
              "1  No internet service         Two year                 No   \n",
              "\n",
              "             PaymentMethod  Log_TotalSpent  \n",
              "0             Mailed check        6.934738  \n",
              "1  Credit card (automatic)        7.535403  "
            ],
            "text/html": [
              "\n",
              "  <div id=\"df-715d3c07-c13d-4f66-8db7-b9c542363532\">\n",
              "    <div class=\"colab-df-container\">\n",
              "      <div>\n",
              "<style scoped>\n",
              "    .dataframe tbody tr th:only-of-type {\n",
              "        vertical-align: middle;\n",
              "    }\n",
              "\n",
              "    .dataframe tbody tr th {\n",
              "        vertical-align: top;\n",
              "    }\n",
              "\n",
              "    .dataframe thead th {\n",
              "        text-align: right;\n",
              "    }\n",
              "</style>\n",
              "<table border=\"1\" class=\"dataframe\">\n",
              "  <thead>\n",
              "    <tr style=\"text-align: right;\">\n",
              "      <th></th>\n",
              "      <th>ClientPeriod</th>\n",
              "      <th>MonthlySpending</th>\n",
              "      <th>TotalSpent</th>\n",
              "      <th>IsSeniorCitizen</th>\n",
              "      <th>Sex</th>\n",
              "      <th>HasPartner</th>\n",
              "      <th>HasChild</th>\n",
              "      <th>HasPhoneService</th>\n",
              "      <th>HasMultiplePhoneNumbers</th>\n",
              "      <th>HasInternetService</th>\n",
              "      <th>HasOnlineSecurityService</th>\n",
              "      <th>HasOnlineBackup</th>\n",
              "      <th>HasDeviceProtection</th>\n",
              "      <th>HasTechSupportAccess</th>\n",
              "      <th>HasOnlineTV</th>\n",
              "      <th>HasMovieSubscription</th>\n",
              "      <th>HasContractPhone</th>\n",
              "      <th>IsBillingPaperless</th>\n",
              "      <th>PaymentMethod</th>\n",
              "      <th>Log_TotalSpent</th>\n",
              "    </tr>\n",
              "  </thead>\n",
              "  <tbody>\n",
              "    <tr>\n",
              "      <th>0</th>\n",
              "      <td>55</td>\n",
              "      <td>19.50</td>\n",
              "      <td>1026.35</td>\n",
              "      <td>0</td>\n",
              "      <td>Male</td>\n",
              "      <td>Yes</td>\n",
              "      <td>Yes</td>\n",
              "      <td>Yes</td>\n",
              "      <td>No</td>\n",
              "      <td>No</td>\n",
              "      <td>No internet service</td>\n",
              "      <td>No internet service</td>\n",
              "      <td>No internet service</td>\n",
              "      <td>No internet service</td>\n",
              "      <td>No internet service</td>\n",
              "      <td>No internet service</td>\n",
              "      <td>One year</td>\n",
              "      <td>No</td>\n",
              "      <td>Mailed check</td>\n",
              "      <td>6.934738</td>\n",
              "    </tr>\n",
              "    <tr>\n",
              "      <th>1</th>\n",
              "      <td>72</td>\n",
              "      <td>25.85</td>\n",
              "      <td>1872.20</td>\n",
              "      <td>0</td>\n",
              "      <td>Male</td>\n",
              "      <td>Yes</td>\n",
              "      <td>No</td>\n",
              "      <td>Yes</td>\n",
              "      <td>Yes</td>\n",
              "      <td>No</td>\n",
              "      <td>No internet service</td>\n",
              "      <td>No internet service</td>\n",
              "      <td>No internet service</td>\n",
              "      <td>No internet service</td>\n",
              "      <td>No internet service</td>\n",
              "      <td>No internet service</td>\n",
              "      <td>Two year</td>\n",
              "      <td>No</td>\n",
              "      <td>Credit card (automatic)</td>\n",
              "      <td>7.535403</td>\n",
              "    </tr>\n",
              "  </tbody>\n",
              "</table>\n",
              "</div>\n",
              "      <button class=\"colab-df-convert\" onclick=\"convertToInteractive('df-715d3c07-c13d-4f66-8db7-b9c542363532')\"\n",
              "              title=\"Convert this dataframe to an interactive table.\"\n",
              "              style=\"display:none;\">\n",
              "        \n",
              "  <svg xmlns=\"http://www.w3.org/2000/svg\" height=\"24px\"viewBox=\"0 0 24 24\"\n",
              "       width=\"24px\">\n",
              "    <path d=\"M0 0h24v24H0V0z\" fill=\"none\"/>\n",
              "    <path d=\"M18.56 5.44l.94 2.06.94-2.06 2.06-.94-2.06-.94-.94-2.06-.94 2.06-2.06.94zm-11 1L8.5 8.5l.94-2.06 2.06-.94-2.06-.94L8.5 2.5l-.94 2.06-2.06.94zm10 10l.94 2.06.94-2.06 2.06-.94-2.06-.94-.94-2.06-.94 2.06-2.06.94z\"/><path d=\"M17.41 7.96l-1.37-1.37c-.4-.4-.92-.59-1.43-.59-.52 0-1.04.2-1.43.59L10.3 9.45l-7.72 7.72c-.78.78-.78 2.05 0 2.83L4 21.41c.39.39.9.59 1.41.59.51 0 1.02-.2 1.41-.59l7.78-7.78 2.81-2.81c.8-.78.8-2.07 0-2.86zM5.41 20L4 18.59l7.72-7.72 1.47 1.35L5.41 20z\"/>\n",
              "  </svg>\n",
              "      </button>\n",
              "      \n",
              "  <style>\n",
              "    .colab-df-container {\n",
              "      display:flex;\n",
              "      flex-wrap:wrap;\n",
              "      gap: 12px;\n",
              "    }\n",
              "\n",
              "    .colab-df-convert {\n",
              "      background-color: #E8F0FE;\n",
              "      border: none;\n",
              "      border-radius: 50%;\n",
              "      cursor: pointer;\n",
              "      display: none;\n",
              "      fill: #1967D2;\n",
              "      height: 32px;\n",
              "      padding: 0 0 0 0;\n",
              "      width: 32px;\n",
              "    }\n",
              "\n",
              "    .colab-df-convert:hover {\n",
              "      background-color: #E2EBFA;\n",
              "      box-shadow: 0px 1px 2px rgba(60, 64, 67, 0.3), 0px 1px 3px 1px rgba(60, 64, 67, 0.15);\n",
              "      fill: #174EA6;\n",
              "    }\n",
              "\n",
              "    [theme=dark] .colab-df-convert {\n",
              "      background-color: #3B4455;\n",
              "      fill: #D2E3FC;\n",
              "    }\n",
              "\n",
              "    [theme=dark] .colab-df-convert:hover {\n",
              "      background-color: #434B5C;\n",
              "      box-shadow: 0px 1px 3px 1px rgba(0, 0, 0, 0.15);\n",
              "      filter: drop-shadow(0px 1px 2px rgba(0, 0, 0, 0.3));\n",
              "      fill: #FFFFFF;\n",
              "    }\n",
              "  </style>\n",
              "\n",
              "      <script>\n",
              "        const buttonEl =\n",
              "          document.querySelector('#df-715d3c07-c13d-4f66-8db7-b9c542363532 button.colab-df-convert');\n",
              "        buttonEl.style.display =\n",
              "          google.colab.kernel.accessAllowed ? 'block' : 'none';\n",
              "\n",
              "        async function convertToInteractive(key) {\n",
              "          const element = document.querySelector('#df-715d3c07-c13d-4f66-8db7-b9c542363532');\n",
              "          const dataTable =\n",
              "            await google.colab.kernel.invokeFunction('convertToInteractive',\n",
              "                                                     [key], {});\n",
              "          if (!dataTable) return;\n",
              "\n",
              "          const docLinkHtml = 'Like what you see? Visit the ' +\n",
              "            '<a target=\"_blank\" href=https://colab.research.google.com/notebooks/data_table.ipynb>data table notebook</a>'\n",
              "            + ' to learn more about interactive tables.';\n",
              "          element.innerHTML = '';\n",
              "          dataTable['output_type'] = 'display_data';\n",
              "          await google.colab.output.renderOutput(dataTable, element);\n",
              "          const docLink = document.createElement('div');\n",
              "          docLink.innerHTML = docLinkHtml;\n",
              "          element.appendChild(docLink);\n",
              "        }\n",
              "      </script>\n",
              "    </div>\n",
              "  </div>\n",
              "  "
            ]
          },
          "metadata": {},
          "execution_count": 22
        }
      ]
    },
    {
      "cell_type": "markdown",
      "source": [
        "## Pipeline для стандартизации числовых признаков,OneHotEncoding категориальных признаков. Поиск параметров регрессора по сетке с кросс-валидацией.\n",
        "## Обучение модели"
      ],
      "metadata": {
        "id": "8uzKHlQecAyg"
      }
    },
    {
      "cell_type": "code",
      "source": [
        "from sklearn.compose import ColumnTransformer\n",
        "from sklearn.preprocessing import OneHotEncoder\n",
        "from sklearn.pipeline import Pipeline\n",
        "\n",
        "preproc = ColumnTransformer([\n",
        "    ('num', StandardScaler(), num_cols), \n",
        "    ('cat', OneHotEncoder(handle_unknown='ignore', sparse=False, drop='if_binary'), cat_cols)],\n",
        "     verbose_feature_names_out = False)\n",
        "\n",
        "lrmodel = Pipeline(steps=[\n",
        "    ('enc', preproc), \n",
        "    ('alg', LogisticRegression(max_iter=200))\n",
        "])\n",
        "\n",
        "params = {\n",
        "    'alg__C': [0.001, 0.01, 0.1, 1, 5, 10, 20], \n",
        "    'alg__penalty':['l2', 'none'],  \n",
        "    'alg__solver':['liblinear', 'lbfgs'], \n",
        "    'alg__class_weight':['balanced']\n",
        "}\n",
        "\n",
        "lr = GridSearchCV(lrmodel, params, cv=5, verbose=0, n_jobs=-1, scoring='roc_auc')\n",
        "\n",
        "lr.fit(X, Y)\n",
        "print(f'best_params_: {lr.best_params_}')\n",
        "print(f'best_score_: {lr.best_score_}')"
      ],
      "metadata": {
        "colab": {
          "base_uri": "https://localhost:8080/"
        },
        "id": "_XC89wV619Ff",
        "outputId": "b7ca0182-ff59-46b0-e7a4-6737b2080f4b"
      },
      "execution_count": 23,
      "outputs": [
        {
          "output_type": "stream",
          "name": "stdout",
          "text": [
            "best_params_: {'alg__C': 0.001, 'alg__class_weight': 'balanced', 'alg__penalty': 'none', 'alg__solver': 'lbfgs'}\n",
            "best_score_: 0.8448000310555672\n"
          ]
        },
        {
          "output_type": "stream",
          "name": "stderr",
          "text": [
            "/usr/local/lib/python3.9/dist-packages/sklearn/model_selection/_validation.py:378: FitFailedWarning: \n",
            "35 fits failed out of a total of 140.\n",
            "The score on these train-test partitions for these parameters will be set to nan.\n",
            "If these failures are not expected, you can try to debug them by setting error_score='raise'.\n",
            "\n",
            "Below are more details about the failures:\n",
            "--------------------------------------------------------------------------------\n",
            "35 fits failed with the following error:\n",
            "Traceback (most recent call last):\n",
            "  File \"/usr/local/lib/python3.9/dist-packages/sklearn/model_selection/_validation.py\", line 686, in _fit_and_score\n",
            "    estimator.fit(X_train, y_train, **fit_params)\n",
            "  File \"/usr/local/lib/python3.9/dist-packages/sklearn/pipeline.py\", line 405, in fit\n",
            "    self._final_estimator.fit(Xt, y, **fit_params_last_step)\n",
            "  File \"/usr/local/lib/python3.9/dist-packages/sklearn/linear_model/_logistic.py\", line 1162, in fit\n",
            "    solver = _check_solver(self.solver, self.penalty, self.dual)\n",
            "  File \"/usr/local/lib/python3.9/dist-packages/sklearn/linear_model/_logistic.py\", line 71, in _check_solver\n",
            "    raise ValueError(\"penalty='none' is not supported for the liblinear solver\")\n",
            "ValueError: penalty='none' is not supported for the liblinear solver\n",
            "\n",
            "  warnings.warn(some_fits_failed_message, FitFailedWarning)\n",
            "/usr/local/lib/python3.9/dist-packages/sklearn/model_selection/_search.py:952: UserWarning: One or more of the test scores are non-finite: [0.8373752  0.83757605        nan 0.84480003 0.84193854 0.84194731\n",
            "        nan 0.84480003 0.84392833 0.84397943        nan 0.84480003\n",
            " 0.84457221 0.84460926        nan 0.84480003 0.84475564 0.84475286\n",
            "        nan 0.84480003 0.84478526 0.84478896        nan 0.84480003\n",
            " 0.84478245 0.84478059        nan 0.84480003]\n",
            "  warnings.warn(\n",
            "/usr/local/lib/python3.9/dist-packages/sklearn/preprocessing/_encoders.py:868: FutureWarning: `sparse` was renamed to `sparse_output` in version 1.2 and will be removed in 1.4. `sparse_output` is ignored unless you leave `sparse` to its default value.\n",
            "  warnings.warn(\n",
            "/usr/local/lib/python3.9/dist-packages/sklearn/linear_model/_logistic.py:1173: FutureWarning: `penalty='none'`has been deprecated in 1.2 and will be removed in 1.4. To keep the past behaviour, set `penalty=None`.\n",
            "  warnings.warn(\n",
            "/usr/local/lib/python3.9/dist-packages/sklearn/linear_model/_logistic.py:1181: UserWarning: Setting penalty=None will ignore the C and l1_ratio parameters\n",
            "  warnings.warn(\n"
          ]
        }
      ]
    },
    {
      "cell_type": "markdown",
      "source": [
        "Поиск по сетке определил параметры best_params_: {'alg__C': 0.001, 'alg__class_weight': 'balanced', 'alg__penalty': 'none', 'alg__solver': 'lbfgs'}\n",
        "Лучшая оценка модели: best_score_: 0.8448000310555672"
      ],
      "metadata": {
        "id": "3xri6pjgPp82"
      }
    },
    {
      "cell_type": "markdown",
      "source": [
        "## Загрузка тестовых данных"
      ],
      "metadata": {
        "id": "_veLLcsbcrr7"
      }
    },
    {
      "cell_type": "markdown",
      "source": [
        "Загрузим тестовые данные и сделаем прогноз"
      ],
      "metadata": {
        "id": "3wq1RaWxcukI"
      }
    },
    {
      "cell_type": "code",
      "source": [
        "data_test = pd.read_csv('/content/test.csv') # /kaggle/input/advanced-dls-spring-2021/test.csv"
      ],
      "metadata": {
        "id": "4funQciqctxu"
      },
      "execution_count": 24,
      "outputs": []
    },
    {
      "cell_type": "code",
      "source": [
        "data_test.head(2)"
      ],
      "metadata": {
        "colab": {
          "base_uri": "https://localhost:8080/",
          "height": 210
        },
        "id": "CNRj8bLOc9Aw",
        "outputId": "c8f3cece-5a61-4598-efb7-4b21b08d9a5e"
      },
      "execution_count": 25,
      "outputs": [
        {
          "output_type": "execute_result",
          "data": {
            "text/plain": [
              "   ClientPeriod  MonthlySpending TotalSpent   Sex  IsSeniorCitizen HasPartner  \\\n",
              "0            42             56.1    2386.85  Male                0        Yes   \n",
              "1            29             98.5    3004.15  Male                1        Yes   \n",
              "\n",
              "  HasChild HasPhoneService HasMultiplePhoneNumbers HasInternetService  \\\n",
              "0       No             Yes                     Yes                DSL   \n",
              "1       No             Yes                     Yes        Fiber optic   \n",
              "\n",
              "  HasOnlineSecurityService HasOnlineBackup HasDeviceProtection  \\\n",
              "0                      Yes              No                  No   \n",
              "1                       No              No                 Yes   \n",
              "\n",
              "  HasTechSupportAccess HasOnlineTV HasMovieSubscription HasContractPhone  \\\n",
              "0                   No          No                   No         One year   \n",
              "1                   No         Yes                  Yes   Month-to-month   \n",
              "\n",
              "  IsBillingPaperless            PaymentMethod  \n",
              "0                 No  Credit card (automatic)  \n",
              "1                Yes         Electronic check  "
            ],
            "text/html": [
              "\n",
              "  <div id=\"df-a92b5eed-ddb5-4f34-ae6d-906136e5a483\">\n",
              "    <div class=\"colab-df-container\">\n",
              "      <div>\n",
              "<style scoped>\n",
              "    .dataframe tbody tr th:only-of-type {\n",
              "        vertical-align: middle;\n",
              "    }\n",
              "\n",
              "    .dataframe tbody tr th {\n",
              "        vertical-align: top;\n",
              "    }\n",
              "\n",
              "    .dataframe thead th {\n",
              "        text-align: right;\n",
              "    }\n",
              "</style>\n",
              "<table border=\"1\" class=\"dataframe\">\n",
              "  <thead>\n",
              "    <tr style=\"text-align: right;\">\n",
              "      <th></th>\n",
              "      <th>ClientPeriod</th>\n",
              "      <th>MonthlySpending</th>\n",
              "      <th>TotalSpent</th>\n",
              "      <th>Sex</th>\n",
              "      <th>IsSeniorCitizen</th>\n",
              "      <th>HasPartner</th>\n",
              "      <th>HasChild</th>\n",
              "      <th>HasPhoneService</th>\n",
              "      <th>HasMultiplePhoneNumbers</th>\n",
              "      <th>HasInternetService</th>\n",
              "      <th>HasOnlineSecurityService</th>\n",
              "      <th>HasOnlineBackup</th>\n",
              "      <th>HasDeviceProtection</th>\n",
              "      <th>HasTechSupportAccess</th>\n",
              "      <th>HasOnlineTV</th>\n",
              "      <th>HasMovieSubscription</th>\n",
              "      <th>HasContractPhone</th>\n",
              "      <th>IsBillingPaperless</th>\n",
              "      <th>PaymentMethod</th>\n",
              "    </tr>\n",
              "  </thead>\n",
              "  <tbody>\n",
              "    <tr>\n",
              "      <th>0</th>\n",
              "      <td>42</td>\n",
              "      <td>56.1</td>\n",
              "      <td>2386.85</td>\n",
              "      <td>Male</td>\n",
              "      <td>0</td>\n",
              "      <td>Yes</td>\n",
              "      <td>No</td>\n",
              "      <td>Yes</td>\n",
              "      <td>Yes</td>\n",
              "      <td>DSL</td>\n",
              "      <td>Yes</td>\n",
              "      <td>No</td>\n",
              "      <td>No</td>\n",
              "      <td>No</td>\n",
              "      <td>No</td>\n",
              "      <td>No</td>\n",
              "      <td>One year</td>\n",
              "      <td>No</td>\n",
              "      <td>Credit card (automatic)</td>\n",
              "    </tr>\n",
              "    <tr>\n",
              "      <th>1</th>\n",
              "      <td>29</td>\n",
              "      <td>98.5</td>\n",
              "      <td>3004.15</td>\n",
              "      <td>Male</td>\n",
              "      <td>1</td>\n",
              "      <td>Yes</td>\n",
              "      <td>No</td>\n",
              "      <td>Yes</td>\n",
              "      <td>Yes</td>\n",
              "      <td>Fiber optic</td>\n",
              "      <td>No</td>\n",
              "      <td>No</td>\n",
              "      <td>Yes</td>\n",
              "      <td>No</td>\n",
              "      <td>Yes</td>\n",
              "      <td>Yes</td>\n",
              "      <td>Month-to-month</td>\n",
              "      <td>Yes</td>\n",
              "      <td>Electronic check</td>\n",
              "    </tr>\n",
              "  </tbody>\n",
              "</table>\n",
              "</div>\n",
              "      <button class=\"colab-df-convert\" onclick=\"convertToInteractive('df-a92b5eed-ddb5-4f34-ae6d-906136e5a483')\"\n",
              "              title=\"Convert this dataframe to an interactive table.\"\n",
              "              style=\"display:none;\">\n",
              "        \n",
              "  <svg xmlns=\"http://www.w3.org/2000/svg\" height=\"24px\"viewBox=\"0 0 24 24\"\n",
              "       width=\"24px\">\n",
              "    <path d=\"M0 0h24v24H0V0z\" fill=\"none\"/>\n",
              "    <path d=\"M18.56 5.44l.94 2.06.94-2.06 2.06-.94-2.06-.94-.94-2.06-.94 2.06-2.06.94zm-11 1L8.5 8.5l.94-2.06 2.06-.94-2.06-.94L8.5 2.5l-.94 2.06-2.06.94zm10 10l.94 2.06.94-2.06 2.06-.94-2.06-.94-.94-2.06-.94 2.06-2.06.94z\"/><path d=\"M17.41 7.96l-1.37-1.37c-.4-.4-.92-.59-1.43-.59-.52 0-1.04.2-1.43.59L10.3 9.45l-7.72 7.72c-.78.78-.78 2.05 0 2.83L4 21.41c.39.39.9.59 1.41.59.51 0 1.02-.2 1.41-.59l7.78-7.78 2.81-2.81c.8-.78.8-2.07 0-2.86zM5.41 20L4 18.59l7.72-7.72 1.47 1.35L5.41 20z\"/>\n",
              "  </svg>\n",
              "      </button>\n",
              "      \n",
              "  <style>\n",
              "    .colab-df-container {\n",
              "      display:flex;\n",
              "      flex-wrap:wrap;\n",
              "      gap: 12px;\n",
              "    }\n",
              "\n",
              "    .colab-df-convert {\n",
              "      background-color: #E8F0FE;\n",
              "      border: none;\n",
              "      border-radius: 50%;\n",
              "      cursor: pointer;\n",
              "      display: none;\n",
              "      fill: #1967D2;\n",
              "      height: 32px;\n",
              "      padding: 0 0 0 0;\n",
              "      width: 32px;\n",
              "    }\n",
              "\n",
              "    .colab-df-convert:hover {\n",
              "      background-color: #E2EBFA;\n",
              "      box-shadow: 0px 1px 2px rgba(60, 64, 67, 0.3), 0px 1px 3px 1px rgba(60, 64, 67, 0.15);\n",
              "      fill: #174EA6;\n",
              "    }\n",
              "\n",
              "    [theme=dark] .colab-df-convert {\n",
              "      background-color: #3B4455;\n",
              "      fill: #D2E3FC;\n",
              "    }\n",
              "\n",
              "    [theme=dark] .colab-df-convert:hover {\n",
              "      background-color: #434B5C;\n",
              "      box-shadow: 0px 1px 3px 1px rgba(0, 0, 0, 0.15);\n",
              "      filter: drop-shadow(0px 1px 2px rgba(0, 0, 0, 0.3));\n",
              "      fill: #FFFFFF;\n",
              "    }\n",
              "  </style>\n",
              "\n",
              "      <script>\n",
              "        const buttonEl =\n",
              "          document.querySelector('#df-a92b5eed-ddb5-4f34-ae6d-906136e5a483 button.colab-df-convert');\n",
              "        buttonEl.style.display =\n",
              "          google.colab.kernel.accessAllowed ? 'block' : 'none';\n",
              "\n",
              "        async function convertToInteractive(key) {\n",
              "          const element = document.querySelector('#df-a92b5eed-ddb5-4f34-ae6d-906136e5a483');\n",
              "          const dataTable =\n",
              "            await google.colab.kernel.invokeFunction('convertToInteractive',\n",
              "                                                     [key], {});\n",
              "          if (!dataTable) return;\n",
              "\n",
              "          const docLinkHtml = 'Like what you see? Visit the ' +\n",
              "            '<a target=\"_blank\" href=https://colab.research.google.com/notebooks/data_table.ipynb>data table notebook</a>'\n",
              "            + ' to learn more about interactive tables.';\n",
              "          element.innerHTML = '';\n",
              "          dataTable['output_type'] = 'display_data';\n",
              "          await google.colab.output.renderOutput(dataTable, element);\n",
              "          const docLink = document.createElement('div');\n",
              "          docLink.innerHTML = docLinkHtml;\n",
              "          element.appendChild(docLink);\n",
              "        }\n",
              "      </script>\n",
              "    </div>\n",
              "  </div>\n",
              "  "
            ]
          },
          "metadata": {},
          "execution_count": 25
        }
      ]
    },
    {
      "cell_type": "code",
      "source": [
        "data_test.info()"
      ],
      "metadata": {
        "colab": {
          "base_uri": "https://localhost:8080/"
        },
        "id": "wm2z_AGudFwp",
        "outputId": "73a74dee-a754-40e5-fdbc-d7b5259cef30"
      },
      "execution_count": null,
      "outputs": [
        {
          "output_type": "stream",
          "name": "stdout",
          "text": [
            "<class 'pandas.core.frame.DataFrame'>\n",
            "RangeIndex: 1761 entries, 0 to 1760\n",
            "Data columns (total 19 columns):\n",
            " #   Column                    Non-Null Count  Dtype  \n",
            "---  ------                    --------------  -----  \n",
            " 0   ClientPeriod              1761 non-null   int64  \n",
            " 1   MonthlySpending           1761 non-null   float64\n",
            " 2   TotalSpent                1761 non-null   object \n",
            " 3   Sex                       1761 non-null   object \n",
            " 4   IsSeniorCitizen           1761 non-null   int64  \n",
            " 5   HasPartner                1761 non-null   object \n",
            " 6   HasChild                  1761 non-null   object \n",
            " 7   HasPhoneService           1761 non-null   object \n",
            " 8   HasMultiplePhoneNumbers   1761 non-null   object \n",
            " 9   HasInternetService        1761 non-null   object \n",
            " 10  HasOnlineSecurityService  1761 non-null   object \n",
            " 11  HasOnlineBackup           1761 non-null   object \n",
            " 12  HasDeviceProtection       1761 non-null   object \n",
            " 13  HasTechSupportAccess      1761 non-null   object \n",
            " 14  HasOnlineTV               1761 non-null   object \n",
            " 15  HasMovieSubscription      1761 non-null   object \n",
            " 16  HasContractPhone          1761 non-null   object \n",
            " 17  IsBillingPaperless        1761 non-null   object \n",
            " 18  PaymentMethod             1761 non-null   object \n",
            "dtypes: float64(1), int64(2), object(16)\n",
            "memory usage: 261.5+ KB\n"
          ]
        }
      ]
    },
    {
      "cell_type": "code",
      "source": [
        "if sum(data_test['TotalSpent'] == ' ') > 0:\n",
        "  data_test['TotalSpent'].replace(' ', 'Nan', inplace=True)\n",
        "data_test['TotalSpent'] = data_test['TotalSpent'].astype('float')\n",
        "data_test['TotalSpent'].fillna(data_test['MonthlySpending'].mean(), inplace=True)"
      ],
      "metadata": {
        "id": "bCl-IX-ldLzp"
      },
      "execution_count": null,
      "outputs": []
    },
    {
      "cell_type": "code",
      "source": [
        "log_total_spent = np.log1p(data_test['TotalSpent'])\n",
        "log_total_spent.rename('Log_TotalSpent', inplace=True)\n",
        "data_test = pd.concat([data_test[num_cols], data_test[cat_cols], log_total_spent], axis = 1)\n",
        "data_test.head(2)"
      ],
      "metadata": {
        "colab": {
          "base_uri": "https://localhost:8080/",
          "height": 210
        },
        "id": "QG2s63PnJ_rt",
        "outputId": "29eb3320-8b8e-4d1e-c3bf-2102e85c0720"
      },
      "execution_count": null,
      "outputs": [
        {
          "output_type": "execute_result",
          "data": {
            "text/plain": [
              "   ClientPeriod  MonthlySpending  TotalSpent  IsSeniorCitizen   Sex  \\\n",
              "0            42             56.1     2386.85                0  Male   \n",
              "1            29             98.5     3004.15                1  Male   \n",
              "\n",
              "  HasPartner HasChild HasPhoneService HasMultiplePhoneNumbers  \\\n",
              "0        Yes       No             Yes                     Yes   \n",
              "1        Yes       No             Yes                     Yes   \n",
              "\n",
              "  HasInternetService HasOnlineSecurityService HasOnlineBackup  \\\n",
              "0                DSL                      Yes              No   \n",
              "1        Fiber optic                       No              No   \n",
              "\n",
              "  HasDeviceProtection HasTechSupportAccess HasOnlineTV HasMovieSubscription  \\\n",
              "0                  No                   No          No                   No   \n",
              "1                 Yes                   No         Yes                  Yes   \n",
              "\n",
              "  HasContractPhone IsBillingPaperless            PaymentMethod  Log_TotalSpent  \n",
              "0         One year                 No  Credit card (automatic)        7.778149  \n",
              "1   Month-to-month                Yes         Electronic check        8.008083  "
            ],
            "text/html": [
              "\n",
              "  <div id=\"df-0210044c-e586-489d-9a76-1bd0c817b0a3\">\n",
              "    <div class=\"colab-df-container\">\n",
              "      <div>\n",
              "<style scoped>\n",
              "    .dataframe tbody tr th:only-of-type {\n",
              "        vertical-align: middle;\n",
              "    }\n",
              "\n",
              "    .dataframe tbody tr th {\n",
              "        vertical-align: top;\n",
              "    }\n",
              "\n",
              "    .dataframe thead th {\n",
              "        text-align: right;\n",
              "    }\n",
              "</style>\n",
              "<table border=\"1\" class=\"dataframe\">\n",
              "  <thead>\n",
              "    <tr style=\"text-align: right;\">\n",
              "      <th></th>\n",
              "      <th>ClientPeriod</th>\n",
              "      <th>MonthlySpending</th>\n",
              "      <th>TotalSpent</th>\n",
              "      <th>IsSeniorCitizen</th>\n",
              "      <th>Sex</th>\n",
              "      <th>HasPartner</th>\n",
              "      <th>HasChild</th>\n",
              "      <th>HasPhoneService</th>\n",
              "      <th>HasMultiplePhoneNumbers</th>\n",
              "      <th>HasInternetService</th>\n",
              "      <th>HasOnlineSecurityService</th>\n",
              "      <th>HasOnlineBackup</th>\n",
              "      <th>HasDeviceProtection</th>\n",
              "      <th>HasTechSupportAccess</th>\n",
              "      <th>HasOnlineTV</th>\n",
              "      <th>HasMovieSubscription</th>\n",
              "      <th>HasContractPhone</th>\n",
              "      <th>IsBillingPaperless</th>\n",
              "      <th>PaymentMethod</th>\n",
              "      <th>Log_TotalSpent</th>\n",
              "    </tr>\n",
              "  </thead>\n",
              "  <tbody>\n",
              "    <tr>\n",
              "      <th>0</th>\n",
              "      <td>42</td>\n",
              "      <td>56.1</td>\n",
              "      <td>2386.85</td>\n",
              "      <td>0</td>\n",
              "      <td>Male</td>\n",
              "      <td>Yes</td>\n",
              "      <td>No</td>\n",
              "      <td>Yes</td>\n",
              "      <td>Yes</td>\n",
              "      <td>DSL</td>\n",
              "      <td>Yes</td>\n",
              "      <td>No</td>\n",
              "      <td>No</td>\n",
              "      <td>No</td>\n",
              "      <td>No</td>\n",
              "      <td>No</td>\n",
              "      <td>One year</td>\n",
              "      <td>No</td>\n",
              "      <td>Credit card (automatic)</td>\n",
              "      <td>7.778149</td>\n",
              "    </tr>\n",
              "    <tr>\n",
              "      <th>1</th>\n",
              "      <td>29</td>\n",
              "      <td>98.5</td>\n",
              "      <td>3004.15</td>\n",
              "      <td>1</td>\n",
              "      <td>Male</td>\n",
              "      <td>Yes</td>\n",
              "      <td>No</td>\n",
              "      <td>Yes</td>\n",
              "      <td>Yes</td>\n",
              "      <td>Fiber optic</td>\n",
              "      <td>No</td>\n",
              "      <td>No</td>\n",
              "      <td>Yes</td>\n",
              "      <td>No</td>\n",
              "      <td>Yes</td>\n",
              "      <td>Yes</td>\n",
              "      <td>Month-to-month</td>\n",
              "      <td>Yes</td>\n",
              "      <td>Electronic check</td>\n",
              "      <td>8.008083</td>\n",
              "    </tr>\n",
              "  </tbody>\n",
              "</table>\n",
              "</div>\n",
              "      <button class=\"colab-df-convert\" onclick=\"convertToInteractive('df-0210044c-e586-489d-9a76-1bd0c817b0a3')\"\n",
              "              title=\"Convert this dataframe to an interactive table.\"\n",
              "              style=\"display:none;\">\n",
              "        \n",
              "  <svg xmlns=\"http://www.w3.org/2000/svg\" height=\"24px\"viewBox=\"0 0 24 24\"\n",
              "       width=\"24px\">\n",
              "    <path d=\"M0 0h24v24H0V0z\" fill=\"none\"/>\n",
              "    <path d=\"M18.56 5.44l.94 2.06.94-2.06 2.06-.94-2.06-.94-.94-2.06-.94 2.06-2.06.94zm-11 1L8.5 8.5l.94-2.06 2.06-.94-2.06-.94L8.5 2.5l-.94 2.06-2.06.94zm10 10l.94 2.06.94-2.06 2.06-.94-2.06-.94-.94-2.06-.94 2.06-2.06.94z\"/><path d=\"M17.41 7.96l-1.37-1.37c-.4-.4-.92-.59-1.43-.59-.52 0-1.04.2-1.43.59L10.3 9.45l-7.72 7.72c-.78.78-.78 2.05 0 2.83L4 21.41c.39.39.9.59 1.41.59.51 0 1.02-.2 1.41-.59l7.78-7.78 2.81-2.81c.8-.78.8-2.07 0-2.86zM5.41 20L4 18.59l7.72-7.72 1.47 1.35L5.41 20z\"/>\n",
              "  </svg>\n",
              "      </button>\n",
              "      \n",
              "  <style>\n",
              "    .colab-df-container {\n",
              "      display:flex;\n",
              "      flex-wrap:wrap;\n",
              "      gap: 12px;\n",
              "    }\n",
              "\n",
              "    .colab-df-convert {\n",
              "      background-color: #E8F0FE;\n",
              "      border: none;\n",
              "      border-radius: 50%;\n",
              "      cursor: pointer;\n",
              "      display: none;\n",
              "      fill: #1967D2;\n",
              "      height: 32px;\n",
              "      padding: 0 0 0 0;\n",
              "      width: 32px;\n",
              "    }\n",
              "\n",
              "    .colab-df-convert:hover {\n",
              "      background-color: #E2EBFA;\n",
              "      box-shadow: 0px 1px 2px rgba(60, 64, 67, 0.3), 0px 1px 3px 1px rgba(60, 64, 67, 0.15);\n",
              "      fill: #174EA6;\n",
              "    }\n",
              "\n",
              "    [theme=dark] .colab-df-convert {\n",
              "      background-color: #3B4455;\n",
              "      fill: #D2E3FC;\n",
              "    }\n",
              "\n",
              "    [theme=dark] .colab-df-convert:hover {\n",
              "      background-color: #434B5C;\n",
              "      box-shadow: 0px 1px 3px 1px rgba(0, 0, 0, 0.15);\n",
              "      filter: drop-shadow(0px 1px 2px rgba(0, 0, 0, 0.3));\n",
              "      fill: #FFFFFF;\n",
              "    }\n",
              "  </style>\n",
              "\n",
              "      <script>\n",
              "        const buttonEl =\n",
              "          document.querySelector('#df-0210044c-e586-489d-9a76-1bd0c817b0a3 button.colab-df-convert');\n",
              "        buttonEl.style.display =\n",
              "          google.colab.kernel.accessAllowed ? 'block' : 'none';\n",
              "\n",
              "        async function convertToInteractive(key) {\n",
              "          const element = document.querySelector('#df-0210044c-e586-489d-9a76-1bd0c817b0a3');\n",
              "          const dataTable =\n",
              "            await google.colab.kernel.invokeFunction('convertToInteractive',\n",
              "                                                     [key], {});\n",
              "          if (!dataTable) return;\n",
              "\n",
              "          const docLinkHtml = 'Like what you see? Visit the ' +\n",
              "            '<a target=\"_blank\" href=https://colab.research.google.com/notebooks/data_table.ipynb>data table notebook</a>'\n",
              "            + ' to learn more about interactive tables.';\n",
              "          element.innerHTML = '';\n",
              "          dataTable['output_type'] = 'display_data';\n",
              "          await google.colab.output.renderOutput(dataTable, element);\n",
              "          const docLink = document.createElement('div');\n",
              "          docLink.innerHTML = docLinkHtml;\n",
              "          element.appendChild(docLink);\n",
              "        }\n",
              "      </script>\n",
              "    </div>\n",
              "  </div>\n",
              "  "
            ]
          },
          "metadata": {},
          "execution_count": 237
        }
      ]
    },
    {
      "cell_type": "markdown",
      "source": [
        "## Предсказание на тестовых данных"
      ],
      "metadata": {
        "id": "IRo88WKLc4VR"
      }
    },
    {
      "cell_type": "markdown",
      "source": [
        "Сделаем прогноз с помощью пайплайна"
      ],
      "metadata": {
        "id": "Z6yALIF1P8Vp"
      }
    },
    {
      "cell_type": "code",
      "source": [
        "test_proba = lr.predict_proba(data_test)"
      ],
      "metadata": {
        "id": "e_4RfHeU4dTy"
      },
      "execution_count": null,
      "outputs": []
    },
    {
      "cell_type": "code",
      "source": [
        "test_proba"
      ],
      "metadata": {
        "colab": {
          "base_uri": "https://localhost:8080/"
        },
        "id": "RgEgHiuAN5fK",
        "outputId": "71888693-3679-4b6b-845e-b1bdfc84ea24"
      },
      "execution_count": null,
      "outputs": [
        {
          "output_type": "execute_result",
          "data": {
            "text/plain": [
              "array([[0.89049808, 0.10950192],\n",
              "       [0.11560021, 0.88439979],\n",
              "       [0.15147673, 0.84852327],\n",
              "       ...,\n",
              "       [0.12018591, 0.87981409],\n",
              "       [0.16584406, 0.83415594],\n",
              "       [0.97090453, 0.02909547]])"
            ]
          },
          "metadata": {},
          "execution_count": 239
        }
      ]
    },
    {
      "cell_type": "code",
      "source": [
        "#submit = pd.read_csv('/kaggle/input/advanced-dls-spring-2021/submission.csv', index_col='Id')\n",
        "\n",
        "submit['Churn'] = test_proba[:,1]\n",
        "\n",
        "submit.to_csv('submission.csv')"
      ],
      "metadata": {
        "id": "n7loX8BxQten"
      },
      "execution_count": null,
      "outputs": []
    },
    {
      "cell_type": "markdown",
      "source": [
        "## Градиентный бустинг"
      ],
      "metadata": {
        "id": "O_GYDI9ZdCol"
      }
    },
    {
      "cell_type": "markdown",
      "source": [
        "Выполним предсказание с помощью градиетного бустинга библиотеки catboost"
      ],
      "metadata": {
        "id": "wNrULnOmmbsF"
      }
    },
    {
      "cell_type": "code",
      "source": [
        "!pip install catboost\n",
        "import catboost # документация: https://catboost.ai/docs"
      ],
      "metadata": {
        "colab": {
          "base_uri": "https://localhost:8080/"
        },
        "id": "hdSaFS9ASqy3",
        "outputId": "e200bc92-c442-4e98-de61-ed0647e0de73"
      },
      "execution_count": null,
      "outputs": [
        {
          "output_type": "stream",
          "name": "stdout",
          "text": [
            "Looking in indexes: https://pypi.org/simple, https://us-python.pkg.dev/colab-wheels/public/simple/\n",
            "Requirement already satisfied: catboost in /usr/local/lib/python3.9/dist-packages (1.1.1)\n",
            "Requirement already satisfied: scipy in /usr/local/lib/python3.9/dist-packages (from catboost) (1.10.1)\n",
            "Requirement already satisfied: plotly in /usr/local/lib/python3.9/dist-packages (from catboost) (5.13.1)\n",
            "Requirement already satisfied: numpy>=1.16.0 in /usr/local/lib/python3.9/dist-packages (from catboost) (1.22.4)\n",
            "Requirement already satisfied: matplotlib in /usr/local/lib/python3.9/dist-packages (from catboost) (3.7.1)\n",
            "Requirement already satisfied: pandas>=0.24.0 in /usr/local/lib/python3.9/dist-packages (from catboost) (1.4.4)\n",
            "Requirement already satisfied: six in /usr/local/lib/python3.9/dist-packages (from catboost) (1.16.0)\n",
            "Requirement already satisfied: graphviz in /usr/local/lib/python3.9/dist-packages (from catboost) (0.20.1)\n",
            "Requirement already satisfied: python-dateutil>=2.8.1 in /usr/local/lib/python3.9/dist-packages (from pandas>=0.24.0->catboost) (2.8.2)\n",
            "Requirement already satisfied: pytz>=2020.1 in /usr/local/lib/python3.9/dist-packages (from pandas>=0.24.0->catboost) (2022.7.1)\n",
            "Requirement already satisfied: cycler>=0.10 in /usr/local/lib/python3.9/dist-packages (from matplotlib->catboost) (0.11.0)\n",
            "Requirement already satisfied: fonttools>=4.22.0 in /usr/local/lib/python3.9/dist-packages (from matplotlib->catboost) (4.39.3)\n",
            "Requirement already satisfied: contourpy>=1.0.1 in /usr/local/lib/python3.9/dist-packages (from matplotlib->catboost) (1.0.7)\n",
            "Requirement already satisfied: pillow>=6.2.0 in /usr/local/lib/python3.9/dist-packages (from matplotlib->catboost) (8.4.0)\n",
            "Requirement already satisfied: importlib-resources>=3.2.0 in /usr/local/lib/python3.9/dist-packages (from matplotlib->catboost) (5.12.0)\n",
            "Requirement already satisfied: packaging>=20.0 in /usr/local/lib/python3.9/dist-packages (from matplotlib->catboost) (23.0)\n",
            "Requirement already satisfied: kiwisolver>=1.0.1 in /usr/local/lib/python3.9/dist-packages (from matplotlib->catboost) (1.4.4)\n",
            "Requirement already satisfied: pyparsing>=2.3.1 in /usr/local/lib/python3.9/dist-packages (from matplotlib->catboost) (3.0.9)\n",
            "Requirement already satisfied: tenacity>=6.2.0 in /usr/local/lib/python3.9/dist-packages (from plotly->catboost) (8.2.2)\n",
            "Requirement already satisfied: zipp>=3.1.0 in /usr/local/lib/python3.9/dist-packages (from importlib-resources>=3.2.0->matplotlib->catboost) (3.15.0)\n"
          ]
        }
      ]
    },
    {
      "cell_type": "code",
      "source": [
        "X_train, X_test, Y_train, Y_test = train_test_split(X, Y, test_size=0.2, random_state=42)"
      ],
      "metadata": {
        "id": "1cYxxX3_S5GN"
      },
      "execution_count": null,
      "outputs": []
    },
    {
      "cell_type": "code",
      "source": [
        "boosting_model = catboost.CatBoostClassifier(n_estimators = 100,\n",
        "                                             cat_features = cat_cols)\n",
        "boosting_model.fit(X_train,Y_train)"
      ],
      "metadata": {
        "colab": {
          "base_uri": "https://localhost:8080/"
        },
        "id": "T9mEF9biUgQI",
        "outputId": "7436a7be-0f78-4157-b1ca-65124836e416"
      },
      "execution_count": null,
      "outputs": [
        {
          "output_type": "stream",
          "name": "stdout",
          "text": [
            "Learning rate set to 0.157457\n",
            "0:\tlearn: 0.6046239\ttotal: 10.2ms\tremaining: 1.01s\n",
            "1:\tlearn: 0.5531296\ttotal: 18.1ms\tremaining: 886ms\n",
            "2:\tlearn: 0.5166271\ttotal: 26.7ms\tremaining: 862ms\n",
            "3:\tlearn: 0.4885372\ttotal: 34.6ms\tremaining: 831ms\n",
            "4:\tlearn: 0.4710422\ttotal: 42.5ms\tremaining: 808ms\n",
            "5:\tlearn: 0.4490565\ttotal: 54.6ms\tremaining: 855ms\n",
            "6:\tlearn: 0.4358622\ttotal: 62.2ms\tremaining: 826ms\n",
            "7:\tlearn: 0.4260809\ttotal: 70.2ms\tremaining: 808ms\n",
            "8:\tlearn: 0.4206964\ttotal: 78ms\tremaining: 788ms\n",
            "9:\tlearn: 0.4163906\ttotal: 85.5ms\tremaining: 769ms\n",
            "10:\tlearn: 0.4105174\ttotal: 93.3ms\tremaining: 755ms\n",
            "11:\tlearn: 0.4059948\ttotal: 101ms\tremaining: 743ms\n",
            "12:\tlearn: 0.4038875\ttotal: 110ms\tremaining: 734ms\n",
            "13:\tlearn: 0.4001830\ttotal: 118ms\tremaining: 724ms\n",
            "14:\tlearn: 0.3991499\ttotal: 123ms\tremaining: 699ms\n",
            "15:\tlearn: 0.3984009\ttotal: 128ms\tremaining: 674ms\n",
            "16:\tlearn: 0.3966531\ttotal: 137ms\tremaining: 667ms\n",
            "17:\tlearn: 0.3943129\ttotal: 144ms\tremaining: 657ms\n",
            "18:\tlearn: 0.3929102\ttotal: 152ms\tremaining: 648ms\n",
            "19:\tlearn: 0.3917253\ttotal: 160ms\tremaining: 639ms\n",
            "20:\tlearn: 0.3895198\ttotal: 167ms\tremaining: 629ms\n",
            "21:\tlearn: 0.3887128\ttotal: 176ms\tremaining: 622ms\n",
            "22:\tlearn: 0.3872420\ttotal: 183ms\tremaining: 613ms\n",
            "23:\tlearn: 0.3860960\ttotal: 191ms\tremaining: 605ms\n",
            "24:\tlearn: 0.3851243\ttotal: 205ms\tremaining: 614ms\n",
            "25:\tlearn: 0.3843493\ttotal: 213ms\tremaining: 606ms\n",
            "26:\tlearn: 0.3837917\ttotal: 218ms\tremaining: 590ms\n",
            "27:\tlearn: 0.3833625\ttotal: 223ms\tremaining: 574ms\n",
            "28:\tlearn: 0.3829572\ttotal: 231ms\tremaining: 565ms\n",
            "29:\tlearn: 0.3822481\ttotal: 238ms\tremaining: 556ms\n",
            "30:\tlearn: 0.3808039\ttotal: 246ms\tremaining: 547ms\n",
            "31:\tlearn: 0.3798552\ttotal: 253ms\tremaining: 538ms\n",
            "32:\tlearn: 0.3788686\ttotal: 261ms\tremaining: 530ms\n",
            "33:\tlearn: 0.3772619\ttotal: 268ms\tremaining: 521ms\n",
            "34:\tlearn: 0.3767320\ttotal: 276ms\tremaining: 512ms\n",
            "35:\tlearn: 0.3765389\ttotal: 281ms\tremaining: 500ms\n",
            "36:\tlearn: 0.3760787\ttotal: 291ms\tremaining: 495ms\n",
            "37:\tlearn: 0.3752726\ttotal: 301ms\tremaining: 491ms\n",
            "38:\tlearn: 0.3752016\ttotal: 306ms\tremaining: 479ms\n",
            "39:\tlearn: 0.3748293\ttotal: 317ms\tremaining: 476ms\n",
            "40:\tlearn: 0.3744206\ttotal: 326ms\tremaining: 469ms\n",
            "41:\tlearn: 0.3740707\ttotal: 334ms\tremaining: 461ms\n",
            "42:\tlearn: 0.3734281\ttotal: 344ms\tremaining: 455ms\n",
            "43:\tlearn: 0.3728843\ttotal: 351ms\tremaining: 447ms\n",
            "44:\tlearn: 0.3724685\ttotal: 359ms\tremaining: 438ms\n",
            "45:\tlearn: 0.3718687\ttotal: 366ms\tremaining: 430ms\n",
            "46:\tlearn: 0.3710066\ttotal: 374ms\tremaining: 422ms\n",
            "47:\tlearn: 0.3692078\ttotal: 382ms\tremaining: 414ms\n",
            "48:\tlearn: 0.3691884\ttotal: 390ms\tremaining: 405ms\n",
            "49:\tlearn: 0.3689884\ttotal: 397ms\tremaining: 397ms\n",
            "50:\tlearn: 0.3689882\ttotal: 405ms\tremaining: 389ms\n",
            "51:\tlearn: 0.3688698\ttotal: 414ms\tremaining: 382ms\n",
            "52:\tlearn: 0.3684440\ttotal: 420ms\tremaining: 372ms\n",
            "53:\tlearn: 0.3680790\ttotal: 428ms\tremaining: 364ms\n",
            "54:\tlearn: 0.3673187\ttotal: 435ms\tremaining: 356ms\n",
            "55:\tlearn: 0.3669570\ttotal: 443ms\tremaining: 348ms\n",
            "56:\tlearn: 0.3665426\ttotal: 450ms\tremaining: 340ms\n",
            "57:\tlearn: 0.3659993\ttotal: 458ms\tremaining: 332ms\n",
            "58:\tlearn: 0.3647628\ttotal: 465ms\tremaining: 323ms\n",
            "59:\tlearn: 0.3636499\ttotal: 473ms\tremaining: 315ms\n",
            "60:\tlearn: 0.3633287\ttotal: 480ms\tremaining: 307ms\n",
            "61:\tlearn: 0.3617810\ttotal: 488ms\tremaining: 299ms\n",
            "62:\tlearn: 0.3615190\ttotal: 496ms\tremaining: 291ms\n",
            "63:\tlearn: 0.3605855\ttotal: 505ms\tremaining: 284ms\n",
            "64:\tlearn: 0.3590310\ttotal: 513ms\tremaining: 276ms\n",
            "65:\tlearn: 0.3575958\ttotal: 521ms\tremaining: 268ms\n",
            "66:\tlearn: 0.3566794\ttotal: 528ms\tremaining: 260ms\n",
            "67:\tlearn: 0.3554173\ttotal: 536ms\tremaining: 252ms\n",
            "68:\tlearn: 0.3550144\ttotal: 544ms\tremaining: 244ms\n",
            "69:\tlearn: 0.3538622\ttotal: 551ms\tremaining: 236ms\n",
            "70:\tlearn: 0.3532101\ttotal: 559ms\tremaining: 228ms\n",
            "71:\tlearn: 0.3513335\ttotal: 566ms\tremaining: 220ms\n",
            "72:\tlearn: 0.3500063\ttotal: 574ms\tremaining: 212ms\n",
            "73:\tlearn: 0.3491191\ttotal: 581ms\tremaining: 204ms\n",
            "74:\tlearn: 0.3482175\ttotal: 590ms\tremaining: 197ms\n",
            "75:\tlearn: 0.3467699\ttotal: 613ms\tremaining: 194ms\n",
            "76:\tlearn: 0.3458213\ttotal: 621ms\tremaining: 186ms\n",
            "77:\tlearn: 0.3453918\ttotal: 629ms\tremaining: 177ms\n",
            "78:\tlearn: 0.3452944\ttotal: 637ms\tremaining: 169ms\n",
            "79:\tlearn: 0.3451171\ttotal: 644ms\tremaining: 161ms\n",
            "80:\tlearn: 0.3442084\ttotal: 652ms\tremaining: 153ms\n",
            "81:\tlearn: 0.3435954\ttotal: 659ms\tremaining: 145ms\n",
            "82:\tlearn: 0.3430331\ttotal: 667ms\tremaining: 137ms\n",
            "83:\tlearn: 0.3419390\ttotal: 674ms\tremaining: 128ms\n",
            "84:\tlearn: 0.3412631\ttotal: 682ms\tremaining: 120ms\n",
            "85:\tlearn: 0.3404218\ttotal: 690ms\tremaining: 112ms\n",
            "86:\tlearn: 0.3394162\ttotal: 697ms\tremaining: 104ms\n",
            "87:\tlearn: 0.3386247\ttotal: 705ms\tremaining: 96.1ms\n",
            "88:\tlearn: 0.3384273\ttotal: 713ms\tremaining: 88.1ms\n",
            "89:\tlearn: 0.3370867\ttotal: 721ms\tremaining: 80.1ms\n",
            "90:\tlearn: 0.3364493\ttotal: 729ms\tremaining: 72.1ms\n",
            "91:\tlearn: 0.3358752\ttotal: 737ms\tremaining: 64ms\n",
            "92:\tlearn: 0.3348238\ttotal: 744ms\tremaining: 56ms\n",
            "93:\tlearn: 0.3344408\ttotal: 752ms\tremaining: 48ms\n",
            "94:\tlearn: 0.3343216\ttotal: 760ms\tremaining: 40ms\n",
            "95:\tlearn: 0.3334736\ttotal: 767ms\tremaining: 32ms\n",
            "96:\tlearn: 0.3334101\ttotal: 775ms\tremaining: 24ms\n",
            "97:\tlearn: 0.3325429\ttotal: 783ms\tremaining: 16ms\n",
            "98:\tlearn: 0.3324882\ttotal: 791ms\tremaining: 7.99ms\n",
            "99:\tlearn: 0.3316914\ttotal: 799ms\tremaining: 0us\n"
          ]
        },
        {
          "output_type": "execute_result",
          "data": {
            "text/plain": [
              "<catboost.core.CatBoostClassifier at 0x7fe254a8acd0>"
            ]
          },
          "metadata": {},
          "execution_count": 242
        }
      ]
    },
    {
      "cell_type": "code",
      "source": [
        "Y_pred_train = boosting_model.predict_proba(X_train)\n",
        "Y_pred_test = boosting_model.predict_proba(X_test)\n",
        "\n",
        "scor_train = roc_auc_score(Y_train, Y_pred_train[:,1])\n",
        "scor_test = roc_auc_score(Y_test, Y_pred_test[:,1])\n",
        "print(scor_train, scor_test)"
      ],
      "metadata": {
        "colab": {
          "base_uri": "https://localhost:8080/"
        },
        "id": "1XTtXcVzW9hR",
        "outputId": "b131901e-393b-47b4-e633-b43634a32a56"
      },
      "execution_count": null,
      "outputs": [
        {
          "output_type": "stream",
          "name": "stdout",
          "text": [
            "0.8958686392158658 0.8189179080355741\n"
          ]
        }
      ]
    },
    {
      "cell_type": "code",
      "source": [
        "plt.figure(figsize=(10,7))\n",
        "plt.plot(*roc_curve(Y_train, Y_pred_train[:,1])[:2], label='train AUC={:.4f}'.format(scor_train))\n",
        "plt.plot(*roc_curve(Y_test, Y_pred_test[:,1])[:2], label='test AUC={:.4f}'.format(scor_test))\n",
        "legend_box = plt.legend(fontsize='large', framealpha=1).get_frame()\n",
        "legend_box.set_facecolor(\"white\")\n",
        "legend_box.set_edgecolor(\"black\")\n",
        "plt.plot(np.linspace(0,1,100), np.linspace(0,1,100))\n",
        "plt.grid()\n",
        "plt.show()\n"
      ],
      "metadata": {
        "colab": {
          "base_uri": "https://localhost:8080/",
          "height": 599
        },
        "id": "Nerten34YnXo",
        "outputId": "0e10c6a9-610c-47ce-d5f0-e8f077d5cdc6"
      },
      "execution_count": null,
      "outputs": [
        {
          "output_type": "display_data",
          "data": {
            "text/plain": [
              "<Figure size 1000x700 with 1 Axes>"
            ],
            "image/png": "[encoded data removed]"
          },
          "metadata": {}
        }
      ]
    },
    {
      "cell_type": "markdown",
      "source": [
        "Точность модели 0,8255 на тестовой подвыборке.\n",
        "Определим лучшее качество модели в зависимости от количества деревьев [50, 100, 150, 200, 250]."
      ],
      "metadata": {
        "id": "VwCJ4yW5nDsA"
      }
    },
    {
      "cell_type": "code",
      "source": [
        "n_estimators = [50, 100, 150, 200, 250]\n",
        "def boosting(x_train, x_test, y_train, y_test, n_estimators):\n",
        "  boosting_model = catboost.CatBoostClassifier(cat_features= cat_cols,\n",
        "                                             eval_metric = 'AUC',\n",
        "                                             n_estimators = n_estimators)\n",
        "  boosting_model.fit(x_train, y_train)\n",
        "  y_prob_train = boosting_model.predict_proba(x_train)\n",
        "  y_prob_test = boosting_model.predict_proba(x_test)\n",
        "  train_auc = roc_auc_score(y_train, y_prob_train[:,1])\n",
        "  test_auc = roc_auc_score(y_test, y_prob_test[:,1])\n",
        "\n",
        "  return train_auc, test_auc, boosting_model\n",
        "\n",
        "res = np.empty((len(n_estimators), 2))\n",
        "model = []\n",
        "for i, n_est in enumerate(n_estimators):\n",
        "  boost = boosting(X_train, X_test, Y_train, Y_test, n_est)\n",
        "  res[i] = boost[:2]\n",
        "  model.append(boost[-1])"
      ],
      "metadata": {
        "colab": {
          "base_uri": "https://localhost:8080/"
        },
        "id": "2TD7_A59nh2e",
        "outputId": "8fb275ca-b8e6-4c14-c2b1-473f58e24a3e"
      },
      "execution_count": null,
      "outputs": [
        {
          "output_type": "stream",
          "name": "stdout",
          "text": [
            "Learning rate set to 0.297308\n",
            "0:\ttotal: 8.78ms\tremaining: 430ms\n",
            "1:\ttotal: 16.3ms\tremaining: 391ms\n",
            "2:\ttotal: 24.6ms\tremaining: 385ms\n",
            "3:\ttotal: 32.8ms\tremaining: 377ms\n",
            "4:\ttotal: 42.2ms\tremaining: 380ms\n",
            "5:\ttotal: 61.6ms\tremaining: 452ms\n",
            "6:\ttotal: 69.1ms\tremaining: 425ms\n",
            "7:\ttotal: 76.5ms\tremaining: 402ms\n",
            "8:\ttotal: 84ms\tremaining: 383ms\n",
            "9:\ttotal: 88.3ms\tremaining: 353ms\n",
            "10:\ttotal: 97ms\tremaining: 344ms\n",
            "11:\ttotal: 102ms\tremaining: 323ms\n",
            "12:\ttotal: 110ms\tremaining: 313ms\n",
            "13:\ttotal: 115ms\tremaining: 295ms\n",
            "14:\ttotal: 119ms\tremaining: 277ms\n",
            "15:\ttotal: 126ms\tremaining: 269ms\n",
            "16:\ttotal: 135ms\tremaining: 261ms\n",
            "17:\ttotal: 142ms\tremaining: 253ms\n",
            "18:\ttotal: 152ms\tremaining: 248ms\n",
            "19:\ttotal: 160ms\tremaining: 240ms\n",
            "20:\ttotal: 163ms\tremaining: 225ms\n",
            "21:\ttotal: 170ms\tremaining: 217ms\n",
            "22:\ttotal: 178ms\tremaining: 209ms\n",
            "23:\ttotal: 186ms\tremaining: 201ms\n",
            "24:\ttotal: 197ms\tremaining: 197ms\n",
            "25:\ttotal: 205ms\tremaining: 189ms\n",
            "26:\ttotal: 210ms\tremaining: 179ms\n",
            "27:\ttotal: 217ms\tremaining: 171ms\n",
            "28:\ttotal: 225ms\tremaining: 163ms\n",
            "29:\ttotal: 229ms\tremaining: 153ms\n",
            "30:\ttotal: 236ms\tremaining: 145ms\n",
            "31:\ttotal: 244ms\tremaining: 137ms\n",
            "32:\ttotal: 251ms\tremaining: 129ms\n",
            "33:\ttotal: 259ms\tremaining: 122ms\n",
            "34:\ttotal: 266ms\tremaining: 114ms\n",
            "35:\ttotal: 273ms\tremaining: 106ms\n",
            "36:\ttotal: 281ms\tremaining: 98.6ms\n",
            "37:\ttotal: 288ms\tremaining: 91ms\n",
            "38:\ttotal: 296ms\tremaining: 83.5ms\n",
            "39:\ttotal: 304ms\tremaining: 75.9ms\n",
            "40:\ttotal: 311ms\tremaining: 68.3ms\n",
            "41:\ttotal: 319ms\tremaining: 60.7ms\n",
            "42:\ttotal: 328ms\tremaining: 53.5ms\n",
            "43:\ttotal: 336ms\tremaining: 45.8ms\n",
            "44:\ttotal: 344ms\tremaining: 38.2ms\n",
            "45:\ttotal: 351ms\tremaining: 30.5ms\n",
            "46:\ttotal: 359ms\tremaining: 22.9ms\n",
            "47:\ttotal: 366ms\tremaining: 15.3ms\n",
            "48:\ttotal: 374ms\tremaining: 7.64ms\n",
            "49:\ttotal: 382ms\tremaining: 0us\n",
            "Learning rate set to 0.157457\n",
            "0:\ttotal: 7.98ms\tremaining: 790ms\n",
            "1:\ttotal: 15.8ms\tremaining: 776ms\n",
            "2:\ttotal: 24.4ms\tremaining: 789ms\n",
            "3:\ttotal: 32.3ms\tremaining: 775ms\n",
            "4:\ttotal: 40ms\tremaining: 761ms\n",
            "5:\ttotal: 47.9ms\tremaining: 751ms\n",
            "6:\ttotal: 55.5ms\tremaining: 737ms\n",
            "7:\ttotal: 63.6ms\tremaining: 731ms\n",
            "8:\ttotal: 71.1ms\tremaining: 719ms\n",
            "9:\ttotal: 78.6ms\tremaining: 707ms\n",
            "10:\ttotal: 86.2ms\tremaining: 698ms\n",
            "11:\ttotal: 93.8ms\tremaining: 688ms\n",
            "12:\ttotal: 102ms\tremaining: 680ms\n",
            "13:\ttotal: 110ms\tremaining: 674ms\n",
            "14:\ttotal: 115ms\tremaining: 654ms\n",
            "15:\ttotal: 121ms\tremaining: 634ms\n",
            "16:\ttotal: 128ms\tremaining: 627ms\n",
            "17:\ttotal: 136ms\tremaining: 620ms\n",
            "18:\ttotal: 144ms\tremaining: 613ms\n",
            "19:\ttotal: 151ms\tremaining: 605ms\n",
            "20:\ttotal: 159ms\tremaining: 598ms\n",
            "21:\ttotal: 167ms\tremaining: 590ms\n",
            "22:\ttotal: 174ms\tremaining: 583ms\n",
            "23:\ttotal: 182ms\tremaining: 576ms\n",
            "24:\ttotal: 189ms\tremaining: 568ms\n",
            "25:\ttotal: 202ms\tremaining: 575ms\n",
            "26:\ttotal: 208ms\tremaining: 564ms\n",
            "27:\ttotal: 214ms\tremaining: 549ms\n",
            "28:\ttotal: 223ms\tremaining: 546ms\n",
            "29:\ttotal: 231ms\tremaining: 539ms\n",
            "30:\ttotal: 238ms\tremaining: 530ms\n",
            "31:\ttotal: 246ms\tremaining: 523ms\n",
            "32:\ttotal: 253ms\tremaining: 515ms\n",
            "33:\ttotal: 264ms\tremaining: 512ms\n",
            "34:\ttotal: 272ms\tremaining: 504ms\n",
            "35:\ttotal: 284ms\tremaining: 506ms\n",
            "36:\ttotal: 292ms\tremaining: 498ms\n",
            "37:\ttotal: 301ms\tremaining: 492ms\n",
            "38:\ttotal: 306ms\tremaining: 478ms\n",
            "39:\ttotal: 314ms\tremaining: 471ms\n",
            "40:\ttotal: 322ms\tremaining: 463ms\n",
            "41:\ttotal: 329ms\tremaining: 455ms\n",
            "42:\ttotal: 337ms\tremaining: 447ms\n",
            "43:\ttotal: 345ms\tremaining: 439ms\n",
            "44:\ttotal: 352ms\tremaining: 431ms\n",
            "45:\ttotal: 360ms\tremaining: 423ms\n",
            "46:\ttotal: 368ms\tremaining: 415ms\n",
            "47:\ttotal: 376ms\tremaining: 407ms\n",
            "48:\ttotal: 383ms\tremaining: 399ms\n",
            "49:\ttotal: 391ms\tremaining: 391ms\n",
            "50:\ttotal: 396ms\tremaining: 380ms\n",
            "51:\ttotal: 406ms\tremaining: 375ms\n",
            "52:\ttotal: 413ms\tremaining: 366ms\n",
            "53:\ttotal: 421ms\tremaining: 358ms\n",
            "54:\ttotal: 433ms\tremaining: 355ms\n",
            "55:\ttotal: 444ms\tremaining: 349ms\n",
            "56:\ttotal: 452ms\tremaining: 341ms\n",
            "57:\ttotal: 459ms\tremaining: 333ms\n",
            "58:\ttotal: 467ms\tremaining: 324ms\n",
            "59:\ttotal: 474ms\tremaining: 316ms\n",
            "60:\ttotal: 482ms\tremaining: 308ms\n",
            "61:\ttotal: 490ms\tremaining: 300ms\n",
            "62:\ttotal: 498ms\tremaining: 292ms\n",
            "63:\ttotal: 505ms\tremaining: 284ms\n",
            "64:\ttotal: 513ms\tremaining: 276ms\n",
            "65:\ttotal: 521ms\tremaining: 268ms\n",
            "66:\ttotal: 529ms\tremaining: 260ms\n",
            "67:\ttotal: 537ms\tremaining: 252ms\n",
            "68:\ttotal: 544ms\tremaining: 245ms\n",
            "69:\ttotal: 552ms\tremaining: 237ms\n",
            "70:\ttotal: 561ms\tremaining: 229ms\n",
            "71:\ttotal: 574ms\tremaining: 223ms\n",
            "72:\ttotal: 591ms\tremaining: 218ms\n",
            "73:\ttotal: 603ms\tremaining: 212ms\n",
            "74:\ttotal: 611ms\tremaining: 204ms\n",
            "75:\ttotal: 619ms\tremaining: 196ms\n",
            "76:\ttotal: 627ms\tremaining: 187ms\n",
            "77:\ttotal: 636ms\tremaining: 179ms\n",
            "78:\ttotal: 644ms\tremaining: 171ms\n",
            "79:\ttotal: 651ms\tremaining: 163ms\n",
            "80:\ttotal: 661ms\tremaining: 155ms\n",
            "81:\ttotal: 669ms\tremaining: 147ms\n",
            "82:\ttotal: 677ms\tremaining: 139ms\n",
            "83:\ttotal: 684ms\tremaining: 130ms\n",
            "84:\ttotal: 692ms\tremaining: 122ms\n",
            "85:\ttotal: 700ms\tremaining: 114ms\n",
            "86:\ttotal: 708ms\tremaining: 106ms\n",
            "87:\ttotal: 715ms\tremaining: 97.5ms\n",
            "88:\ttotal: 722ms\tremaining: 89.3ms\n",
            "89:\ttotal: 730ms\tremaining: 81.1ms\n",
            "90:\ttotal: 737ms\tremaining: 72.9ms\n",
            "91:\ttotal: 745ms\tremaining: 64.7ms\n",
            "92:\ttotal: 752ms\tremaining: 56.6ms\n",
            "93:\ttotal: 760ms\tremaining: 48.5ms\n",
            "94:\ttotal: 767ms\tremaining: 40.4ms\n",
            "95:\ttotal: 775ms\tremaining: 32.3ms\n",
            "96:\ttotal: 782ms\tremaining: 24.2ms\n",
            "97:\ttotal: 790ms\tremaining: 16.1ms\n",
            "98:\ttotal: 798ms\tremaining: 8.06ms\n",
            "99:\ttotal: 810ms\tremaining: 0us\n",
            "Learning rate set to 0.108564\n",
            "0:\ttotal: 7.86ms\tremaining: 1.17s\n",
            "1:\ttotal: 15.4ms\tremaining: 1.14s\n",
            "2:\ttotal: 23.4ms\tremaining: 1.15s\n",
            "3:\ttotal: 31.1ms\tremaining: 1.13s\n",
            "4:\ttotal: 38.9ms\tremaining: 1.13s\n",
            "5:\ttotal: 46.6ms\tremaining: 1.12s\n",
            "6:\ttotal: 54.1ms\tremaining: 1.1s\n",
            "7:\ttotal: 62.5ms\tremaining: 1.11s\n",
            "8:\ttotal: 70.2ms\tremaining: 1.1s\n",
            "9:\ttotal: 77.7ms\tremaining: 1.09s\n",
            "10:\ttotal: 85.2ms\tremaining: 1.08s\n",
            "11:\ttotal: 90.4ms\tremaining: 1.04s\n",
            "12:\ttotal: 96.7ms\tremaining: 1.02s\n",
            "13:\ttotal: 104ms\tremaining: 1.01s\n",
            "14:\ttotal: 110ms\tremaining: 986ms\n",
            "15:\ttotal: 117ms\tremaining: 981ms\n",
            "16:\ttotal: 125ms\tremaining: 975ms\n",
            "17:\ttotal: 129ms\tremaining: 948ms\n",
            "18:\ttotal: 140ms\tremaining: 965ms\n",
            "19:\ttotal: 148ms\tremaining: 960ms\n",
            "20:\ttotal: 155ms\tremaining: 953ms\n",
            "21:\ttotal: 163ms\tremaining: 949ms\n",
            "22:\ttotal: 171ms\tremaining: 942ms\n",
            "23:\ttotal: 179ms\tremaining: 941ms\n",
            "24:\ttotal: 186ms\tremaining: 932ms\n",
            "25:\ttotal: 195ms\tremaining: 928ms\n",
            "26:\ttotal: 202ms\tremaining: 922ms\n",
            "27:\ttotal: 211ms\tremaining: 918ms\n",
            "28:\ttotal: 217ms\tremaining: 906ms\n",
            "29:\ttotal: 225ms\tremaining: 898ms\n",
            "30:\ttotal: 232ms\tremaining: 892ms\n",
            "31:\ttotal: 240ms\tremaining: 884ms\n",
            "32:\ttotal: 247ms\tremaining: 876ms\n",
            "33:\ttotal: 255ms\tremaining: 869ms\n",
            "34:\ttotal: 263ms\tremaining: 863ms\n",
            "35:\ttotal: 270ms\tremaining: 856ms\n",
            "36:\ttotal: 278ms\tremaining: 849ms\n",
            "37:\ttotal: 286ms\tremaining: 842ms\n",
            "38:\ttotal: 294ms\tremaining: 835ms\n",
            "39:\ttotal: 301ms\tremaining: 828ms\n",
            "40:\ttotal: 309ms\tremaining: 821ms\n",
            "41:\ttotal: 322ms\tremaining: 828ms\n",
            "42:\ttotal: 335ms\tremaining: 834ms\n",
            "43:\ttotal: 345ms\tremaining: 830ms\n",
            "44:\ttotal: 353ms\tremaining: 823ms\n",
            "45:\ttotal: 361ms\tremaining: 815ms\n",
            "46:\ttotal: 365ms\tremaining: 799ms\n",
            "47:\ttotal: 369ms\tremaining: 784ms\n",
            "48:\ttotal: 379ms\tremaining: 781ms\n",
            "49:\ttotal: 387ms\tremaining: 774ms\n",
            "50:\ttotal: 395ms\tremaining: 766ms\n",
            "51:\ttotal: 402ms\tremaining: 758ms\n",
            "52:\ttotal: 410ms\tremaining: 750ms\n",
            "53:\ttotal: 417ms\tremaining: 741ms\n",
            "54:\ttotal: 425ms\tremaining: 733ms\n",
            "55:\ttotal: 428ms\tremaining: 719ms\n",
            "56:\ttotal: 435ms\tremaining: 710ms\n",
            "57:\ttotal: 440ms\tremaining: 697ms\n",
            "58:\ttotal: 448ms\tremaining: 691ms\n",
            "59:\ttotal: 462ms\tremaining: 692ms\n",
            "60:\ttotal: 472ms\tremaining: 688ms\n",
            "61:\ttotal: 479ms\tremaining: 680ms\n",
            "62:\ttotal: 487ms\tremaining: 672ms\n",
            "63:\ttotal: 495ms\tremaining: 665ms\n",
            "64:\ttotal: 499ms\tremaining: 652ms\n",
            "65:\ttotal: 507ms\tremaining: 646ms\n",
            "66:\ttotal: 515ms\tremaining: 638ms\n",
            "67:\ttotal: 523ms\tremaining: 630ms\n",
            "68:\ttotal: 531ms\tremaining: 623ms\n",
            "69:\ttotal: 541ms\tremaining: 618ms\n",
            "70:\ttotal: 551ms\tremaining: 613ms\n",
            "71:\ttotal: 558ms\tremaining: 605ms\n",
            "72:\ttotal: 563ms\tremaining: 594ms\n",
            "73:\ttotal: 571ms\tremaining: 586ms\n",
            "74:\ttotal: 578ms\tremaining: 578ms\n",
            "75:\ttotal: 586ms\tremaining: 571ms\n",
            "76:\ttotal: 594ms\tremaining: 563ms\n",
            "77:\ttotal: 602ms\tremaining: 555ms\n",
            "78:\ttotal: 612ms\tremaining: 550ms\n",
            "79:\ttotal: 632ms\tremaining: 553ms\n",
            "80:\ttotal: 655ms\tremaining: 558ms\n",
            "81:\ttotal: 675ms\tremaining: 560ms\n",
            "82:\ttotal: 688ms\tremaining: 555ms\n",
            "83:\ttotal: 709ms\tremaining: 557ms\n",
            "84:\ttotal: 732ms\tremaining: 560ms\n",
            "85:\ttotal: 756ms\tremaining: 562ms\n",
            "86:\ttotal: 781ms\tremaining: 565ms\n",
            "87:\ttotal: 795ms\tremaining: 560ms\n",
            "88:\ttotal: 813ms\tremaining: 558ms\n",
            "89:\ttotal: 833ms\tremaining: 556ms\n",
            "90:\ttotal: 851ms\tremaining: 552ms\n",
            "91:\ttotal: 869ms\tremaining: 548ms\n",
            "92:\ttotal: 892ms\tremaining: 547ms\n",
            "93:\ttotal: 913ms\tremaining: 544ms\n",
            "94:\ttotal: 933ms\tremaining: 540ms\n",
            "95:\ttotal: 957ms\tremaining: 538ms\n",
            "96:\ttotal: 978ms\tremaining: 535ms\n",
            "97:\ttotal: 1s\tremaining: 531ms\n",
            "98:\ttotal: 1.01s\tremaining: 521ms\n",
            "99:\ttotal: 1.02s\tremaining: 510ms\n",
            "100:\ttotal: 1.03s\tremaining: 500ms\n",
            "101:\ttotal: 1.04s\tremaining: 489ms\n",
            "102:\ttotal: 1.06s\tremaining: 482ms\n",
            "103:\ttotal: 1.08s\tremaining: 478ms\n",
            "104:\ttotal: 1.1s\tremaining: 472ms\n",
            "105:\ttotal: 1.12s\tremaining: 464ms\n",
            "106:\ttotal: 1.14s\tremaining: 459ms\n",
            "107:\ttotal: 1.16s\tremaining: 451ms\n",
            "108:\ttotal: 1.18s\tremaining: 445ms\n",
            "109:\ttotal: 1.21s\tremaining: 438ms\n",
            "110:\ttotal: 1.23s\tremaining: 430ms\n",
            "111:\ttotal: 1.25s\tremaining: 422ms\n",
            "112:\ttotal: 1.26s\tremaining: 414ms\n",
            "113:\ttotal: 1.28s\tremaining: 406ms\n",
            "114:\ttotal: 1.3s\tremaining: 397ms\n",
            "115:\ttotal: 1.33s\tremaining: 389ms\n",
            "116:\ttotal: 1.35s\tremaining: 382ms\n",
            "117:\ttotal: 1.37s\tremaining: 373ms\n",
            "118:\ttotal: 1.4s\tremaining: 365ms\n",
            "119:\ttotal: 1.42s\tremaining: 356ms\n",
            "120:\ttotal: 1.45s\tremaining: 347ms\n",
            "121:\ttotal: 1.47s\tremaining: 337ms\n",
            "122:\ttotal: 1.49s\tremaining: 326ms\n",
            "123:\ttotal: 1.51s\tremaining: 316ms\n",
            "124:\ttotal: 1.53s\tremaining: 306ms\n",
            "125:\ttotal: 1.55s\tremaining: 296ms\n",
            "126:\ttotal: 1.57s\tremaining: 285ms\n",
            "127:\ttotal: 1.6s\tremaining: 274ms\n",
            "128:\ttotal: 1.62s\tremaining: 263ms\n",
            "129:\ttotal: 1.64s\tremaining: 252ms\n",
            "130:\ttotal: 1.66s\tremaining: 240ms\n",
            "131:\ttotal: 1.68s\tremaining: 229ms\n",
            "132:\ttotal: 1.7s\tremaining: 217ms\n",
            "133:\ttotal: 1.72s\tremaining: 205ms\n",
            "134:\ttotal: 1.73s\tremaining: 193ms\n",
            "135:\ttotal: 1.75s\tremaining: 180ms\n",
            "136:\ttotal: 1.77s\tremaining: 168ms\n",
            "137:\ttotal: 1.79s\tremaining: 155ms\n",
            "138:\ttotal: 1.8s\tremaining: 143ms\n",
            "139:\ttotal: 1.83s\tremaining: 130ms\n",
            "140:\ttotal: 1.85s\tremaining: 118ms\n",
            "141:\ttotal: 1.87s\tremaining: 105ms\n",
            "142:\ttotal: 1.88s\tremaining: 92.2ms\n",
            "143:\ttotal: 1.9s\tremaining: 79.4ms\n",
            "144:\ttotal: 1.92s\tremaining: 66.2ms\n",
            "145:\ttotal: 1.94s\tremaining: 53.1ms\n",
            "146:\ttotal: 1.96s\tremaining: 40.1ms\n",
            "147:\ttotal: 1.98s\tremaining: 26.8ms\n",
            "148:\ttotal: 2s\tremaining: 13.4ms\n",
            "149:\ttotal: 2.02s\tremaining: 0us\n",
            "Learning rate set to 0.083391\n",
            "0:\ttotal: 24.8ms\tremaining: 4.94s\n",
            "1:\ttotal: 44.2ms\tremaining: 4.38s\n",
            "2:\ttotal: 71.3ms\tremaining: 4.68s\n",
            "3:\ttotal: 104ms\tremaining: 5.1s\n",
            "4:\ttotal: 144ms\tremaining: 5.63s\n",
            "5:\ttotal: 178ms\tremaining: 5.75s\n",
            "6:\ttotal: 208ms\tremaining: 5.74s\n",
            "7:\ttotal: 237ms\tremaining: 5.68s\n",
            "8:\ttotal: 268ms\tremaining: 5.69s\n",
            "9:\ttotal: 301ms\tremaining: 5.72s\n",
            "10:\ttotal: 321ms\tremaining: 5.51s\n",
            "11:\ttotal: 356ms\tremaining: 5.57s\n",
            "12:\ttotal: 388ms\tremaining: 5.57s\n",
            "13:\ttotal: 416ms\tremaining: 5.52s\n",
            "14:\ttotal: 453ms\tremaining: 5.59s\n",
            "15:\ttotal: 493ms\tremaining: 5.67s\n",
            "16:\ttotal: 517ms\tremaining: 5.57s\n",
            "17:\ttotal: 531ms\tremaining: 5.37s\n",
            "18:\ttotal: 544ms\tremaining: 5.18s\n",
            "19:\ttotal: 549ms\tremaining: 4.94s\n",
            "20:\ttotal: 564ms\tremaining: 4.8s\n",
            "21:\ttotal: 585ms\tremaining: 4.73s\n",
            "22:\ttotal: 599ms\tremaining: 4.61s\n",
            "23:\ttotal: 613ms\tremaining: 4.49s\n",
            "24:\ttotal: 627ms\tremaining: 4.39s\n",
            "25:\ttotal: 641ms\tremaining: 4.29s\n",
            "26:\ttotal: 659ms\tremaining: 4.22s\n",
            "27:\ttotal: 674ms\tremaining: 4.14s\n",
            "28:\ttotal: 689ms\tremaining: 4.06s\n",
            "29:\ttotal: 694ms\tremaining: 3.93s\n",
            "30:\ttotal: 716ms\tremaining: 3.9s\n",
            "31:\ttotal: 729ms\tremaining: 3.83s\n",
            "32:\ttotal: 744ms\tremaining: 3.77s\n",
            "33:\ttotal: 759ms\tremaining: 3.71s\n",
            "34:\ttotal: 775ms\tremaining: 3.65s\n",
            "35:\ttotal: 789ms\tremaining: 3.6s\n",
            "36:\ttotal: 805ms\tremaining: 3.55s\n",
            "37:\ttotal: 817ms\tremaining: 3.48s\n",
            "38:\ttotal: 830ms\tremaining: 3.43s\n",
            "39:\ttotal: 846ms\tremaining: 3.38s\n",
            "40:\ttotal: 862ms\tremaining: 3.34s\n",
            "41:\ttotal: 877ms\tremaining: 3.3s\n",
            "42:\ttotal: 892ms\tremaining: 3.25s\n",
            "43:\ttotal: 908ms\tremaining: 3.22s\n",
            "44:\ttotal: 923ms\tremaining: 3.18s\n",
            "45:\ttotal: 938ms\tremaining: 3.14s\n",
            "46:\ttotal: 952ms\tremaining: 3.1s\n",
            "47:\ttotal: 961ms\tremaining: 3.04s\n",
            "48:\ttotal: 974ms\tremaining: 3s\n",
            "49:\ttotal: 979ms\tremaining: 2.94s\n",
            "50:\ttotal: 995ms\tremaining: 2.91s\n",
            "51:\ttotal: 1s\tremaining: 2.85s\n",
            "52:\ttotal: 1.01s\tremaining: 2.81s\n",
            "53:\ttotal: 1.03s\tremaining: 2.78s\n",
            "54:\ttotal: 1.04s\tremaining: 2.75s\n",
            "55:\ttotal: 1.05s\tremaining: 2.71s\n",
            "56:\ttotal: 1.07s\tremaining: 2.68s\n",
            "57:\ttotal: 1.08s\tremaining: 2.64s\n",
            "58:\ttotal: 1.09s\tremaining: 2.61s\n",
            "59:\ttotal: 1.11s\tremaining: 2.58s\n",
            "60:\ttotal: 1.12s\tremaining: 2.55s\n",
            "61:\ttotal: 1.13s\tremaining: 2.52s\n",
            "62:\ttotal: 1.15s\tremaining: 2.5s\n",
            "63:\ttotal: 1.16s\tremaining: 2.48s\n",
            "64:\ttotal: 1.17s\tremaining: 2.43s\n",
            "65:\ttotal: 1.18s\tremaining: 2.4s\n",
            "66:\ttotal: 1.19s\tremaining: 2.37s\n",
            "67:\ttotal: 1.21s\tremaining: 2.34s\n",
            "68:\ttotal: 1.22s\tremaining: 2.32s\n",
            "69:\ttotal: 1.23s\tremaining: 2.29s\n",
            "70:\ttotal: 1.25s\tremaining: 2.27s\n",
            "71:\ttotal: 1.26s\tremaining: 2.25s\n",
            "72:\ttotal: 1.27s\tremaining: 2.22s\n",
            "73:\ttotal: 1.28s\tremaining: 2.18s\n",
            "74:\ttotal: 1.29s\tremaining: 2.16s\n",
            "75:\ttotal: 1.3s\tremaining: 2.13s\n",
            "76:\ttotal: 1.32s\tremaining: 2.11s\n",
            "77:\ttotal: 1.32s\tremaining: 2.07s\n",
            "78:\ttotal: 1.34s\tremaining: 2.05s\n",
            "79:\ttotal: 1.35s\tremaining: 2.03s\n",
            "80:\ttotal: 1.37s\tremaining: 2.01s\n",
            "81:\ttotal: 1.38s\tremaining: 1.99s\n",
            "82:\ttotal: 1.39s\tremaining: 1.96s\n",
            "83:\ttotal: 1.41s\tremaining: 1.95s\n",
            "84:\ttotal: 1.41s\tremaining: 1.91s\n",
            "85:\ttotal: 1.43s\tremaining: 1.89s\n",
            "86:\ttotal: 1.43s\tremaining: 1.86s\n",
            "87:\ttotal: 1.45s\tremaining: 1.84s\n",
            "88:\ttotal: 1.46s\tremaining: 1.82s\n",
            "89:\ttotal: 1.47s\tremaining: 1.8s\n",
            "90:\ttotal: 1.49s\tremaining: 1.78s\n",
            "91:\ttotal: 1.5s\tremaining: 1.76s\n",
            "92:\ttotal: 1.52s\tremaining: 1.75s\n",
            "93:\ttotal: 1.53s\tremaining: 1.73s\n",
            "94:\ttotal: 1.55s\tremaining: 1.71s\n",
            "95:\ttotal: 1.57s\tremaining: 1.7s\n",
            "96:\ttotal: 1.59s\tremaining: 1.69s\n",
            "97:\ttotal: 1.6s\tremaining: 1.67s\n",
            "98:\ttotal: 1.61s\tremaining: 1.65s\n",
            "99:\ttotal: 1.63s\tremaining: 1.63s\n",
            "100:\ttotal: 1.65s\tremaining: 1.61s\n",
            "101:\ttotal: 1.66s\tremaining: 1.59s\n",
            "102:\ttotal: 1.68s\tremaining: 1.58s\n",
            "103:\ttotal: 1.69s\tremaining: 1.56s\n",
            "104:\ttotal: 1.71s\tremaining: 1.54s\n",
            "105:\ttotal: 1.72s\tremaining: 1.52s\n",
            "106:\ttotal: 1.73s\tremaining: 1.51s\n",
            "107:\ttotal: 1.75s\tremaining: 1.49s\n",
            "108:\ttotal: 1.76s\tremaining: 1.47s\n",
            "109:\ttotal: 1.78s\tremaining: 1.46s\n",
            "110:\ttotal: 1.79s\tremaining: 1.44s\n",
            "111:\ttotal: 1.81s\tremaining: 1.42s\n",
            "112:\ttotal: 1.82s\tremaining: 1.4s\n",
            "113:\ttotal: 1.84s\tremaining: 1.39s\n",
            "114:\ttotal: 1.85s\tremaining: 1.37s\n",
            "115:\ttotal: 1.87s\tremaining: 1.35s\n",
            "116:\ttotal: 1.89s\tremaining: 1.34s\n",
            "117:\ttotal: 1.9s\tremaining: 1.32s\n",
            "118:\ttotal: 1.92s\tremaining: 1.3s\n",
            "119:\ttotal: 1.93s\tremaining: 1.29s\n",
            "120:\ttotal: 1.95s\tremaining: 1.27s\n",
            "121:\ttotal: 1.97s\tremaining: 1.26s\n",
            "122:\ttotal: 1.98s\tremaining: 1.24s\n",
            "123:\ttotal: 2s\tremaining: 1.22s\n",
            "124:\ttotal: 2.01s\tremaining: 1.21s\n",
            "125:\ttotal: 2.03s\tremaining: 1.19s\n",
            "126:\ttotal: 2.04s\tremaining: 1.17s\n",
            "127:\ttotal: 2.06s\tremaining: 1.16s\n",
            "128:\ttotal: 2.07s\tremaining: 1.14s\n",
            "129:\ttotal: 2.09s\tremaining: 1.13s\n",
            "130:\ttotal: 2.1s\tremaining: 1.11s\n",
            "131:\ttotal: 2.12s\tremaining: 1.09s\n",
            "132:\ttotal: 2.13s\tremaining: 1.07s\n",
            "133:\ttotal: 2.15s\tremaining: 1.06s\n",
            "134:\ttotal: 2.16s\tremaining: 1.04s\n",
            "135:\ttotal: 2.18s\tremaining: 1.03s\n",
            "136:\ttotal: 2.2s\tremaining: 1.01s\n",
            "137:\ttotal: 2.21s\tremaining: 994ms\n",
            "138:\ttotal: 2.23s\tremaining: 978ms\n",
            "139:\ttotal: 2.24s\tremaining: 961ms\n",
            "140:\ttotal: 2.26s\tremaining: 945ms\n",
            "141:\ttotal: 2.27s\tremaining: 928ms\n",
            "142:\ttotal: 2.29s\tremaining: 912ms\n",
            "143:\ttotal: 2.31s\tremaining: 897ms\n",
            "144:\ttotal: 2.32s\tremaining: 880ms\n",
            "145:\ttotal: 2.33s\tremaining: 864ms\n",
            "146:\ttotal: 2.35s\tremaining: 847ms\n",
            "147:\ttotal: 2.37s\tremaining: 831ms\n",
            "148:\ttotal: 2.38s\tremaining: 814ms\n",
            "149:\ttotal: 2.39s\tremaining: 798ms\n",
            "150:\ttotal: 2.41s\tremaining: 782ms\n",
            "151:\ttotal: 2.42s\tremaining: 765ms\n",
            "152:\ttotal: 2.44s\tremaining: 749ms\n",
            "153:\ttotal: 2.45s\tremaining: 733ms\n",
            "154:\ttotal: 2.47s\tremaining: 717ms\n",
            "155:\ttotal: 2.49s\tremaining: 701ms\n",
            "156:\ttotal: 2.5s\tremaining: 686ms\n",
            "157:\ttotal: 2.52s\tremaining: 670ms\n",
            "158:\ttotal: 2.54s\tremaining: 654ms\n",
            "159:\ttotal: 2.55s\tremaining: 639ms\n",
            "160:\ttotal: 2.58s\tremaining: 625ms\n",
            "161:\ttotal: 2.59s\tremaining: 609ms\n",
            "162:\ttotal: 2.61s\tremaining: 592ms\n",
            "163:\ttotal: 2.63s\tremaining: 576ms\n",
            "164:\ttotal: 2.64s\tremaining: 560ms\n",
            "165:\ttotal: 2.66s\tremaining: 544ms\n",
            "166:\ttotal: 2.67s\tremaining: 528ms\n",
            "167:\ttotal: 2.7s\tremaining: 514ms\n",
            "168:\ttotal: 2.71s\tremaining: 498ms\n",
            "169:\ttotal: 2.73s\tremaining: 482ms\n",
            "170:\ttotal: 2.74s\tremaining: 465ms\n",
            "171:\ttotal: 2.77s\tremaining: 451ms\n",
            "172:\ttotal: 2.79s\tremaining: 435ms\n",
            "173:\ttotal: 2.8s\tremaining: 418ms\n",
            "174:\ttotal: 2.81s\tremaining: 402ms\n",
            "175:\ttotal: 2.83s\tremaining: 386ms\n",
            "176:\ttotal: 2.85s\tremaining: 370ms\n",
            "177:\ttotal: 2.86s\tremaining: 354ms\n",
            "178:\ttotal: 2.88s\tremaining: 338ms\n",
            "179:\ttotal: 2.89s\tremaining: 321ms\n",
            "180:\ttotal: 2.91s\tremaining: 306ms\n",
            "181:\ttotal: 2.93s\tremaining: 290ms\n",
            "182:\ttotal: 2.94s\tremaining: 274ms\n",
            "183:\ttotal: 2.96s\tremaining: 257ms\n",
            "184:\ttotal: 2.98s\tremaining: 241ms\n",
            "185:\ttotal: 2.99s\tremaining: 225ms\n",
            "186:\ttotal: 3s\tremaining: 209ms\n",
            "187:\ttotal: 3.02s\tremaining: 193ms\n",
            "188:\ttotal: 3.04s\tremaining: 177ms\n",
            "189:\ttotal: 3.05s\tremaining: 161ms\n",
            "190:\ttotal: 3.07s\tremaining: 145ms\n",
            "191:\ttotal: 3.08s\tremaining: 129ms\n",
            "192:\ttotal: 3.1s\tremaining: 112ms\n",
            "193:\ttotal: 3.12s\tremaining: 96.5ms\n",
            "194:\ttotal: 3.14s\tremaining: 80.6ms\n",
            "195:\ttotal: 3.16s\tremaining: 64.5ms\n",
            "196:\ttotal: 3.17s\tremaining: 48.3ms\n",
            "197:\ttotal: 3.19s\tremaining: 32.2ms\n",
            "198:\ttotal: 3.2s\tremaining: 16.1ms\n",
            "199:\ttotal: 3.22s\tremaining: 0us\n",
            "Learning rate set to 0.06796\n",
            "0:\ttotal: 16.3ms\tremaining: 4.07s\n",
            "1:\ttotal: 46.3ms\tremaining: 5.74s\n",
            "2:\ttotal: 52.4ms\tremaining: 4.32s\n",
            "3:\ttotal: 67.4ms\tremaining: 4.14s\n",
            "4:\ttotal: 81ms\tremaining: 3.97s\n",
            "5:\ttotal: 94.8ms\tremaining: 3.85s\n",
            "6:\ttotal: 111ms\tremaining: 3.87s\n",
            "7:\ttotal: 124ms\tremaining: 3.77s\n",
            "8:\ttotal: 139ms\tremaining: 3.73s\n",
            "9:\ttotal: 153ms\tremaining: 3.67s\n",
            "10:\ttotal: 166ms\tremaining: 3.6s\n",
            "11:\ttotal: 185ms\tremaining: 3.66s\n",
            "12:\ttotal: 198ms\tremaining: 3.61s\n",
            "13:\ttotal: 209ms\tremaining: 3.52s\n",
            "14:\ttotal: 224ms\tremaining: 3.5s\n",
            "15:\ttotal: 238ms\tremaining: 3.47s\n",
            "16:\ttotal: 253ms\tremaining: 3.47s\n",
            "17:\ttotal: 281ms\tremaining: 3.62s\n",
            "18:\ttotal: 289ms\tremaining: 3.51s\n",
            "19:\ttotal: 304ms\tremaining: 3.5s\n",
            "20:\ttotal: 317ms\tremaining: 3.46s\n",
            "21:\ttotal: 330ms\tremaining: 3.42s\n",
            "22:\ttotal: 343ms\tremaining: 3.39s\n",
            "23:\ttotal: 357ms\tremaining: 3.36s\n",
            "24:\ttotal: 371ms\tremaining: 3.34s\n",
            "25:\ttotal: 386ms\tremaining: 3.33s\n",
            "26:\ttotal: 392ms\tremaining: 3.24s\n",
            "27:\ttotal: 407ms\tremaining: 3.23s\n",
            "28:\ttotal: 422ms\tremaining: 3.21s\n",
            "29:\ttotal: 435ms\tremaining: 3.19s\n",
            "30:\ttotal: 448ms\tremaining: 3.17s\n",
            "31:\ttotal: 467ms\tremaining: 3.18s\n",
            "32:\ttotal: 481ms\tremaining: 3.16s\n",
            "33:\ttotal: 492ms\tremaining: 3.12s\n",
            "34:\ttotal: 504ms\tremaining: 3.1s\n",
            "35:\ttotal: 507ms\tremaining: 3.01s\n",
            "36:\ttotal: 519ms\tremaining: 2.99s\n",
            "37:\ttotal: 534ms\tremaining: 2.98s\n",
            "38:\ttotal: 546ms\tremaining: 2.95s\n",
            "39:\ttotal: 560ms\tremaining: 2.94s\n",
            "40:\ttotal: 574ms\tremaining: 2.92s\n",
            "41:\ttotal: 589ms\tremaining: 2.92s\n",
            "42:\ttotal: 603ms\tremaining: 2.9s\n",
            "43:\ttotal: 619ms\tremaining: 2.9s\n",
            "44:\ttotal: 634ms\tremaining: 2.89s\n",
            "45:\ttotal: 649ms\tremaining: 2.88s\n",
            "46:\ttotal: 665ms\tremaining: 2.87s\n",
            "47:\ttotal: 682ms\tremaining: 2.87s\n",
            "48:\ttotal: 697ms\tremaining: 2.86s\n",
            "49:\ttotal: 706ms\tremaining: 2.82s\n",
            "50:\ttotal: 720ms\tremaining: 2.81s\n",
            "51:\ttotal: 734ms\tremaining: 2.79s\n",
            "52:\ttotal: 748ms\tremaining: 2.78s\n",
            "53:\ttotal: 764ms\tremaining: 2.77s\n",
            "54:\ttotal: 779ms\tremaining: 2.76s\n",
            "55:\ttotal: 792ms\tremaining: 2.74s\n",
            "56:\ttotal: 806ms\tremaining: 2.73s\n",
            "57:\ttotal: 821ms\tremaining: 2.72s\n",
            "58:\ttotal: 836ms\tremaining: 2.71s\n",
            "59:\ttotal: 839ms\tremaining: 2.66s\n",
            "60:\ttotal: 844ms\tremaining: 2.61s\n",
            "61:\ttotal: 850ms\tremaining: 2.58s\n",
            "62:\ttotal: 864ms\tremaining: 2.56s\n",
            "63:\ttotal: 883ms\tremaining: 2.57s\n",
            "64:\ttotal: 897ms\tremaining: 2.55s\n",
            "65:\ttotal: 912ms\tremaining: 2.54s\n",
            "66:\ttotal: 925ms\tremaining: 2.53s\n",
            "67:\ttotal: 931ms\tremaining: 2.49s\n",
            "68:\ttotal: 940ms\tremaining: 2.47s\n",
            "69:\ttotal: 949ms\tremaining: 2.44s\n",
            "70:\ttotal: 964ms\tremaining: 2.43s\n",
            "71:\ttotal: 978ms\tremaining: 2.42s\n",
            "72:\ttotal: 995ms\tremaining: 2.41s\n",
            "73:\ttotal: 1.01s\tremaining: 2.4s\n",
            "74:\ttotal: 1.03s\tremaining: 2.39s\n",
            "75:\ttotal: 1.04s\tremaining: 2.38s\n",
            "76:\ttotal: 1.06s\tremaining: 2.37s\n",
            "77:\ttotal: 1.07s\tremaining: 2.36s\n",
            "78:\ttotal: 1.09s\tremaining: 2.36s\n",
            "79:\ttotal: 1.1s\tremaining: 2.35s\n",
            "80:\ttotal: 1.11s\tremaining: 2.31s\n",
            "81:\ttotal: 1.13s\tremaining: 2.31s\n",
            "82:\ttotal: 1.14s\tremaining: 2.29s\n",
            "83:\ttotal: 1.15s\tremaining: 2.28s\n",
            "84:\ttotal: 1.16s\tremaining: 2.24s\n",
            "85:\ttotal: 1.17s\tremaining: 2.23s\n",
            "86:\ttotal: 1.19s\tremaining: 2.22s\n",
            "87:\ttotal: 1.19s\tremaining: 2.19s\n",
            "88:\ttotal: 1.2s\tremaining: 2.18s\n",
            "89:\ttotal: 1.22s\tremaining: 2.17s\n",
            "90:\ttotal: 1.23s\tremaining: 2.15s\n",
            "91:\ttotal: 1.25s\tremaining: 2.14s\n",
            "92:\ttotal: 1.28s\tremaining: 2.15s\n",
            "93:\ttotal: 1.28s\tremaining: 2.13s\n",
            "94:\ttotal: 1.3s\tremaining: 2.12s\n",
            "95:\ttotal: 1.31s\tremaining: 2.11s\n",
            "96:\ttotal: 1.33s\tremaining: 2.1s\n",
            "97:\ttotal: 1.33s\tremaining: 2.07s\n",
            "98:\ttotal: 1.35s\tremaining: 2.06s\n",
            "99:\ttotal: 1.36s\tremaining: 2.04s\n",
            "100:\ttotal: 1.38s\tremaining: 2.03s\n",
            "101:\ttotal: 1.39s\tremaining: 2.02s\n",
            "102:\ttotal: 1.4s\tremaining: 2s\n",
            "103:\ttotal: 1.42s\tremaining: 1.99s\n",
            "104:\ttotal: 1.44s\tremaining: 1.99s\n",
            "105:\ttotal: 1.46s\tremaining: 1.98s\n",
            "106:\ttotal: 1.47s\tremaining: 1.97s\n",
            "107:\ttotal: 1.49s\tremaining: 1.96s\n",
            "108:\ttotal: 1.51s\tremaining: 1.95s\n",
            "109:\ttotal: 1.52s\tremaining: 1.94s\n",
            "110:\ttotal: 1.54s\tremaining: 1.92s\n",
            "111:\ttotal: 1.55s\tremaining: 1.91s\n",
            "112:\ttotal: 1.56s\tremaining: 1.9s\n",
            "113:\ttotal: 1.58s\tremaining: 1.89s\n",
            "114:\ttotal: 1.59s\tremaining: 1.87s\n",
            "115:\ttotal: 1.61s\tremaining: 1.86s\n",
            "116:\ttotal: 1.62s\tremaining: 1.84s\n",
            "117:\ttotal: 1.64s\tremaining: 1.83s\n",
            "118:\ttotal: 1.65s\tremaining: 1.82s\n",
            "119:\ttotal: 1.67s\tremaining: 1.8s\n",
            "120:\ttotal: 1.68s\tremaining: 1.79s\n",
            "121:\ttotal: 1.7s\tremaining: 1.78s\n",
            "122:\ttotal: 1.71s\tremaining: 1.77s\n",
            "123:\ttotal: 1.73s\tremaining: 1.76s\n",
            "124:\ttotal: 1.74s\tremaining: 1.74s\n",
            "125:\ttotal: 1.76s\tremaining: 1.73s\n",
            "126:\ttotal: 1.77s\tremaining: 1.72s\n",
            "127:\ttotal: 1.79s\tremaining: 1.7s\n",
            "128:\ttotal: 1.79s\tremaining: 1.68s\n",
            "129:\ttotal: 1.81s\tremaining: 1.67s\n",
            "130:\ttotal: 1.82s\tremaining: 1.66s\n",
            "131:\ttotal: 1.83s\tremaining: 1.64s\n",
            "132:\ttotal: 1.84s\tremaining: 1.62s\n",
            "133:\ttotal: 1.86s\tremaining: 1.61s\n",
            "134:\ttotal: 1.88s\tremaining: 1.6s\n",
            "135:\ttotal: 1.89s\tremaining: 1.59s\n",
            "136:\ttotal: 1.91s\tremaining: 1.57s\n",
            "137:\ttotal: 1.92s\tremaining: 1.56s\n",
            "138:\ttotal: 1.93s\tremaining: 1.54s\n",
            "139:\ttotal: 1.95s\tremaining: 1.53s\n",
            "140:\ttotal: 1.96s\tremaining: 1.51s\n",
            "141:\ttotal: 1.97s\tremaining: 1.5s\n",
            "142:\ttotal: 1.99s\tremaining: 1.49s\n",
            "143:\ttotal: 2s\tremaining: 1.48s\n",
            "144:\ttotal: 2.02s\tremaining: 1.46s\n",
            "145:\ttotal: 2.03s\tremaining: 1.45s\n",
            "146:\ttotal: 2.05s\tremaining: 1.43s\n",
            "147:\ttotal: 2.06s\tremaining: 1.42s\n",
            "148:\ttotal: 2.08s\tremaining: 1.41s\n",
            "149:\ttotal: 2.09s\tremaining: 1.4s\n",
            "150:\ttotal: 2.11s\tremaining: 1.38s\n",
            "151:\ttotal: 2.13s\tremaining: 1.37s\n",
            "152:\ttotal: 2.15s\tremaining: 1.36s\n",
            "153:\ttotal: 2.16s\tremaining: 1.35s\n",
            "154:\ttotal: 2.17s\tremaining: 1.33s\n",
            "155:\ttotal: 2.19s\tremaining: 1.32s\n",
            "156:\ttotal: 2.2s\tremaining: 1.3s\n",
            "157:\ttotal: 2.22s\tremaining: 1.29s\n",
            "158:\ttotal: 2.23s\tremaining: 1.28s\n",
            "159:\ttotal: 2.25s\tremaining: 1.26s\n",
            "160:\ttotal: 2.28s\tremaining: 1.26s\n",
            "161:\ttotal: 2.29s\tremaining: 1.24s\n",
            "162:\ttotal: 2.3s\tremaining: 1.23s\n",
            "163:\ttotal: 2.32s\tremaining: 1.22s\n",
            "164:\ttotal: 2.34s\tremaining: 1.2s\n",
            "165:\ttotal: 2.35s\tremaining: 1.19s\n",
            "166:\ttotal: 2.37s\tremaining: 1.18s\n",
            "167:\ttotal: 2.38s\tremaining: 1.16s\n",
            "168:\ttotal: 2.4s\tremaining: 1.15s\n",
            "169:\ttotal: 2.41s\tremaining: 1.13s\n",
            "170:\ttotal: 2.42s\tremaining: 1.12s\n",
            "171:\ttotal: 2.44s\tremaining: 1.11s\n",
            "172:\ttotal: 2.46s\tremaining: 1.09s\n",
            "173:\ttotal: 2.47s\tremaining: 1.08s\n",
            "174:\ttotal: 2.48s\tremaining: 1.06s\n",
            "175:\ttotal: 2.5s\tremaining: 1.05s\n",
            "176:\ttotal: 2.52s\tremaining: 1.04s\n",
            "177:\ttotal: 2.54s\tremaining: 1.03s\n",
            "178:\ttotal: 2.55s\tremaining: 1.01s\n",
            "179:\ttotal: 2.57s\tremaining: 999ms\n",
            "180:\ttotal: 2.58s\tremaining: 985ms\n",
            "181:\ttotal: 2.6s\tremaining: 971ms\n",
            "182:\ttotal: 2.61s\tremaining: 957ms\n",
            "183:\ttotal: 2.63s\tremaining: 943ms\n",
            "184:\ttotal: 2.64s\tremaining: 928ms\n",
            "185:\ttotal: 2.66s\tremaining: 914ms\n",
            "186:\ttotal: 2.67s\tremaining: 900ms\n",
            "187:\ttotal: 2.69s\tremaining: 886ms\n",
            "188:\ttotal: 2.7s\tremaining: 872ms\n",
            "189:\ttotal: 2.72s\tremaining: 858ms\n",
            "190:\ttotal: 2.73s\tremaining: 844ms\n",
            "191:\ttotal: 2.75s\tremaining: 832ms\n",
            "192:\ttotal: 2.77s\tremaining: 817ms\n",
            "193:\ttotal: 2.79s\tremaining: 804ms\n",
            "194:\ttotal: 2.8s\tremaining: 790ms\n",
            "195:\ttotal: 2.81s\tremaining: 776ms\n",
            "196:\ttotal: 2.83s\tremaining: 761ms\n",
            "197:\ttotal: 2.84s\tremaining: 746ms\n",
            "198:\ttotal: 2.86s\tremaining: 732ms\n",
            "199:\ttotal: 2.87s\tremaining: 718ms\n",
            "200:\ttotal: 2.89s\tremaining: 704ms\n",
            "201:\ttotal: 2.9s\tremaining: 689ms\n",
            "202:\ttotal: 2.91s\tremaining: 675ms\n",
            "203:\ttotal: 2.93s\tremaining: 660ms\n",
            "204:\ttotal: 2.95s\tremaining: 648ms\n",
            "205:\ttotal: 2.97s\tremaining: 634ms\n",
            "206:\ttotal: 2.98s\tremaining: 619ms\n",
            "207:\ttotal: 3s\tremaining: 605ms\n",
            "208:\ttotal: 3.01s\tremaining: 591ms\n",
            "209:\ttotal: 3.02s\tremaining: 576ms\n",
            "210:\ttotal: 3.04s\tremaining: 562ms\n",
            "211:\ttotal: 3.05s\tremaining: 548ms\n",
            "212:\ttotal: 3.07s\tremaining: 533ms\n",
            "213:\ttotal: 3.08s\tremaining: 519ms\n",
            "214:\ttotal: 3.1s\tremaining: 504ms\n",
            "215:\ttotal: 3.12s\tremaining: 490ms\n",
            "216:\ttotal: 3.13s\tremaining: 476ms\n",
            "217:\ttotal: 3.15s\tremaining: 462ms\n",
            "218:\ttotal: 3.17s\tremaining: 448ms\n",
            "219:\ttotal: 3.18s\tremaining: 434ms\n",
            "220:\ttotal: 3.2s\tremaining: 419ms\n",
            "221:\ttotal: 3.21s\tremaining: 405ms\n",
            "222:\ttotal: 3.23s\tremaining: 391ms\n",
            "223:\ttotal: 3.24s\tremaining: 376ms\n",
            "224:\ttotal: 3.27s\tremaining: 363ms\n",
            "225:\ttotal: 3.28s\tremaining: 348ms\n",
            "226:\ttotal: 3.29s\tremaining: 334ms\n",
            "227:\ttotal: 3.31s\tremaining: 320ms\n",
            "228:\ttotal: 3.33s\tremaining: 306ms\n",
            "229:\ttotal: 3.37s\tremaining: 293ms\n",
            "230:\ttotal: 3.4s\tremaining: 280ms\n",
            "231:\ttotal: 3.41s\tremaining: 265ms\n",
            "232:\ttotal: 3.43s\tremaining: 250ms\n",
            "233:\ttotal: 3.44s\tremaining: 235ms\n",
            "234:\ttotal: 3.46s\tremaining: 221ms\n",
            "235:\ttotal: 3.47s\tremaining: 206ms\n",
            "236:\ttotal: 3.49s\tremaining: 191ms\n",
            "237:\ttotal: 3.5s\tremaining: 177ms\n",
            "238:\ttotal: 3.52s\tremaining: 162ms\n",
            "239:\ttotal: 3.53s\tremaining: 147ms\n",
            "240:\ttotal: 3.55s\tremaining: 133ms\n",
            "241:\ttotal: 3.56s\tremaining: 118ms\n",
            "242:\ttotal: 3.58s\tremaining: 103ms\n",
            "243:\ttotal: 3.6s\tremaining: 88.5ms\n",
            "244:\ttotal: 3.62s\tremaining: 73.8ms\n",
            "245:\ttotal: 3.63s\tremaining: 59ms\n",
            "246:\ttotal: 3.65s\tremaining: 44.3ms\n",
            "247:\ttotal: 3.66s\tremaining: 29.5ms\n",
            "248:\ttotal: 3.67s\tremaining: 14.8ms\n",
            "249:\ttotal: 3.69s\tremaining: 0us\n"
          ]
        }
      ]
    },
    {
      "cell_type": "code",
      "source": [
        "arg = np.argmax(res[:,0])\n",
        "n_est = n_estimators[arg]\n",
        "print(f'roc_auc test: {res[arg, 1]}  n_estimators={n_est}')"
      ],
      "metadata": {
        "colab": {
          "base_uri": "https://localhost:8080/"
        },
        "id": "3W3ff_HlqzlH",
        "outputId": "c3dc699f-28b0-4c6b-fd4b-ca08ebed9f9e"
      },
      "execution_count": null,
      "outputs": [
        {
          "output_type": "stream",
          "name": "stdout",
          "text": [
            "roc_auc test: 0.8189179080355741  n_estimators=100\n"
          ]
        }
      ]
    },
    {
      "cell_type": "markdown",
      "source": [
        "### Результат бустинга"
      ],
      "metadata": {
        "id": "td7oW4SydSDR"
      }
    },
    {
      "cell_type": "code",
      "source": [
        "boost = model[arg]\n",
        "test_boost = boost.predict_proba(data_test)"
      ],
      "metadata": {
        "id": "s-BCe9Zpyu2q"
      },
      "execution_count": null,
      "outputs": []
    },
    {
      "cell_type": "code",
      "source": [
        "submit = pd.read_csv('/content/submission.csv', index_col='Id') #/kaggle/input/advanced-dls-spring-2021/submission.csv\n",
        "\n",
        "submit['Churn'] = test_boost[:,1]\n",
        "\n",
        "submit.to_csv('submission.csv')"
      ],
      "metadata": {
        "id": "SFvckNRM0-nR"
      },
      "execution_count": null,
      "outputs": []
    }
  ]
}