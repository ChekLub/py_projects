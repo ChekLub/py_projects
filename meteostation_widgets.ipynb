{
 "cells": [
  {
   "cell_type": "markdown",
   "id": "c864c775",
   "metadata": {},
   "source": [
    "1. Сделать функцию, которая интерактивно выводит метеостанции , находящиеся в выбранном диапазоне высот, с учетом полушария.\n",
    "Названия метеостанций и их координаты лежат в файле ghcnd-stations.txt. (Название станции, широтаЮ долгота, высота, ...)\n",
    "а) загрузить файл ghcnd-stations.txt \n",
    "\n",
    "б) найти зонд, который выше всех и зонд, который ниже всех относительно уровня моря - координаты и название населённого пункта\n",
    "\n",
    "в) перевести широту и долготу из градусов в радианы\n",
    "\n",
    "г) вывести список метеостанций (названия) с высотами в диапазоне, выбранном на ползунке\n",
    "\n",
    "д) сделать пункт г) в виде ф-ии - принимает кортеж из двух чисел (начальная и конечная высота), ничего не возвращает, печатает список станций print'ом\n",
    "\n",
    "е) добавить выборку по северному и южному полушарию"
   ]
  },
  {
   "cell_type": "code",
   "execution_count": 2,
   "id": "05d06b02",
   "metadata": {},
   "outputs": [],
   "source": [
    "import numpy as np\n",
    "import ipywidgets"
   ]
  },
  {
   "cell_type": "code",
   "execution_count": 3,
   "id": "056d88e6",
   "metadata": {},
   "outputs": [],
   "source": [
    "f = open('ghcnd-stations.txt', 'r')\n",
    "n = len(f.readlines())"
   ]
  },
  {
   "cell_type": "code",
   "execution_count": 4,
   "id": "94fd6172",
   "metadata": {},
   "outputs": [],
   "source": [
    "coords = np.empty((n, 3), dtype=np.float32)\n",
    "names = np.empty(n, dtype=(str, 30))"
   ]
  },
  {
   "cell_type": "code",
   "execution_count": 5,
   "id": "ad029093",
   "metadata": {},
   "outputs": [],
   "source": [
    "f.seek(0)\n",
    "for i, line in enumerate(f):\n",
    "    lst_coords = line[13:37].split(' ')\n",
    "    cnt_ = lst_coords.count('')\n",
    "    while cnt_ != 0:\n",
    "        lst_coords.remove('')\n",
    "        cnt_ -= 1\n",
    "        \n",
    "    for c in range(len(lst_coords)):\n",
    "        if lst_coords[2] == '-999.9': lst_coords[2] = np.nan\n",
    "        coords[i, c] = float(lst_coords[c])\n",
    "        \n",
    "    names[i] = line[41:72]    \n"
   ]
  },
  {
   "cell_type": "code",
   "execution_count": 7,
   "id": "cebf26ed",
   "metadata": {},
   "outputs": [
    {
     "name": "stdout",
     "output_type": "stream",
     "text": [
      "-350.0\n",
      "GHOR SAFI                     \n",
      "5033.0\n",
      "KAZBEK MOUNTAIN               \n"
     ]
    }
   ],
   "source": [
    "alt_real_mask = ~np.isnan(coords[:, 2])\n",
    "ind_mn_alt = np.argmin(coords[:, 2][alt_real_mask])\n",
    "alt_mn = coords[:, 2][alt_real_mask][ind_mn_alt]\n",
    "print(alt_mn)\n",
    "name_alt_mn = names[alt_real_mask][ind_alt_mn]\n",
    "print(name_alt_mn)\n",
    "\n",
    "ind_alt_mx = np.argmax(coords[:, 2][alt_real_mask])\n",
    "alt_mx = coords[:, 2][alt_real_mask][ind_alt_mx]\n",
    "print(alt_mx)\n",
    "name_alt_mx = names[alt_real_mask][ind_alt_mx]\n",
    "print(name_alt_mx)\n"
   ]
  },
  {
   "cell_type": "code",
   "execution_count": 8,
   "id": "cad4245a",
   "metadata": {},
   "outputs": [],
   "source": [
    "np.radians(coords[:, :2]);\n",
    "stations = np.column_stack((names, coords))"
   ]
  },
  {
   "cell_type": "code",
   "execution_count": 9,
   "id": "1632f6c4",
   "metadata": {},
   "outputs": [],
   "source": [
    "altitude_widget = ipywidgets.FloatRangeSlider(\n",
    "    min = alt_mn,\n",
    "    max = alt_mx,\n",
    "    step = 10,\n",
    "    value = (alt_mn, alt_mx),\n",
    "    description = ''\n",
    "    )\n",
    "#altitude_widget"
   ]
  },
  {
   "cell_type": "code",
   "execution_count": 10,
   "id": "a256257f",
   "metadata": {},
   "outputs": [],
   "source": [
    "hemisphere_widget = ipywidgets.RadioButtons(\n",
    "    options = [('Северное полушарие', 'n'), ('Южное полушарие', 's')]\n",
    "    )\n",
    "#hemisphere_widget"
   ]
  },
  {
   "cell_type": "code",
   "execution_count": 11,
   "id": "cc382b4e",
   "metadata": {},
   "outputs": [],
   "source": [
    "def meteo_filter(alt_range, hemisphere):\n",
    "    mask =  (coords[:, 2]>= alt_range[0]) & (coords[:, 2]<= alt_range[1])\n",
    "    if hemisphere == 's':\n",
    "        mask &= coords[:, 0] >= 0\n",
    "    else:\n",
    "        mask &= coords[:, 0] <= 0\n",
    "    print(stations[mask])"
   ]
  },
  {
   "cell_type": "code",
   "execution_count": 12,
   "id": "51747479",
   "metadata": {},
   "outputs": [
    {
     "data": {
      "application/vnd.jupyter.widget-view+json": {
       "model_id": "7997d3e24d2c485a8419f23b248b8b29",
       "version_major": 2,
       "version_minor": 0
      },
      "text/plain": [
       "interactive(children=(FloatRangeSlider(value=(-350.0, 5033.0), description='alt_range', max=5033.0, min=-350.0…"
      ]
     },
     "metadata": {},
     "output_type": "display_data"
    },
    {
     "data": {
      "text/plain": [
       "<function __main__.meteo_filter(alt_range, hemisphere)>"
      ]
     },
     "execution_count": 12,
     "metadata": {},
     "output_type": "execute_result"
    }
   ],
   "source": [
    "ipywidgets.interact(meteo_filter,\n",
    "                    alt_range = altitude_widget,\n",
    "                    hemisphere = hemisphere_widget)"
   ]
  },
  {
   "cell_type": "code",
   "execution_count": null,
   "id": "84ea25a3",
   "metadata": {},
   "outputs": [],
   "source": []
  }
 ],
 "metadata": {
  "kernelspec": {
   "display_name": "Python 3 (ipykernel)",
   "language": "python",
   "name": "python3"
  },
  "language_info": {
   "codemirror_mode": {
    "name": "ipython",
    "version": 3
   },
   "file_extension": ".py",
   "mimetype": "text/x-python",
   "name": "python",
   "nbconvert_exporter": "python",
   "pygments_lexer": "ipython3",
   "version": "3.10.6"
  }
 },
 "nbformat": 4,
 "nbformat_minor": 5
}
